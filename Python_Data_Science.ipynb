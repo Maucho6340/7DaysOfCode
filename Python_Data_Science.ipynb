{
  "nbformat": 4,
  "nbformat_minor": 0,
  "metadata": {
    "colab": {
      "provenance": [],
      "include_colab_link": true
    },
    "kernelspec": {
      "name": "python3",
      "display_name": "Python 3"
    },
    "language_info": {
      "name": "python"
    }
  },
  "cells": [
    {
      "cell_type": "markdown",
      "metadata": {
        "id": "view-in-github",
        "colab_type": "text"
      },
      "source": [
        "<a href=\"https://colab.research.google.com/github/Maucho6340/7DaysOfCode/blob/main/Python_Data_Science.ipynb\" target=\"_parent\"><img src=\"https://colab.research.google.com/assets/colab-badge.svg\" alt=\"Open In Colab\"/></a>"
      ]
    },
    {
      "cell_type": "markdown",
      "source": [
        "# Python para Data Science\n",
        "\n",
        "Notebook para el curso de Python para Data Science publicado en la plataforma de [Alura Latam](https://www.aluracursos.com/)"
      ],
      "metadata": {
        "id": "lQx6Mmv0OJyT"
      }
    },
    {
      "cell_type": "markdown",
      "source": [
        "# Introducción a Python\n",
        "¡Vamos a conocer Python, nuestro ambiente de estudio, y también generaremos nuestro primer código en este lenguaje!"
      ],
      "metadata": {
        "id": "7SiB6JIpYKmY"
      }
    },
    {
      "cell_type": "markdown",
      "source": [
        "## Google Colaboratory\n",
        "\n",
        "Ya aprendimos qué es [Python](https://www.python.org/) y ahora aprenderemos a usar nuestra herramienta de ejecución [Google Colaboratory](https://colab.research.google.com/) para programar en un notebook interactivo.\n",
        "\n",
        "Vamos a probar algunas funciones de este ambiente."
      ],
      "metadata": {
        "id": "Yugfb3fCOYY9"
      }
    },
    {
      "cell_type": "markdown",
      "source": [
        " **`>>> Usa esta celda para mover <<<`**"
      ],
      "metadata": {
        "id": "2iUHQsJasJAk"
      }
    },
    {
      "cell_type": "code",
      "source": [],
      "metadata": {
        "id": "o7jrX_iKhdkU"
      },
      "execution_count": null,
      "outputs": []
    },
    {
      "cell_type": "markdown",
      "source": [
        "## ¡Hola mundo!\n",
        "\n",
        "Vamos a conocer un poco más de cerca nuestro notebook. Para ello ejecutaremos nuestro primer comando en Python: [`print()`](https://docs.python.org/3/library/functions.html#print)"
      ],
      "metadata": {
        "id": "aLSFP2V7XTfe"
      }
    },
    {
      "cell_type": "markdown",
      "source": [
        "# Manipulando los datos\n",
        "\n",
        "Vamos a aprender sobre las variables en Python, cómo declararlas y utilizarlas además de conocer otros comandos de este lenguaje. :D"
      ],
      "metadata": {
        "id": "iP8uWQmFYFRs"
      }
    },
    {
      "cell_type": "code",
      "source": [
        "print ('Hola Mundo')"
      ],
      "metadata": {
        "colab": {
          "base_uri": "https://localhost:8080/"
        },
        "id": "EGXB8k1Pk68q",
        "outputId": "031fed84-c3b8-4e4c-d6d7-22a415321f71"
      },
      "execution_count": 1,
      "outputs": [
        {
          "output_type": "stream",
          "name": "stdout",
          "text": [
            "Hola Mundo\n"
          ]
        }
      ]
    },
    {
      "cell_type": "markdown",
      "source": [
        "Las variables en Python se crean cuando atribuimos un valor a ella.\n",
        "\n",
        "Para esto, colocamos el nombre de la variable, el signo de igual (`=`) y el valor que queremos atribuirle."
      ],
      "metadata": {
        "id": "lsCY0wahAbf6"
      }
    },
    {
      "cell_type": "code",
      "source": [
        "print ('Mi nombre es mauricio y me encanta la Sciencia de datos')"
      ],
      "metadata": {
        "colab": {
          "base_uri": "https://localhost:8080/"
        },
        "id": "jd_HpHP39gQV",
        "outputId": "bc4a3c9b-7062-49de-d20b-fc58c8060da2"
      },
      "execution_count": 2,
      "outputs": [
        {
          "output_type": "stream",
          "name": "stdout",
          "text": [
            "Mi nombre es mauricio y me encanta la Sciencia de datos\n"
          ]
        }
      ]
    },
    {
      "cell_type": "code",
      "source": [
        "nombre='Mauricio'\n",
        "apellido='Flores'\n",
        "print(*\"Mauricio Flores\", sep=\"\\n\")"
      ],
      "metadata": {
        "id": "vsHh5buZADND",
        "colab": {
          "base_uri": "https://localhost:8080/"
        },
        "outputId": "bf9c3fc8-7e4e-4708-d9c4-29b171e381e9"
      },
      "execution_count": 6,
      "outputs": [
        {
          "output_type": "stream",
          "name": "stdout",
          "text": [
            "M\n",
            "a\n",
            "u\n",
            "r\n",
            "i\n",
            "c\n",
            "i\n",
            "o\n",
            " \n",
            "F\n",
            "l\n",
            "o\n",
            "r\n",
            "e\n",
            "s\n"
          ]
        }
      ]
    },
    {
      "cell_type": "code",
      "source": [],
      "metadata": {
        "id": "sivPtqSjADQV"
      },
      "execution_count": null,
      "outputs": []
    },
    {
      "cell_type": "code",
      "source": [],
      "metadata": {
        "id": "JC8jO47wADlm"
      },
      "execution_count": null,
      "outputs": []
    },
    {
      "cell_type": "markdown",
      "source": [
        "Existen algunos tipos de nomes que **no** podemos definir para las variables:\n",
        "\n",
        "- **Nombres que comiencen con números**\n",
        "  - Ejemplos: `10_notas`, `2_nombre_casa`, etc.\n",
        "- **Palabras separadas por espacio**\n",
        "  - Ejemplos: `Nombre escuela`, `notas estudiantes`, etc.\n",
        "- **Nombres de funciones de Python**\n",
        "  - Ejemplos: `print`, `type`, etc."
      ],
      "metadata": {
        "id": "om2N0jHKAzwL"
      }
    },
    {
      "cell_type": "markdown",
      "source": [
        "> Las letras mayúsculas y minúsculas generarán diferentes variables. La variable `edad` es diferente de `Edad` que a su vez es diferente de `EDAD`:\n",
        "``` Python\n",
        "edad = 1\n",
        "Edad = 2\n",
        "EDAD = 3\n",
        "_edad = 4\n",
        "_edad_ = 5\n",
        "print(edad, Edad, EDAD, _edad, _edad_)\n",
        "1 2 3 4 5\n",
        "```"
      ],
      "metadata": {
        "id": "A19vY2GVMujB"
      }
    },
    {
      "cell_type": "markdown",
      "source": [
        "## Tipos de variables\n",
        "\n",
        "Cada variable contiene una clase específica con respecto al tipo de objeto al cual esta hace referencia. Estas clases serán diferentes de acuerdo con el tipo de dato que le sea atribuido a una variable.\n",
        "\n",
        "Para conocer la clase de cada elemento usamos la función [`type()`](https://docs.python.org/3/library/functions.html#type)"
      ],
      "metadata": {
        "id": "UqhzuBhBHsps"
      }
    },
    {
      "cell_type": "code",
      "source": [
        "numero=5\n",
        "type(numero), type(5), id(numero)"
      ],
      "metadata": {
        "id": "J5a9t73A_-PX",
        "colab": {
          "base_uri": "https://localhost:8080/"
        },
        "outputId": "958cd9de-a38c-4c60-822c-269004c63a03"
      },
      "execution_count": 4,
      "outputs": [
        {
          "output_type": "execute_result",
          "data": {
            "text/plain": [
              "(int, int, 10750984)"
            ]
          },
          "metadata": {},
          "execution_count": 4
        }
      ]
    },
    {
      "cell_type": "code",
      "source": [
        "numero=5.6\n",
        "type(numero), id(numero)"
      ],
      "metadata": {
        "id": "rqmO1ew-_-So",
        "colab": {
          "base_uri": "https://localhost:8080/"
        },
        "outputId": "9d315337-3795-4e64-eef4-033e879addea"
      },
      "execution_count": 5,
      "outputs": [
        {
          "output_type": "execute_result",
          "data": {
            "text/plain": [
              "(float, 137487576390320)"
            ]
          },
          "metadata": {},
          "execution_count": 5
        }
      ]
    },
    {
      "cell_type": "code",
      "source": [
        "nombre='Mauro'\n",
        "type(nombre), type('Mauro')"
      ],
      "metadata": {
        "id": "xkrPMkeY_-cP",
        "colab": {
          "base_uri": "https://localhost:8080/"
        },
        "outputId": "4eb22000-6f98-4795-b187-7a6c494c0a23"
      },
      "execution_count": 6,
      "outputs": [
        {
          "output_type": "execute_result",
          "data": {
            "text/plain": [
              "(str, str)"
            ]
          },
          "metadata": {},
          "execution_count": 6
        }
      ]
    },
    {
      "cell_type": "markdown",
      "source": [
        "En un conjunto de datos escolares podemos tener varios tipos de informaciones. Supongamos que tenemos acceso a la ficha de datos del alumno *Penélope Camacho*, cómo transformamos este nombre en variables de Python?\n",
        "\n",
        "#### Ficha:\n",
        "\n",
        "- Nombre: Penélope Camacho\n",
        "- Edad: 11 años\n",
        "- Promedio del semestre: 9,75\n",
        "- Situación de aprobación: Verdadera (aprobado)"
      ],
      "metadata": {
        "id": "O-FxDumfWu0C"
      }
    },
    {
      "cell_type": "code",
      "source": [
        "nombre='Penélope Camacho'\n",
        "edad=11\n",
        "promedio=9.75\n",
        "aprobación=True\n",
        "print(nombre,edad,promedio,aprobación)"
      ],
      "metadata": {
        "id": "FabQ7jQf_8Xt",
        "colab": {
          "base_uri": "https://localhost:8080/"
        },
        "outputId": "28051a30-260e-499d-87d5-ddd7edde6736"
      },
      "execution_count": 7,
      "outputs": [
        {
          "output_type": "stream",
          "name": "stdout",
          "text": [
            "Penélope Camacho 11 9.75 True\n"
          ]
        }
      ]
    },
    {
      "cell_type": "code",
      "source": [],
      "metadata": {
        "id": "IZLQnZUj_8bd"
      },
      "execution_count": null,
      "outputs": []
    },
    {
      "cell_type": "markdown",
      "source": [
        "## Variables numéricas\n",
        "\n",
        "Entre los tipos de datos numéricos vamos a enfocarnos en los tipos `entero` y `float`."
      ],
      "metadata": {
        "id": "KFq_8Sxf-OG0"
      }
    },
    {
      "cell_type": "markdown",
      "source": [
        "Tenemos una tabla de información sobre los diversos cargos, cantidad de personas empleadas y el salario correspondiente:\n",
        "\n",
        "|Cargo | Cantidad | Salario|\n",
        "|---|---|---|\n",
        "|Vigilante | 5 | 300 |\n",
        "|Docente | 16| 500|\n",
        "|Coordinador| 2 |600|\n",
        "\n",
        "Necesitamos trabajar con estos datos para obtener:\n",
        "\n",
        "- La cantidad total de empleados;\n",
        "- La diferencia entre el salario más bajo y más alto; y\n",
        "- El promedio ponderado de los salarios de los empleados de la escuela."
      ],
      "metadata": {
        "id": "8_HYUbkVYdQY"
      }
    },
    {
      "cell_type": "code",
      "source": [
        "c_vigilante=5\n",
        "s_vigilante=300\n",
        "c_docente=16\n",
        "s_docente=500\n",
        "c_coordinador=2\n",
        "s_coordinador=600\n",
        "cantidad_empleados=c_vigilante+c_docente+c_coordinador\n",
        "diferencia_salarial=s_coordinador-s_vigilante\n",
        "salario_ponderado=((s_vigilante*c_vigilante)+(s_docente*c_docente)+(s_coordinador*c_coordinador))/cantidad_empleados\n",
        "print('Cantidad de empleados', cantidad_empleados)\n",
        "print('Diferencia salarial', diferencia_salarial)\n",
        "print('Salario Ponderado', salario_ponderado)\n"
      ],
      "metadata": {
        "id": "F_X-wxdm_5Ys",
        "colab": {
          "base_uri": "https://localhost:8080/"
        },
        "outputId": "62c0e630-3d42-4bcf-88f7-4f24fc6cbda8"
      },
      "execution_count": 11,
      "outputs": [
        {
          "output_type": "stream",
          "name": "stdout",
          "text": [
            "Cantidad de empleados 23\n",
            "Diferencia salarial 300\n",
            "Salario Ponderado 465.2173913043478\n"
          ]
        }
      ]
    },
    {
      "cell_type": "code",
      "source": [
        "#1- Crea un programa que solicite al usuario que escriba su nombre y luego imprima \"Hola, [nombre].\"\n",
        "nombre=input('Ingresa tu nombre: ')\n",
        "print('Hola',nombre)"
      ],
      "metadata": {
        "id": "gKmBbhII_5b9",
        "colab": {
          "base_uri": "https://localhost:8080/"
        },
        "outputId": "997ac493-63ee-4275-8799-a13916249dec"
      },
      "execution_count": 17,
      "outputs": [
        {
          "output_type": "stream",
          "name": "stdout",
          "text": [
            "Ingresa tu nombre: Juan\n",
            "Hola Juan\n"
          ]
        }
      ]
    },
    {
      "cell_type": "code",
      "source": [
        "# 2- Crea un programa que solicite al usuario que escriba su nombre y edad, y luego imprima \"Hola, [nombre], tienes [edad] años.\"\n",
        "nombre=input('Ingresa tu nombre: ')\n",
        "edad=input('Ahora tu edad: ')\n",
        "print(f'Hola {nombre} tienes {edad} años')"
      ],
      "metadata": {
        "id": "fIugsxNy_53j",
        "colab": {
          "base_uri": "https://localhost:8080/"
        },
        "outputId": "b5791b3c-7efb-4f10-c683-4e3d398604c7"
      },
      "execution_count": 23,
      "outputs": [
        {
          "output_type": "stream",
          "name": "stdout",
          "text": [
            "Ingresa tu nombre: Juan\n",
            "Ahora tu edad: 23\n",
            "Hola Juan tienes 23 años\n"
          ]
        }
      ]
    },
    {
      "cell_type": "code",
      "source": [
        "#3 Crea un programa que solicite al usuario que escriba su nombre, edad y altura en metros,\n",
        "#  y luego imprima \"Hola, [nombre], tienes [edad] años y mides [altura] metros.\"\n",
        "nombre=input('¿Cuál es tu nombre?')\n",
        "edad=int(input('¿Que edad tienes?'))\n",
        "altura=float(input('¿Cuanto mides?'))\n",
        "print('Hola %s tienes %d años y mides %.2f' % (nombre, edad, altura))"
      ],
      "metadata": {
        "colab": {
          "base_uri": "https://localhost:8080/"
        },
        "id": "pHZlMR-lI80G",
        "outputId": "8a6ae87b-caa5-4008-cae4-b240ae6d44a2"
      },
      "execution_count": 28,
      "outputs": [
        {
          "output_type": "stream",
          "name": "stdout",
          "text": [
            "¿Cuál es tu nombre?Juan\n",
            "¿Que edad tienes?22\n",
            "¿Cuanto mides?1.76\n",
            "Hola Juan tienes 22 años y mides 1.76\n"
          ]
        }
      ]
    },
    {
      "cell_type": "code",
      "source": [
        "#4 Crea un programa que solicite dos valores numéricos al usuario y luego imprima la suma de ambos valores.\n",
        "valor_1=int(input('Ingresa un número '))\n",
        "valor_2=int(input('Ingresa otro número '))\n",
        "suma=valor_1+valor_2\n",
        "print('La suma de ambos es %d'%(suma))\n"
      ],
      "metadata": {
        "colab": {
          "base_uri": "https://localhost:8080/"
        },
        "id": "OUbaOmqKOpcb",
        "outputId": "cdb47007-8ac4-4406-8a04-38cf1c14a159"
      },
      "execution_count": 31,
      "outputs": [
        {
          "output_type": "stream",
          "name": "stdout",
          "text": [
            "Ingresa un número 12\n",
            "Ingresa otro número 78\n",
            "La suma de ambos es 90\n"
          ]
        }
      ]
    },
    {
      "cell_type": "code",
      "source": [
        "#5 Crea un programa que solicite tres valores numéricos al usuario y luego imprima la suma de los tres valores.\n",
        "valor1=int(input('Ingresa un número '))\n",
        "valor2=int(input('Ingresa otro número '))\n",
        "valor3=int(input('Ingresa uno mas '))\n",
        "suma=valor1+valor2+valor3\n",
        "print('La suma de los tres, es %d'%(suma))"
      ],
      "metadata": {
        "colab": {
          "base_uri": "https://localhost:8080/"
        },
        "id": "mbfPprnnP9sA",
        "outputId": "3e1d6fc0-80cc-4673-ad35-b2667ed67b99"
      },
      "execution_count": 32,
      "outputs": [
        {
          "output_type": "stream",
          "name": "stdout",
          "text": [
            "Ingresa un número 12\n",
            "Ingresa otro número 35\n",
            "Ingresa uno mas 89\n",
            "La suma de los tres, es 136\n"
          ]
        }
      ]
    },
    {
      "cell_type": "code",
      "source": [
        "#6 Crea un programa que solicite dos valores numéricos al usuario\n",
        "# y luego imprima la resta del primero menos el segundo valor.\n",
        "valor_a=int(input('Ingresa un número '))\n",
        "valor_b=int(input('ingresa otro '))\n",
        "resta=valor_a-valor_b\n",
        "print('La resta del primero con el segundo es %d'%(resta))"
      ],
      "metadata": {
        "colab": {
          "base_uri": "https://localhost:8080/"
        },
        "id": "odgj48qrQ1Kn",
        "outputId": "0590b022-8254-4f61-d06a-7833789faad3"
      },
      "execution_count": 34,
      "outputs": [
        {
          "output_type": "stream",
          "name": "stdout",
          "text": [
            "Ingresa un número 23\n",
            "ingresa otro 56\n",
            "La resta del primero con el segundo es -33\n"
          ]
        }
      ]
    },
    {
      "cell_type": "code",
      "source": [
        "# 7 - Crea un programa que solicite dos valores numéricos al usuario y luego\n",
        "# imprima la multiplicación de los dos valores.\n",
        "primero=int(input('Ingresa un número '))\n",
        "segundo=int(input('Ingresa otro número '))\n",
        "mult=primero*segundo\n",
        "print('La multiplicación de ambos es, %d'%(mult))"
      ],
      "metadata": {
        "colab": {
          "base_uri": "https://localhost:8080/"
        },
        "id": "ZGbxlPOCR4Ac",
        "outputId": "9fe68bb8-266e-466e-f102-b4a231af82a4"
      },
      "execution_count": 37,
      "outputs": [
        {
          "output_type": "stream",
          "name": "stdout",
          "text": [
            "Ingresa un número 12\n",
            "Ingresa otro número 12\n",
            "La multiplicación de ambos es, 144\n"
          ]
        }
      ]
    },
    {
      "cell_type": "code",
      "source": [
        "#8 Crea un programa que solicite dos valores numéricos, un numerador y un denominador, y realice la\n",
        "# división entre los dos valores. Asegúrate de que el valor del denominador no sea igual a 0.\n",
        "\n",
        "nominador=int(input('Ingrese un valor para el nominador '))\n",
        "while True:\n",
        "  denominador=int(input('Ingrese un valor para el denominador que sea mayor que cero '))\n",
        "  try:\n",
        "    if denominador>0:\n",
        "      division=nominador/denominador\n",
        "      print('La división de estos números da como resultado %d'%(division))\n",
        "      break\n",
        "    else:\n",
        "      print('El valor debe ser mayor  que cero, intente nuevamente')\n",
        "  except ValueError:\n",
        "    print('El valor ingresado para el denominador no es un número válido. Intente nuevamente.')\n",
        "\n"
      ],
      "metadata": {
        "colab": {
          "base_uri": "https://localhost:8080/"
        },
        "id": "SD5gBtyNSrno",
        "outputId": "8ac5fcc3-388b-4829-f229-1103793579b6"
      },
      "execution_count": 15,
      "outputs": [
        {
          "output_type": "stream",
          "name": "stdout",
          "text": [
            "Ingrese un valor para el nominador 12\n",
            "Ingrese un valor para el denominador que sea mayor que cero 6\n",
            "La división de estos números da como resultado 2\n"
          ]
        }
      ]
    },
    {
      "cell_type": "markdown",
      "source": [
        "## Strings"
      ],
      "metadata": {
        "id": "yQy7b0ZWoD-P"
      }
    },
    {
      "cell_type": "code",
      "source": [],
      "metadata": {
        "id": "UwYlowsujXpm"
      },
      "execution_count": null,
      "outputs": []
    },
    {
      "cell_type": "markdown",
      "source": [
        "Strings hace referencia a un conjunto de caracteres formando un texto.\n",
        "\n",
        "Podemos crear Strings cuando atribuimos un dato a una variable entre comillas sencillas (`'`) o comillas dobles (`\"`)."
      ],
      "metadata": {
        "id": "vlo2-DXusv3s"
      }
    },
    {
      "cell_type": "code",
      "source": [
        "# 9 Crea un programa que solicite dos valores numéricos, un operador y una potencia,\n",
        "#y realice la exponenciación entre estos dos valores.\n",
        "operador = int(input('Ingrese un número entero para ser elevado a una potencia'))\n",
        "potencia = int(input('Ingrese la potencia a la que desea elevar el número'))\n",
        "resultado_potencia = operador**potencia\n",
        "print('Resultado %d'%(resultado_potencia))\n",
        "\n"
      ],
      "metadata": {
        "id": "ityEWqvh_2wK",
        "colab": {
          "base_uri": "https://localhost:8080/"
        },
        "outputId": "e08c6523-ba3e-4261-b745-a9112b25420a"
      },
      "execution_count": 18,
      "outputs": [
        {
          "output_type": "stream",
          "name": "stdout",
          "text": [
            "Ingrese un número entero para ser elevado a una potencia2\n",
            "Ingrese la potencia a la que desea elevar el número3\n",
            "Resultado 8\n"
          ]
        }
      ]
    },
    {
      "cell_type": "code",
      "source": [
        "# 10 Crea un programa que solicite dos valores numéricos, un numerador y un denominador, y realice la división entera entre los dos valores.\n",
        "# Asegúrate de que el valor del denominador no sea igual a 0. Ya efectuado en ejercicio 8\n",
        "\n",
        "#11 - Crea un programa que solicite dos valores numéricos, un numerador y un denominador, y devuelva el resto de la división entre los dos valores.\n",
        "# Asegúrate de que el valor del denominador no sea igual a 0.\n",
        "numerador=int(input('Ingresa un número '))\n",
        "while True:\n",
        "  denominador=int(input('Ingresa otro número para hacer una división '))\n",
        "  try:\n",
        "      if denominador>0:\n",
        "        division=numerador/denominador\n",
        "        print('La división de %d dividido por %d da: %d' % (numerador, denominador, division))\n",
        "        break\n",
        "      else:\n",
        "        print('El valor debe ser mayor  que cero, intente nuevamente')\n",
        "  except ValueError:\n",
        "      print('El valor ingresado para el denominador no es un número válido. Intente nuevamente.')\n",
        "\n",
        "\n"
      ],
      "metadata": {
        "colab": {
          "base_uri": "https://localhost:8080/"
        },
        "id": "bRlE1m9Qnso_",
        "outputId": "5b4a745a-033a-4939-9bc0-b52af29e658a"
      },
      "execution_count": 5,
      "outputs": [
        {
          "output_type": "stream",
          "name": "stdout",
          "text": [
            "Ingresa un número 12\n",
            "Ingresa otro número para hacer una división 6\n",
            "La división de 12 dividido por 6 da: 2\n"
          ]
        }
      ]
    },
    {
      "cell_type": "markdown",
      "source": [
        "Las variables textuales son objetos que poseen métodos que nos ayudan a formatear strings. Los métodos los podemos ejecutar al definir un objeto de acuerdo con la siguiente estructura:\n",
        "\n",
        "```\n",
        "objeto.metodo()\n",
        "```\n",
        "\n",
        "Existen métodos que no necesitan los `()`, siempre es una buena práctica verificar la documentación para cada caso."
      ],
      "metadata": {
        "id": "2e9UD_CCxqz_"
      }
    },
    {
      "cell_type": "code",
      "source": [
        "#12 - Crea un código que solicite las 3 notas de un estudiante e imprima el promedio de las notas.\n",
        "nombre=input('Ingrese el nombre del alumno(a) ')\n",
        "nota1=float(input('Ingrese la primera nota: '))\n",
        "nota2=float(input('Ingrese la segunda nota: '))\n",
        "nota3=float(input('Ingrese la tercera nota: '))\n",
        "promedio=float(nota1+nota2+nota3)/3\n",
        "print('nombre %s tiene promedio de %.2f' %(nombre, promedio))\n",
        "\n",
        "\n"
      ],
      "metadata": {
        "colab": {
          "base_uri": "https://localhost:8080/"
        },
        "id": "u2vPZlYU6O4f",
        "outputId": "359362ac-be62-4aee-9dac-8a12bb231fd4"
      },
      "execution_count": 14,
      "outputs": [
        {
          "output_type": "stream",
          "name": "stdout",
          "text": [
            "Ingrese el nombre del alumno(a) Juan\n",
            "Ingrese la primera nota: 5.5\n",
            "Ingrese la segunda nota: 6.5\n",
            "Ingrese la tercera nota: 7.5\n",
            "nombre Juan tiene promedio de 6.50\n"
          ]
        }
      ]
    },
    {
      "cell_type": "code",
      "source": [
        "# 13 Crea un código que calcule e imprima el promedio ponderado de los números\n",
        "# 5, 12, 20 y 15 con pesos respectivamente iguales a 1, 2, 3 y 4.\n",
        "num1=int(5)\n",
        "peso1=int(1)\n",
        "num2=int(12)\n",
        "peso2=int(2)\n",
        "num3=int(20)\n",
        "peso3=int(3)\n",
        "num4=int(15)\n",
        "peso4=int(4)\n",
        "promedio=int((num1*peso1)+(num2*peso2)+(num3*peso3)+(num4*peso4)/4)\n",
        "print('Valor1: %d y peso1: %d '%(num1, peso1))\n",
        "print('Valor2: %d y peso2: %d '%(num2, peso2))\n",
        "print('Valor3: %d y peso3: %d '%(num3, peso3))\n",
        "print('Valor4: %d y peso4: %d '%(num4, peso4))\n",
        "print('Se obtiene un promedio ponderado de: %d'%(promedio))\n"
      ],
      "metadata": {
        "colab": {
          "base_uri": "https://localhost:8080/"
        },
        "id": "JOZa8YKx9HIO",
        "outputId": "60b9a035-2599-4b39-cc47-388480bb32bf"
      },
      "execution_count": 18,
      "outputs": [
        {
          "output_type": "stream",
          "name": "stdout",
          "text": [
            "Valor1: 5 y peso1: 1 \n",
            "Valor2: 12 y peso2: 2 \n",
            "Valor3: 20 y peso3: 3 \n",
            "Valor4: 15 y peso4: 4 \n",
            "Se obtiene un promedio ponderado de: 104\n"
          ]
        }
      ]
    },
    {
      "cell_type": "markdown",
      "source": [
        "---\n",
        "**Situación:**\n",
        "\n",
        "Recibimos una variable con el nombre de una profesora de la escuela para añadirla a los registros. Sin embargo, necesitamos darle un tratamiento a este texto antes de insertarlo al sistema."
      ],
      "metadata": {
        "id": "p6aPmMGP4tf9"
      }
    },
    {
      "cell_type": "code",
      "source": [
        "#14 - Crea una variable llamada \"frase\" y asígnale una cadena de texto de tu elección.\n",
        "# Luego, imprime la frase en pantalla.\n",
        "palabra=str('frase')\n",
        "print('Toda %s debe ser bien redactada' %(palabra))"
      ],
      "metadata": {
        "colab": {
          "base_uri": "https://localhost:8080/"
        },
        "id": "xc3i0fV3_WYW",
        "outputId": "60a4e945-dada-4bb6-ca8b-9f188b152f11"
      },
      "execution_count": 23,
      "outputs": [
        {
          "output_type": "stream",
          "name": "stdout",
          "text": [
            "Toda frase debe ser bien redactada\n"
          ]
        }
      ]
    },
    {
      "cell_type": "code",
      "source": [
        "#15 Crea un código que solicite una frase y luego imprima la frase en pantalla.\n",
        "frase=str(input('Ingrese un texto corto'))\n",
        "print(\"%s\"%frase)"
      ],
      "metadata": {
        "colab": {
          "base_uri": "https://localhost:8080/"
        },
        "id": "lIX0Xe93Ai2k",
        "outputId": "11b960b5-e7af-491b-c195-cb770572fbc7"
      },
      "execution_count": 24,
      "outputs": [
        {
          "output_type": "stream",
          "name": "stdout",
          "text": [
            "Ingrese un texto corto¿hola cómo estas?\n",
            "¿hola cómo estas?\n"
          ]
        }
      ]
    },
    {
      "cell_type": "code",
      "source": [
        "# 16 - Crea un código que solicite una frase al usuario y\n",
        "# luego imprima la misma frase ingresada pero en mayúsculas.\n",
        "texto=str(input('Ingrese un tecxto'))\n",
        "print(texto.upper())\n"
      ],
      "metadata": {
        "colab": {
          "base_uri": "https://localhost:8080/"
        },
        "id": "tufpD_kiA6Bs",
        "outputId": "ae280080-9470-4c53-f2d7-0bdf8a6cda9a"
      },
      "execution_count": 27,
      "outputs": [
        {
          "output_type": "stream",
          "name": "stdout",
          "text": [
            "Ingrese un tecxto¿Hola cómo estás?\n",
            "¿HOLA CÓMO ESTÁS?\n"
          ]
        }
      ]
    },
    {
      "cell_type": "code",
      "source": [
        "# 17 - Crea un código que solicite una frase al usuario y luego imprima la misma frase ingresada pero en minúsculas.\n",
        "texto=str(input('Ingresa un texto'))\n",
        "print(texto.lower())"
      ],
      "metadata": {
        "colab": {
          "base_uri": "https://localhost:8080/"
        },
        "id": "zT0_XozzCYRd",
        "outputId": "ba013cb3-ce45-4611-8c64-17c8b28f998a"
      },
      "execution_count": 29,
      "outputs": [
        {
          "output_type": "stream",
          "name": "stdout",
          "text": [
            "Ingresa un textoHOLA QUÉ TÁL?\n",
            "hola qué tál?\n"
          ]
        }
      ]
    },
    {
      "cell_type": "code",
      "source": [
        "texto = '  Micaela de los Sanyos '"
      ],
      "metadata": {
        "id": "icDWtYTjBO0n"
      },
      "execution_count": null,
      "outputs": []
    },
    {
      "cell_type": "code",
      "source": [
        "# 18 - Crea una variable llamada \"frase\" y asígnale una cadena de texto de tu elección.\n",
        "# Luego, imprime la frase sin espacios en blanco al principio y al final.\n",
        "frase=str('  ¿Hola, cómo estás?  ')\n",
        "print(frase.strip())"
      ],
      "metadata": {
        "colab": {
          "base_uri": "https://localhost:8080/"
        },
        "id": "1FQVWYc1C3w1",
        "outputId": "ec6fd10c-f1f9-4e7d-fc97-5dd0ad35d871"
      },
      "execution_count": 30,
      "outputs": [
        {
          "output_type": "stream",
          "name": "stdout",
          "text": [
            "¿Hola, cómo estás?\n"
          ]
        }
      ]
    },
    {
      "cell_type": "code",
      "source": [
        "# 19 Crea un código que solicite una frase al usuario y luego imprima la misma frase\n",
        "# sin espacios en blanco al principio y al final.\n",
        "frase=str(input('Ingrese una frase'))\n",
        "print(frase)\n",
        "print(frase.strip())\n"
      ],
      "metadata": {
        "colab": {
          "base_uri": "https://localhost:8080/"
        },
        "id": "vXb5L9BmFT3R",
        "outputId": "0d1002a6-aa2d-45df-d85c-a3bf2568ba6e"
      },
      "execution_count": 32,
      "outputs": [
        {
          "output_type": "stream",
          "name": "stdout",
          "text": [
            "Ingrese una frase    ¿Quién manda a quién?    \n",
            "    ¿Quién manda a quién?    \n",
            "¿Quién manda a quién?\n"
          ]
        }
      ]
    },
    {
      "cell_type": "code",
      "source": [
        "# 20 Crea un código que solicite una frase al usuario y luego imprima la misma frase\n",
        "# sin espacios en blanco al principio y al final, además de convertirla a minúsculas.\n",
        "frase=input('Ingrese un texto con espacios en blanco al principio y al final')\n",
        "print(frase.upper().strip())"
      ],
      "metadata": {
        "colab": {
          "base_uri": "https://localhost:8080/"
        },
        "id": "BsfTs-i3F-9b",
        "outputId": "f6bbf048-88d4-413c-e29f-a8e2342e5b9b"
      },
      "execution_count": 34,
      "outputs": [
        {
          "output_type": "stream",
          "name": "stdout",
          "text": [
            "Ingrese un texto con espacios en blanco al principio y al final    ¡Hola! ¿cómo estás?    \n",
            "¡HOLA! ¿CÓMO ESTÁS?\n"
          ]
        }
      ]
    },
    {
      "cell_type": "code",
      "source": [
        "# 21 Crea un código que solicite una frase al usuario y luego imprima la misma frase\n",
        "# con todas las vocales \"e\" reemplazadas por la letra \"f\".\n",
        "frase=input('Ingrese un texto que contenga letras \"e\"')\n",
        "print(frase.replace('e','f'))\n"
      ],
      "metadata": {
        "colab": {
          "base_uri": "https://localhost:8080/"
        },
        "id": "BHHgNNtZHFXP",
        "outputId": "8fcff47c-27a6-4d96-f5ba-6f7eaeacb238"
      },
      "execution_count": 36,
      "outputs": [
        {
          "output_type": "stream",
          "name": "stdout",
          "text": [
            "Ingrese un texto que contenga letras \"e\"requetepatetas\n",
            "rfquftfpatftas\n"
          ]
        }
      ]
    },
    {
      "cell_type": "code",
      "source": [
        "# 22 Crea un código que solicite una frase al usuario y luego imprima la misma frase\n",
        "# con todas las vocales \"a\" reemplazadas por el carácter \"@\".\n",
        "frase=input('Ingrese un texto con hartas letras \"a\"')\n",
        "print(frase.replace('a','@'))\n"
      ],
      "metadata": {
        "colab": {
          "base_uri": "https://localhost:8080/"
        },
        "id": "7VaB0OnuHzT3",
        "outputId": "f3e74c29-6552-4ed1-c122-9ae5fda2376e"
      },
      "execution_count": 37,
      "outputs": [
        {
          "output_type": "stream",
          "name": "stdout",
          "text": [
            "Ingrese un texto con hartas letras \"a\"Mañana por la mañana\n",
            "M@ñ@n@ por l@ m@ñ@n@\n"
          ]
        }
      ]
    },
    {
      "cell_type": "code",
      "source": [
        "# 23 - Crea un código que solicite una frase al usuario y luego imprima la misma frase\n",
        "# con todas las consonantes \"s\" reemplazadas por el carácter \"$\".\n",
        "frase=input('Ingrese un texto con hartas \"s\"')\n",
        "print(frase.replace('s','$'))\n"
      ],
      "metadata": {
        "colab": {
          "base_uri": "https://localhost:8080/"
        },
        "id": "zgzUQu7bIO84",
        "outputId": "5e8b32d3-c7bd-411c-c2e4-5d36411cf955"
      },
      "execution_count": 38,
      "outputs": [
        {
          "output_type": "stream",
          "name": "stdout",
          "text": [
            "Ingrese un texto con hartas \"s\"este o oeste, cueste lo cueste\n",
            "e$te o oe$te, cue$te lo cue$te\n"
          ]
        }
      ]
    },
    {
      "cell_type": "markdown",
      "source": [
        "El objetivo final es que el nombre aparezca de la siguiente forma:\n",
        "\n",
        "```\n",
        "'MICAELA DE LOS SANTOS'\n",
        "```"
      ],
      "metadata": {
        "id": "Dg2ZXSZOGzjC"
      }
    },
    {
      "cell_type": "markdown",
      "source": [
        "### [`str.upper()` ](https://docs.python.org/3/library/stdtypes.html#str.upper)\n",
        "Convierte una string a mayúsculas."
      ],
      "metadata": {
        "id": "iVTAD8q702eN"
      }
    },
    {
      "cell_type": "code",
      "source": [],
      "metadata": {
        "id": "wMVshJrY_ZXh"
      },
      "execution_count": null,
      "outputs": []
    },
    {
      "cell_type": "markdown",
      "source": [
        "### [`str.lower()`](https://docs.python.org/3/library/stdtypes.html#str.lower)\n",
        "Convierte una string a minúsculas."
      ],
      "metadata": {
        "id": "hbDSBtMV1TpG"
      }
    },
    {
      "cell_type": "code",
      "source": [],
      "metadata": {
        "id": "px3yEeNH_YK4"
      },
      "execution_count": null,
      "outputs": []
    },
    {
      "cell_type": "markdown",
      "source": [
        "### [`str.strip()`](https://docs.python.org/3/library/stdtypes.html#str.strip)\n",
        "Elimina los espacios en blanco al inicio y al final de una string."
      ],
      "metadata": {
        "id": "kz47eWM11gii"
      }
    },
    {
      "cell_type": "code",
      "source": [],
      "metadata": {
        "id": "76dLgNa4_XAe"
      },
      "execution_count": null,
      "outputs": []
    },
    {
      "cell_type": "markdown",
      "source": [
        "### [`str.replace(antiguo, nuevo)`](https://docs.python.org/3/library/stdtypes.html#str.replace)\n",
        "\n",
        "Sustituye todas las ocurrencias del texto \"antiguo\" en la string por el  \"nuevo\"."
      ],
      "metadata": {
        "id": "m6notiyS1SCV"
      }
    },
    {
      "cell_type": "code",
      "source": [],
      "metadata": {
        "id": "PNXAixtE_V6R"
      },
      "execution_count": null,
      "outputs": []
    },
    {
      "cell_type": "markdown",
      "source": [
        "### Observaciones\n",
        "\n",
        "1. Los métodos devuelven una **tranformación**, no son ejecutados directamente sobre la variable donde está almacenado el texto.\n",
        "\n",
        "2. Adicionalmente, podemos acumular la ejecución de los métodos."
      ],
      "metadata": {
        "id": "zukvEjhG2Rcn"
      }
    },
    {
      "cell_type": "code",
      "source": [],
      "metadata": {
        "id": "JjkBRklr_T5n"
      },
      "execution_count": null,
      "outputs": []
    },
    {
      "cell_type": "markdown",
      "source": [
        "Para que la transformación se pueda ejecutar debemos atribuir la salida de las transformaciones a las variables"
      ],
      "metadata": {
        "id": "1KbwfVut2h6I"
      }
    },
    {
      "cell_type": "code",
      "source": [],
      "metadata": {
        "id": "ocPP-Jaj_SJI"
      },
      "execution_count": null,
      "outputs": []
    },
    {
      "cell_type": "code",
      "source": [],
      "metadata": {
        "id": "m1RvLGZZ_SP3"
      },
      "execution_count": null,
      "outputs": []
    },
    {
      "cell_type": "markdown",
      "source": [
        "## Capturando datos\n",
        "\n",
        "En algunas aplicaciones necesitamos capturar los valores del usuario de nuestro proyecto. En python, logramos capturar los datos del usuario a través del comando [`input()`](https://docs.python.org/3/library/functions.html#input).\n",
        "\n",
        "Para ejecutar la captura debemos atribuir el resultado de esta función a una variable."
      ],
      "metadata": {
        "id": "0h9Fh5G9kHCa"
      }
    },
    {
      "cell_type": "code",
      "source": [],
      "metadata": {
        "id": "zbH_9i3q_PdY"
      },
      "execution_count": null,
      "outputs": []
    },
    {
      "cell_type": "code",
      "source": [],
      "metadata": {
        "id": "JZy1Q9Tl_PgL"
      },
      "execution_count": null,
      "outputs": []
    },
    {
      "cell_type": "markdown",
      "source": [
        "La salida de este comando siempre será una *string*. Esto quiere decir que aunque capturemos un valor de variable numérica, este será de tipo string.\n",
        "\n",
        "Entonces, será necesario **convertir el resultado cuando no se desea utilizar el valor como tipo string**."
      ],
      "metadata": {
        "id": "7z7hcLCk_aCY"
      }
    },
    {
      "cell_type": "markdown",
      "source": [
        "Existen funciones para la conversión de valores:\n",
        "\n",
        "- Enteros: [`int(dato_para_conversion)`](https://docs.python.org/3/library/functions.html#int)\n",
        "- Coma flotante: [`float(dato_para_conversion)`](https://docs.python.org/3/library/functions.html#float)\n",
        "- String: [`str(dato_para_conversion)`](https://docs.python.org/3/library/functions.html#func-str)\n",
        "- Booleano: [`bool(dato_para_conversion)`](https://docs.python.org/3/library/functions.html#bool)"
      ],
      "metadata": {
        "id": "TOlegATj1Jfp"
      }
    },
    {
      "cell_type": "code",
      "source": [],
      "metadata": {
        "id": "M2ueeH6l_NMe"
      },
      "execution_count": null,
      "outputs": []
    },
    {
      "cell_type": "code",
      "source": [],
      "metadata": {
        "id": "xfWwuViK_NUn"
      },
      "execution_count": null,
      "outputs": []
    },
    {
      "cell_type": "code",
      "source": [],
      "metadata": {
        "id": "uFCHDyew_NZm"
      },
      "execution_count": null,
      "outputs": []
    },
    {
      "cell_type": "markdown",
      "source": [
        "Trataremos de representar mejor ahora el resultado de la transformación que obtuvimos. Nosotros podemos formatear y presentar nuestro resultado mezclando strings con valores no textuales.\n",
        "\n",
        "Para ello utilizamos la estructura de formatación `f` con strings."
      ],
      "metadata": {
        "id": "yNI2-XTbB3aS"
      }
    },
    {
      "cell_type": "code",
      "source": [],
      "metadata": {
        "id": "keJjA5N9_K5i"
      },
      "execution_count": null,
      "outputs": []
    },
    {
      "cell_type": "markdown",
      "source": [
        "# Estructuras condicionales"
      ],
      "metadata": {
        "id": "NwRaiHHHhhyl"
      }
    },
    {
      "cell_type": "code",
      "source": [],
      "metadata": {
        "id": "pa4gLncu-mvU"
      },
      "execution_count": null,
      "outputs": []
    },
    {
      "cell_type": "code",
      "source": [],
      "metadata": {
        "id": "_cWRmDiE-m4p"
      },
      "execution_count": null,
      "outputs": []
    },
    {
      "cell_type": "markdown",
      "source": [
        "## `IF` y `ELSE`\n",
        "\n",
        "Los comandos `if` y `else` son dos estructuras condicionales. El comando `if` ejecutará el bloque de comandos en caso de que la condición citada sea  **verdadera**. El comando `else` ejecutará el bloque de comandos en el caso de que la condicional de `if` sea **falsa**."
      ],
      "metadata": {
        "id": "qXZqg9aYEhAh"
      }
    },
    {
      "cell_type": "markdown",
      "source": [
        "El comando `if` es una palabra clave en Python que significa \"si\". Este se emplea para conformar la estructura condicional, que te permite verificar si una determinada condición es verdadera o falsa e, inmediatamente después, ejecute un bloque de código específico dependiendo del resultado de la verificación. La sintaxis para usar el comando `if` es:\n",
        "\n",
        "\n",
        "\n",
        "```\n",
        "if condicion:\n",
        "    # Realiza algo\n",
        "```\n",
        "\n"
      ],
      "metadata": {
        "id": "EIhlqHXd2Gil"
      }
    },
    {
      "cell_type": "code",
      "source": [],
      "metadata": {
        "id": "S2S6XAFz-czM"
      },
      "execution_count": null,
      "outputs": []
    },
    {
      "cell_type": "code",
      "source": [],
      "metadata": {
        "id": "YHkwMMyY-c1r"
      },
      "execution_count": null,
      "outputs": []
    },
    {
      "cell_type": "markdown",
      "source": [
        "Ya el comando `else` en Python se usa en junción con la palabra clave `if` para formar una estructura condicional. la sintaxis para usar el `else` es:\n",
        "\n",
        "```\n",
        "if condicion:\n",
        "  # codigo en caso de que sea verdad\n",
        "else:\n",
        "  # codigo en caso de que sea falso\n",
        "```\n",
        "\n",
        "el comando `else` se ejecuta cuando la condición verificada por el `if` es evaluada como `False`."
      ],
      "metadata": {
        "id": "27RW2v_sIKct"
      }
    },
    {
      "cell_type": "code",
      "source": [],
      "metadata": {
        "id": "ZTfNJd_f-aOq"
      },
      "execution_count": null,
      "outputs": []
    },
    {
      "cell_type": "code",
      "source": [],
      "metadata": {
        "id": "LPOb5MkV-btq"
      },
      "execution_count": null,
      "outputs": []
    },
    {
      "cell_type": "markdown",
      "source": [
        "---\n",
        "**Situación:**\n",
        "\n",
        "Recibiremos el promedio de la nota de los estudiantes y necesitamos de un algoritmo que ejecute el análisis y determine si el estudiante fue **Aprobado** o **Reprobado**, mostrando un mensaje del resultado. Para ser aprobado, el promedio necesita ser igual o superior a 7.0."
      ],
      "metadata": {
        "id": "BqORg85XX-Nl"
      }
    },
    {
      "cell_type": "code",
      "source": [],
      "metadata": {
        "id": "UukCN4AQ-YYW"
      },
      "execution_count": null,
      "outputs": []
    },
    {
      "cell_type": "code",
      "source": [],
      "metadata": {
        "id": "X0o8FW1H-YkA"
      },
      "execution_count": null,
      "outputs": []
    },
    {
      "cell_type": "markdown",
      "source": [
        "Ahora, nuestra institución educativa estableció que las personas que tengan el promedio entre 5.0 y 7.0 pueden participar del curso de **Recuperación** durante las vacaciones para lograr aprobar.\n",
        "\n",
        "Entonces podemos apoyarnos en un conjunto de `if`s para poder estructurar esta nueva condición."
      ],
      "metadata": {
        "id": "bD9O17HB6LUo"
      }
    },
    {
      "cell_type": "code",
      "source": [],
      "metadata": {
        "id": "G9cJ5O9--W52"
      },
      "execution_count": null,
      "outputs": []
    },
    {
      "cell_type": "code",
      "source": [],
      "metadata": {
        "id": "iU-pjoJt-W89"
      },
      "execution_count": null,
      "outputs": []
    },
    {
      "cell_type": "markdown",
      "source": [
        "Observa que en casos con 3 situaciones como este necesitamos definir bien nuestras condiciones. Pues, si realizamos una condición con `else` al final, este irá a considerar solamente la condición `if` inmediatamente anterior para generar la salida en caso de que el resultado de su operación lógica sea **falso** dando como resultado, dos o más ejecuciones.\n",
        "\n",
        "Por ejemplo:"
      ],
      "metadata": {
        "id": "D5e2mByjvycO"
      }
    },
    {
      "cell_type": "code",
      "source": [],
      "metadata": {
        "id": "C21JmOuK-VU8"
      },
      "execution_count": null,
      "outputs": []
    },
    {
      "cell_type": "code",
      "source": [],
      "metadata": {
        "id": "bHiVgnPs-Vlv"
      },
      "execution_count": null,
      "outputs": []
    },
    {
      "cell_type": "markdown",
      "source": [
        "## `ELIF`\n",
        "\n",
        "El comando `elif` es una palabra clave en Python que significa \"si no, si\" y lo podemos considerar una *contracción* entre `else` e `if`. Se utiliza en conjunto con la palabra clave `if` para formar una estructura condicional en cadena."
      ],
      "metadata": {
        "id": "04T5g-7h4zWx"
      }
    },
    {
      "cell_type": "markdown",
      "source": [
        "la sintaxis para utilizar el comando `elif` es:\n",
        "\n",
        "```\n",
        "if condicion1:\n",
        "    # Realiza algo\n",
        "elif condicion2:\n",
        "    # Realiza otra cosa\n",
        "elif condicion3:\n",
        "    # Realiza otra cosa\n",
        "else:\n",
        "    # Realiza algo diferente\n",
        "```\n",
        "\n",
        "El comando `elif` permite que puedas verificar varias condiciones en cadena, economizando espacio en tu código. Si la primera condición se evalúa como `False`, el interpretador de Python evaluará la próxima condición con el `elif`. Ello continuará hasta que una condición sea evaluada como `True` o hasta que el `else` sea alcazado. Si ninguna de las condiciones es evaluada como `True`, la ejecución del código del comando `else` será iniciada."
      ],
      "metadata": {
        "id": "rNBHr5mm1Lm6"
      }
    },
    {
      "cell_type": "markdown",
      "source": [
        "Vamos a emplear el mismo caso anterior:"
      ],
      "metadata": {
        "id": "MVoykFbB4bd4"
      }
    },
    {
      "cell_type": "code",
      "source": [],
      "metadata": {
        "id": "QFamB78s-TW_"
      },
      "execution_count": null,
      "outputs": []
    },
    {
      "cell_type": "code",
      "source": [],
      "metadata": {
        "id": "nuScbnHF-TfK"
      },
      "execution_count": null,
      "outputs": []
    },
    {
      "cell_type": "markdown",
      "source": [
        "## Operadores\n",
        "\n",
        "Durante la construcción de comandos a veces necesitamos de una elaboración mayor de la expresión condicional, necesitando que algunos operadores lógicos se encuentren integrados."
      ],
      "metadata": {
        "id": "Tf1wSOem6iwZ"
      }
    },
    {
      "cell_type": "markdown",
      "source": [
        "### `AND`, `OR`, `NOT`\n",
        "\n",
        "Los operadores lógicos `and`, `or` y `not` son usados para combinar expresiones lógicas en Python. Ellos son usados frecuentemente en conjunto con el comando `if` para crear estructuras condicionales más complejas.\n"
      ],
      "metadata": {
        "id": "GFIZnRWXGPWO"
      }
    },
    {
      "cell_type": "markdown",
      "source": [
        "- `AND` es usado para verificar si dos condiciones son verdaderas. La expresión lógica¹ `x and y` se evalúa como `True` tan solo si **ambas condiciones `x` y `y` son verdaderas**, y como `False` en caso contrario.\n",
        "\n",
        "- `OR` es usado para verificar si al menos una de las condiciones es verdadera. La expresión lógica `x or y` se evalúa como `True` **si al menos una de las condiciones `x` o `y` es verdadera**, y como `False` si ambas condiciones son falsas.\n",
        "\n",
        "- `NOT` es usado para **negar una condición**. La expresión lógica `not x` es evaluada como `True` si la condición x es falsa, y como `False` si la condición x es verdadera.\n",
        "\n",
        "¹ Una expresión lógica es una declaración que puede ser evaluada como verdadera o falsa. Ella se compone por operandos lógicos² y por operadores lógicos³, que son usados ​​para combinar varias expresiones lógicas en una única expresión.\n",
        "\n",
        "² Los operandos lógicos son los elementos que son comparados o evaluados en una expresión lógica. Ellos son generalmente valores verdaderos o falsos, pero también pueden ser expresiones lógicas más complejas. En Python, los operandos lógicos son los valores `True` y `False`.\n",
        "\n",
        "³ Los operadores lógicos son ls símbolos o palabras clave que son usados ​​para combinar varias expresiones lógicas en una única expresión. En Python, los operadores lógicos son `and`, `or` y `not`, bien como las palabras clave `if`, `elif` e `else`."
      ],
      "metadata": {
        "id": "Z_dgAoHXJbzB"
      }
    },
    {
      "cell_type": "markdown",
      "source": [
        "> Operadores lógicos más comunes\n",
        "\n",
        "|a|b|AND|OR|NOT|\n",
        "|-|-|-|-|-|\n",
        "|0|0|0|0|1\n",
        "|0|1|0|1|-\n",
        "|1|0|0|1|-\n",
        "|1|1|1|1|0\n"
      ],
      "metadata": {
        "id": "2E5aUogf-49u"
      }
    },
    {
      "cell_type": "code",
      "source": [],
      "metadata": {
        "id": "DFKmpvmS-Pa6"
      },
      "execution_count": null,
      "outputs": []
    },
    {
      "cell_type": "code",
      "source": [],
      "metadata": {
        "id": "W5BIrpOD-PeI"
      },
      "execution_count": null,
      "outputs": []
    },
    {
      "cell_type": "code",
      "source": [],
      "metadata": {
        "id": "fpDhYxq4-PiM"
      },
      "execution_count": null,
      "outputs": []
    },
    {
      "cell_type": "markdown",
      "source": [
        "### `IN`\n",
        "\n",
        "Es usado para verificar si un elemento está presente en una lista, tupla u otra colección de conjunto. La expresión `x in y` se evalúa como `True` si el elemento `x` esta presente na variávelen la variable de conjunto `y`, y como `False` en caso contrario."
      ],
      "metadata": {
        "id": "w7EXG1dhWtja"
      }
    },
    {
      "cell_type": "markdown",
      "source": [
        "Podemos verificarlo con variables de texto.\n",
        "\n",
        "---\n",
        "\n",
        "**Situación:**\n",
        "\n",
        "En la escuela nos entregaron una lista con nombres de estudiantes que fueron aprobados según el promedio del semestre, pero es necesario verificar si algunos nombres están en esa lista para confirmar que los datos estén correctos.\n",
        "\n",
        "La lista distribuida puede ser observada a continuación:\n",
        "\n",
        "```\n",
        "lista = 'Juan Pérez, María González, Pedro Rodríguez, Ana López, Carlos Martínez,\n",
        "    Laura Sánchez, José García, Elena Fernández, Luis Morales, Carmen Torres,\n",
        "    David Ruiz, Isabel Ramírez, Javier Díaz, Sara Herrera, Miguel Castro,\n",
        "    Patricia Ortega, Francisco Vargas, Marta Jiménez, Manuel Medina, Rosa Molina,\n",
        "    Alejandro Silva, Silvia Ruiz, Andrés Torres, Natalia Soto, Diego Guerrero,\n",
        "    Paula Ríos, Ricardo Navarro, Alicia Cordero, Carlos Vidal, Lorena Gómez'\n",
        "```\n",
        "\n",
        "Los nombres que necesitas verificar son los siguientes:\n",
        "\n",
        "```\n",
        "nombre_1 = 'Miguel Castro'\n",
        "nombre_2 = 'Marcelo Noguera'\n",
        "```"
      ],
      "metadata": {
        "id": "enJNp6JenQbq"
      }
    },
    {
      "cell_type": "code",
      "source": [
        "# 1 - Escribe un programa que pida a la persona usuaria que proporcione dos números y muestre el número más grande.\n",
        "numero1=int(input('Ingrese un número '))\n",
        "numero2=int(input('Ingrese otro '))\n",
        "print('Primer número: %d, segundo número: %d' %(numero1, numero2))\n",
        "if numero1>numero2:\n",
        "  print('%d es mayor que %d '%(numero1, numero2))\n",
        "elif numero1<numero2:\n",
        "  print('%d es menor que %d '%(numero1, numero2))\n",
        "else:\n",
        "  print('%d es igual a %d '%(numero1, numero2))\n",
        "\n"
      ],
      "metadata": {
        "id": "gPPN9BCT-Mki",
        "colab": {
          "base_uri": "https://localhost:8080/"
        },
        "outputId": "c6dda466-fca1-4bb1-89c0-4197851334b0"
      },
      "execution_count": 42,
      "outputs": [
        {
          "output_type": "stream",
          "name": "stdout",
          "text": [
            "Ingrese un número 5\n",
            "Ingrese otro 12\n",
            "Primer número: 5, segundo número: 12\n",
            "5 es menor que 12 \n"
          ]
        }
      ]
    },
    {
      "cell_type": "code",
      "source": [
        "# 2 - Escribe un programa que solicite el porcentaje de crecimiento de producción de una empresa e informe\n",
        "# si hubo un crecimiento (porcentaje positivo) o una disminución (porcentaje negativo).\n",
        "crecimiento=float(input('Ingrese el porcentaje actual de crecimiento'))\n",
        "if crecimiento>0:\n",
        "  print('Hubo crecimiento, %f%%' %(crecimiento))\n",
        "else:\n",
        "  print('No hubo crecimiento %f%%'%(crecimiento))\n"
      ],
      "metadata": {
        "id": "GINbG3Fa-Mnb",
        "colab": {
          "base_uri": "https://localhost:8080/"
        },
        "outputId": "20136832-af6d-4266-88c4-b2bec965e41d"
      },
      "execution_count": 49,
      "outputs": [
        {
          "output_type": "stream",
          "name": "stdout",
          "text": [
            "Ingrese el porcentaje actual de crecimiento5.8\n",
            "Hubo crecimiento, 5.800000.%\n"
          ]
        }
      ]
    },
    {
      "cell_type": "code",
      "source": [
        "# 3 - Escribe un programa que determine si una letra proporcionada por la persona\n",
        "# usuaria es una vocal o una consonante.\n",
        "letra=str(input('Ingresa una letra'))\n",
        "if letra==\"a\" or letra==\"A\" or letra==\"e\" or letra==\"E\" or letra==\"i\" or letra==\"I\" or letra==\"o\" or letra==\"O\" or letra==\"u\" or letra==\"U\":\n",
        "  print('La letra ingresa es vocal')\n",
        "else:\n",
        "  print('La letra ingresada es consonante')"
      ],
      "metadata": {
        "id": "hk-RhNRT-Mp7",
        "colab": {
          "base_uri": "https://localhost:8080/"
        },
        "outputId": "9ca34e56-13ac-4deb-ce12-f19a5fce05f8"
      },
      "execution_count": 52,
      "outputs": [
        {
          "output_type": "stream",
          "name": "stdout",
          "text": [
            "Ingresa una letraA\n",
            "La letra ingresa es vocal\n"
          ]
        }
      ]
    },
    {
      "cell_type": "code",
      "source": [
        "# 4 Escribe un programa que lea valores promedio de precios de un modelo de automóvil\n",
        "#  durante 3 años consecutivos y muestre el valor más alto y más bajo entre esos tres años.\n",
        "valor2022=int(input('Ingrese el valor promedio del año 2022 '))\n",
        "valor2023=int(input('Ingrese el valor promedio del año 2023 '))\n",
        "valor2024=int(input('Ingrese el valor promedio del año 2024 '))\n",
        "if valor2022>valor2023 and valor2022>valor2024:\n",
        "  print('El valor mas alto es %d '%(valor2022))\n",
        "elif valor2023>valor2022 and valor2023>valor2024:\n",
        "  print('El valor mas alto es %d '%(valor2023))\n",
        "else:\n",
        "  print('El valor mas alto es %d '%(valor2024))\n",
        "\n"
      ],
      "metadata": {
        "id": "oEybXIbfbVpy",
        "outputId": "c661a188-4dae-48ac-f09e-aa3b2da5db6e",
        "colab": {
          "base_uri": "https://localhost:8080/"
        }
      },
      "execution_count": 55,
      "outputs": [
        {
          "output_type": "stream",
          "name": "stdout",
          "text": [
            "Ingrese el valor promedio del año 2022 3555678\n",
            "Ingrese el valor promedio del año 2023 3566789\n",
            "Ingrese el valor promedio del año 2024 4567231\n",
            "El valor mas alto es 4567231 \n"
          ]
        }
      ]
    },
    {
      "cell_type": "code",
      "source": [
        "# 5 - Escribe un programa que pregunte sobre el precio de tres productos e indique\n",
        "# cuál es el producto más barato para comprar.\n",
        "cuaderno=int(input('¿Valor del cuaderno? '))\n",
        "lapiz=int(input('¿Valor del lápiz? '))\n",
        "goma=int(input('¿Valor de la goma? '))\n",
        "if cuaderno<lapiz and cuaderno<goma:\n",
        "  print('El cuaderno es el mas barato')\n",
        "elif lapiz<cuaderno and lapiz<goma:\n",
        "  print('El lápiz es el mas barato')\n",
        "elif goma<lapiz and goma<cuaderno:\n",
        "  print ('La goma es la mas barata')\n",
        "elif lapiz==cuaderno and cuaderno==goma:\n",
        "  print ('Todos valen lo mismo')\n",
        "elif lapiz==cuaderno and cuaderno!=goma and lapiz<goma:\n",
        "  print('El lápiz y el cuaderno son los mas baratos')\n",
        "elif goma==lapiz and goma!=cuaderno and goma<cuaderno:\n",
        "  print('El lápiz y la goma son los mas baratos')\n",
        "elif cuaderno==goma and cuaderno!=lapiz and cuaderno<lapiz:\n",
        "  print ('El cuaderno y la goma son los mas baratos')\n",
        "\n",
        "\n"
      ],
      "metadata": {
        "id": "gJTusgnddIYl",
        "outputId": "a93ecd30-398b-4e99-e7cd-98498510d589",
        "colab": {
          "base_uri": "https://localhost:8080/"
        }
      },
      "execution_count": 11,
      "outputs": [
        {
          "output_type": "stream",
          "name": "stdout",
          "text": [
            "¿Valor del cuaderno? 123\n",
            "¿Valor del lápiz? 1567\n",
            "¿Valor de la goma? 123\n",
            "El cuaderno y la goma son los mas baratos\n"
          ]
        }
      ]
    },
    {
      "cell_type": "code",
      "source": [
        "# 6 Escribe un programa que lea tres números y los muestre en orden descendente.\n",
        "num1=int(input('ingrese un número '))\n",
        "num2=int(input('ingrese otro número '))\n",
        "num3=int(input('ingrese uno mas '))\n",
        "numeros=[num1,num2,num3]\n",
        "numeros_descendentes= sorted(numeros, reverse=True)\n",
        "print(numeros_descendentes)\n"
      ],
      "metadata": {
        "id": "etnSwoNIShNw",
        "outputId": "d3dd0a15-daf2-4e15-a32e-73da5f5a8de0",
        "colab": {
          "base_uri": "https://localhost:8080/"
        }
      },
      "execution_count": 30,
      "outputs": [
        {
          "output_type": "stream",
          "name": "stdout",
          "text": [
            "ingrese un número 2\n",
            "ingrese otro número 3\n",
            "ingrese uno mas 1\n",
            "[3, 2, 1]\n"
          ]
        }
      ]
    },
    {
      "cell_type": "code",
      "source": [
        "# 7 -Escribe un programa que pregunte en qué turno estudia la persona usuaria (\"mañana\", \"tarde\" o \"noche\") y muestre el mensaje \"¡Buenos Días!\",\n",
        "# ¡Buenas Tardes!\", \"¡Buenas Noches!\" o \"Valor Inválido!\", según el caso.\n",
        "turno=str(input('¿En que turno estudias? ¿mañana, tarde o noche? '))\n",
        "if turno=='mañana':\n",
        "  print('Buenos días')\n",
        "elif turno=='tarde':\n",
        "  print('Buenas tardes')\n",
        "elif turno=='noche':\n",
        "  print('Buenas noches')\n",
        "elif turno!='mañana'and turno!='tarde'and turno!='noche':\n",
        "  print('Valor inválido')"
      ],
      "metadata": {
        "id": "KIAmdOnclEF7",
        "outputId": "a4ce6ae3-16e6-45e6-bb44-932c7490b354",
        "colab": {
          "base_uri": "https://localhost:8080/"
        }
      },
      "execution_count": 37,
      "outputs": [
        {
          "output_type": "stream",
          "name": "stdout",
          "text": [
            "¿En que turno estudias? ¿mañana, tarde o noche? noche\n",
            "Buenas noches\n"
          ]
        }
      ]
    },
    {
      "cell_type": "code",
      "source": [
        "# 8 Escribe un programa que solicite un número entero a la persona usuaria\n",
        "# y determine si es par o impar. Pista: Puedes usar el operador módulo (%).\n",
        "numero=int(input('Ingrese un número entero'))\n",
        "if numero % 2 == 0:\n",
        "  print('Este número es par')\n",
        "else:\n",
        "  print('Este número es impar')"
      ],
      "metadata": {
        "id": "0OEnjLsbm1Pq",
        "outputId": "3e51c48d-831f-4616-8fca-317d6b1bdf8e",
        "colab": {
          "base_uri": "https://localhost:8080/"
        }
      },
      "execution_count": 42,
      "outputs": [
        {
          "output_type": "stream",
          "name": "stdout",
          "text": [
            "Ingrese un número entero3\n",
            "Este número es impar\n"
          ]
        }
      ]
    },
    {
      "cell_type": "code",
      "source": [
        "# 9 Escribe un programa que pida un número a la persona usuaria y le informe si es entero o decimal.\n",
        "numero=float(input('Ingrese un número entero o decimal '))\n",
        "if numero == int(numero):\n",
        "  print('Entero')\n",
        "else:\n",
        "  print('Decimal')"
      ],
      "metadata": {
        "id": "LfHe9dEVotRH",
        "outputId": "ffa4da4d-a95f-4a06-876d-a71b51ddb9df",
        "colab": {
          "base_uri": "https://localhost:8080/"
        }
      },
      "execution_count": 48,
      "outputs": [
        {
          "output_type": "stream",
          "name": "stdout",
          "text": [
            "Ingrese un número entero o decimal 12.1\n",
            "Decimal\n"
          ]
        }
      ]
    },
    {
      "cell_type": "code",
      "source": [
        "# 10 - Un programa debe ser escrito para leer dos números y luego preguntar a la persona usuaria\n",
        "# qué operación desea realizar. El resultado de la operación debe incluir información sobre\n",
        "# el número, si es par o impar, positivo o negativo, e entero o decimal.\n",
        "\n",
        "numero1_str=input('Ingrese un número: ')\n",
        "numero_uno=float(numero1_str)\n",
        "numero2_str=input('Ingrese otro número: ')\n",
        "numero_dos=float(numero2_str)\n",
        "eleccion=input('¿Que operación desea efectuar con estos dos número?, ¿ * / + - ?: ')\n",
        "\n",
        "if eleccion == '*':\n",
        "  resultado = numero_uno*numero_dos\n",
        "  resultado=float(resultado)\n",
        "elif eleccion == '/':\n",
        "  resultado = float(numero_uno/numero_dos)\n",
        "  resultado=float(resultado)\n",
        "elif eleccion == '+':\n",
        "  resultado = float(numero_uno+numero_dos)\n",
        "  resultado=float(resultado)\n",
        "else:\n",
        "  resultado = float(numero_uno-numero_dos)\n",
        "  resultado=float(resultado)\n",
        "\n",
        "if resultado > 0:\n",
        "    info1 = 'positivo'\n",
        "elif resultado < 0:\n",
        "    info1 = 'negativo'\n",
        "else:\n",
        "    info1 = 'cero'\n",
        "\n",
        "if resultado == int(resultado):\n",
        "    info2 = 'entero'\n",
        "else:\n",
        "    info2 = 'decimal'\n",
        "\n",
        "if info2 == 'entero':\n",
        "    if int(resultado) % 2 == 0:\n",
        "        info3 = 'número par'\n",
        "    else:\n",
        "        info3 = 'número impar'\n",
        "else:\n",
        "    info3 = 'no aplica par o impar (es decimal)'\n",
        "\n",
        "print('El resultado es %.2f. Este número es %s, es %s y %s' %(resultado, info1, info2, info3))\n",
        "\n",
        "\n"
      ],
      "metadata": {
        "id": "5tYV634Pqt1m",
        "outputId": "0939e01a-5e4e-4f08-8a0c-768dad4a8f33",
        "colab": {
          "base_uri": "https://localhost:8080/"
        }
      },
      "execution_count": 67,
      "outputs": [
        {
          "output_type": "stream",
          "name": "stdout",
          "text": [
            "Ingrese un número: 12\n",
            "Ingrese otro número: 3\n",
            "¿Que operación desea efectuar con estos dos número?, ¿ * / + - ?: *\n",
            "El resultado es 36.00. Este número es positivo, es entero y número par\n"
          ]
        }
      ]
    },
    {
      "cell_type": "markdown",
      "source": [],
      "metadata": {
        "id": "QWXxabB8lHyO"
      }
    },
    {
      "cell_type": "code",
      "source": [
        "# 11 - Escribe un programa que pida a la persona usuaria tres números que representan los lados de un triángulo.\n",
        "# El programa debe informar si los valores pueden utilizarse para formar un triángulo y,\n",
        "# en caso afirmativo, si es equilátero, isósceles o escaleno. Ten en cuenta algunas sugerencias:\n",
        "# -Tres lados forman un triángulo cuando la suma de cualesquiera dos lados es mayor que el tercero;\n",
        "# -Triángulo Equilátero: tres lados iguales;\n",
        "# -Triángulo Isósceles: dos lados iguales;\n",
        "# -Triángulo Escaleno: tres lados diferentes.\n",
        "\n",
        "print('Vamos a contruir un triángulo a partir de 3 valores que Ud entregará')\n",
        "print('El código revisará si es posible hacerlo y luego enseñará que tipo de triángulo puede crear con esos valores')\n",
        "lado1=input('Ingrese el valor para un lado: ')\n",
        "lado_uno=float(lado1)\n",
        "lado2=input('Ingrese el valor para el segundo lado: ')\n",
        "lado_dos=float(lado2)\n",
        "lado3=input('Ingrese el valor para un lado: ')\n",
        "lado_tres=float(lado3)\n",
        "print('Lados ingresados %.2f, %.2f y %.2f'%(lado_uno, lado_dos, lado_tres))\n",
        "\n",
        "if lado_uno <= 0 or lado_dos <= 0 or lado_tres <= 0:\n",
        "    print('Uno o mas valores son negativos o cero, no podemos construir un triángulo')\n",
        "elif lado_uno + lado_dos > lado_tres and lado_uno + lado_tres > lado_dos and lado_dos + lado_tres > lado_uno:\n",
        "    print('Los tres lados tienen dimensiones que permiten construir un triángulo')\n",
        "    if lado_uno == lado_dos and lado_dos == lado_tres:\n",
        "        print('Con los tres lados iguales %.2f, %.2f, %.2f podemos construir un triángulo equilatero' % (lado_uno, lado_dos, lado_tres))\n",
        "    elif lado_uno == lado_dos or lado_dos == lado_tres or lado_tres == lado_uno:\n",
        "        print('Con lado %.2f, lado %.2f y lado %.2f, podemos construir un triángulo isósceles' % (lado_uno, lado_dos, lado_tres))\n",
        "    else:\n",
        "        print('Con los tres lados diferentes %.2f, %.2f y %.2f podemos construir un triángulo escaleno' % (lado_uno, lado_dos, lado_tres))\n",
        "\n",
        "    # Verificar si es un triángulo rectángulo (ahora fuera del elif anterior)\n",
        "    if lado_uno**2 + lado_dos**2 == lado_tres**2 or lado_uno**2 + lado_tres**2 == lado_dos**2 or lado_tres**2 + lado_dos**2 == lado_uno**2:\n",
        "        print('Con estos tres lados %.2f, %.2f y %.2f podemos construir también un triángulo rectángulo' % (lado_uno, lado_dos, lado_tres))\n",
        "else:\n",
        "    print('Con las dimensiones ingresadas no se puede construir un triángulo (no se cumple la desigualdad triangular).')\n",
        "\n",
        "\n",
        "\n",
        "\n"
      ],
      "metadata": {
        "id": "13aAK3RA3Hvx",
        "outputId": "caae8d54-ef02-4842-98d8-3be44ba87f7c",
        "colab": {
          "base_uri": "https://localhost:8080/"
        }
      },
      "execution_count": 84,
      "outputs": [
        {
          "output_type": "stream",
          "name": "stdout",
          "text": [
            "Vamos a contruir un triángulo a partir de 3 valores que Ud entregará\n",
            "El código revisará si es posible hacerlo y luego enseñará que tipo de triángulo puede crear con esos valores\n",
            "Ingrese el valor para un lado: 3\n",
            "Ingrese el valor para el segundo lado: 4\n",
            "Ingrese el valor para un lado: 5\n",
            "Lados ingresados 3.00, 4.00 y 5.00\n",
            "Los tres lados tienen dimensiones que permiten construir un triángulo\n",
            "Con los tres lados diferentes 3.00, 4.00 y 5.00 podemos construir un triángulo escaleno\n",
            "Con estos tres lados 3.00, 4.00 y 5.00 podemos construir también un triángulo rectángulo\n"
          ]
        }
      ]
    },
    {
      "cell_type": "code",
      "source": [],
      "metadata": {
        "id": "jbjVxma9EtFq"
      },
      "execution_count": null,
      "outputs": []
    },
    {
      "cell_type": "code",
      "source": [
        "# 13 - En una empresa de venta de bienes raíces, debes crear un código que analice los datos de ventas anuales\n",
        "# para ayudar a la dirección en la toma de decisiones. El código debe recopilar los datos de cantidad de ventas\n",
        "# durante los años 2022 y 2023 y calcular la variación porcentual. A partir del valor de la variación,\n",
        "# se deben proporcionar las siguientes sugerencias:\n",
        "\n",
        "# Para una variación superior al 20%: bonificación para el equipo de ventas.\n",
        "# Para una variación entre el 2% y el 20%: pequeña bonificación para el equipo de ventas.\n",
        "# Para una variación entre el 2% y el -10%: planificación de políticas de incentivo a las ventas.\n",
        "# Para bonificaciones inferiores al -10%: recorte de gastos.\n",
        "\n",
        "ventas_2022 = float(input('Ingrese datos de ventas totales durante año 2022: '))\n",
        "ventas_2023 = float(input('Ingrese datos de ventas totales durante año 2023: '))\n",
        "diferencia_de_ventas=ventas_2023-ventas_2022\n",
        "print('La diferencia de ventas entre 2023 y 2022 es de %.2f'%(diferencia_de_ventas))\n",
        "resta=ventas_2023-ventas_2022\n",
        "variacion=(resta/ventas_2023)*100\n",
        "if variacion>20:\n",
        "  print('Bonificación para el equipo de ventas, por variación porcentual de %.2f %%'%(variacion))\n",
        "elif 2<variacion<=20:\n",
        "  print('Pequeña bonificación para el equipo de ventas, por variación porcentual de %.2f %%'%(variacion))\n",
        "elif -10<variacion<=2:\n",
        "    print('planificación de políticas de incentivo a las ventas, por variación porcentual de %.2f %%'%(variacion))\n",
        "elif variacion<-10:\n",
        "    print('Recorte de gastos, por variación porcentual de %.2f %%'%(variacion))\n",
        ""
      ],
      "metadata": {
        "id": "0eKDrgl0Jvif",
        "outputId": "a8563782-2ae5-4cdb-f582-32168e602c1e",
        "colab": {
          "base_uri": "https://localhost:8080/"
        }
      },
      "execution_count": 109,
      "outputs": [
        {
          "output_type": "stream",
          "name": "stdout",
          "text": [
            "Ingrese datos de ventas totales durante año 2022: 100\n",
            "Ingrese datos de ventas totales durante año 2023: 91\n",
            "La diferencia de ventas entre 2023 y 2022 es de -9.00\n",
            "planificación de políticas de incentivo a las ventas, por variación porcentual de -9.89 %\n"
          ]
        }
      ]
    },
    {
      "cell_type": "markdown",
      "source": [
        "23# Estructuras de repetición"
      ],
      "metadata": {
        "id": "aL1vJPewvwvz"
      }
    },
    {
      "cell_type": "markdown",
      "source": [
        "Cuando tenemos que ejecutar un mismo bloque de comandos durante varias ocasiones no es nada práctico hacerlo a mano.\n",
        "\n",
        "**Situación**: Nos fue solicitado obtener e imprimir el promedio de 2 notas de **3 estudantes**:"
      ],
      "metadata": {
        "id": "VcPfCa8d-84t"
      }
    },
    {
      "cell_type": "code",
      "source": [],
      "metadata": {
        "id": "xcx21IGT9qA0"
      },
      "execution_count": null,
      "outputs": []
    },
    {
      "cell_type": "code",
      "source": [],
      "metadata": {
        "id": "Wtbiy9Ay9rGJ"
      },
      "execution_count": null,
      "outputs": []
    },
    {
      "cell_type": "code",
      "source": [],
      "metadata": {
        "id": "Yfyz4anY9rIr"
      },
      "execution_count": null,
      "outputs": []
    },
    {
      "cell_type": "markdown",
      "source": [
        "Ahora imaginemos una situación en que no son tan solo 3 estudiantes, sino 100 estudiantes. No sería nada interesante repetir el mismo código 100 veces, sino **ejecutar el mismo código 100 veces**.\n",
        "\n",
        "¡Esta estructura la logramos construir con lazos de repetición!"
      ],
      "metadata": {
        "id": "9puIuvUbFSFX"
      }
    },
    {
      "cell_type": "markdown",
      "source": [
        "## `WHILE`"
      ],
      "metadata": {
        "id": "uLO9-aE4-wx8"
      }
    },
    {
      "cell_type": "markdown",
      "source": [
        "El lazo `while` es una estructura de control de repetición en Python que permite ejecutar un bloque de código repetidamente mientras que una determinada condición sea verdadera. Su estructura es:\n",
        "\n",
        "\n",
        "\n",
        "```\n",
        "while condicion:\n",
        "    # bloque de codigo\n",
        "```\n",
        "\n",
        "Vamos a construir un ejemplo con un contador de 1 hasta 10.\n"
      ],
      "metadata": {
        "id": "rXZxDMiqHxm9"
      }
    },
    {
      "cell_type": "code",
      "source": [],
      "metadata": {
        "id": "Hd0ZSWxD9wCD"
      },
      "execution_count": null,
      "outputs": []
    },
    {
      "cell_type": "code",
      "source": [],
      "metadata": {
        "id": "miFHNqp29nOL"
      },
      "execution_count": null,
      "outputs": []
    },
    {
      "cell_type": "markdown",
      "source": [
        "Ahora vamos a colectar las notas y promedios de cada alumno dentro del lazo `while`. Haremos un ejemplo con 3 promedios."
      ],
      "metadata": {
        "id": "W4KZPBJuIrut"
      }
    },
    {
      "cell_type": "code",
      "source": [],
      "metadata": {
        "id": "9T5eCLFx9wk6"
      },
      "execution_count": null,
      "outputs": []
    },
    {
      "cell_type": "code",
      "source": [],
      "metadata": {
        "id": "P6E0_dW-9lZ9"
      },
      "execution_count": null,
      "outputs": []
    },
    {
      "cell_type": "markdown",
      "source": [
        "## `FOR`"
      ],
      "metadata": {
        "id": "WgAIaENMMfCP"
      }
    },
    {
      "cell_type": "markdown",
      "source": [
        "El lazo `for` es un tipo de estructura de control de flujo en Python que permite iterar sobre un conjunto de elementos. Su estructura es:\n",
        "\n",
        "\n",
        "\n",
        "```\n",
        "for elemento in conjunto:\n",
        "    # codigo a ser ejecutado para cada elemento\n",
        "```\n",
        "\n",
        "El lazo `for` itera sobre cada elemento del conjunto especificado y ejecuta el bloque de código dentro del lazo para cada elemento. Cuando el lazo llega al final del conjunto, este se interrumpe y el programa continúa la ejecución después del lazo.\n",
        "\n"
      ],
      "metadata": {
        "id": "HxrSZoRAMh-x"
      }
    },
    {
      "cell_type": "markdown",
      "source": [
        "El conjunto lo podemos generar con la función incorporada [`range()`](https://docs.python.org/3/library/functions.html#func-range). Se trata de una función capaz de generar una secuencia de números enteros. La estructura de esta función es:\n",
        "\n",
        "```\n",
        "range(inicio, fin, paso)\n",
        "```\n",
        "\n",
        "Según la documentación, `range()` genera una secuencia de números enteros a partir del valor del parámetro `inicio` hasta el valor del parámetro `fin`, de acuerdo con el valor del parámetro `paso`. Si `inicio` no es especificado, el valor por defecto es `0`. Si `paso` no es especificado, el valor por defecto es `1`.\n",
        "\n",
        "\n"
      ],
      "metadata": {
        "id": "6VgjyoQtPHBM"
      }
    },
    {
      "cell_type": "markdown",
      "source": [
        "Vamos a recrear el mismo contador `while` con el lazo `for`."
      ],
      "metadata": {
        "id": "ryn0hfdlUwC8"
      }
    },
    {
      "cell_type": "code",
      "source": [],
      "metadata": {
        "id": "KkL1wUIj9jL4"
      },
      "execution_count": null,
      "outputs": []
    },
    {
      "cell_type": "code",
      "source": [],
      "metadata": {
        "id": "uXIZnLSr9jOu"
      },
      "execution_count": null,
      "outputs": []
    },
    {
      "cell_type": "markdown",
      "source": [
        "# Estructuras de datos"
      ],
      "metadata": {
        "id": "8noP8OJ0Vhux"
      }
    },
    {
      "cell_type": "markdown",
      "source": [
        "Un conjunto de elementos es una colección de items, que son almacenados juntos de manera organizada. Algunos ejemplos de conjuntos de elementos en Python son las listas, los strings y los diccionarios."
      ],
      "metadata": {
        "id": "xpEUkefTu8fY"
      }
    },
    {
      "cell_type": "markdown",
      "source": [
        "## Listas"
      ],
      "metadata": {
        "id": "THSg4KYLwxIb"
      }
    },
    {
      "cell_type": "markdown",
      "source": [
        "Las listas pueden almacenar una colección de items en orden. Ellas son delimitadas por corchetes `[]` y sus elementos son separados por comas.\n",
        "\n",
        "Estas pueden almacenar cualquier tipo de items, incluyendo números, strings, objetos, otras listas, entre otros. También nos permiten almacenar items de tipos de datos diferentes juntos en una única lista."
      ],
      "metadata": {
        "id": "dzpsiqrOyJcK"
      }
    },
    {
      "cell_type": "code",
      "source": [
        "lista = ['Penélope Camacho',9.5,9.0,9.7,True]\n",
        "lista"
      ],
      "metadata": {
        "id": "DO3TBj7nAYeG",
        "colab": {
          "base_uri": "https://localhost:8080/"
        },
        "outputId": "fbee2eb5-265e-4b5b-badf-a0dd9331074b"
      },
      "execution_count": null,
      "outputs": [
        {
          "output_type": "execute_result",
          "data": {
            "text/plain": [
              "['Penélope Camacho', 9.5, 9.0, 9.7, True]"
            ]
          },
          "metadata": {},
          "execution_count": 62
        }
      ]
    },
    {
      "cell_type": "code",
      "source": [],
      "metadata": {
        "id": "DO2ubP9N9D_2"
      },
      "execution_count": null,
      "outputs": []
    },
    {
      "cell_type": "markdown",
      "source": [
        "Las listas son organizadas en Python porque **cada elemento de la lista tiene un índice que indica su posición al interior de la lista**. Los índices comienzan en 0 van hasta el tamaño de la lista menos 1."
      ],
      "metadata": {
        "id": "qUz3sJNl6LgK"
      }
    },
    {
      "cell_type": "markdown",
      "source": [
        "Tenemos entonces 5 elementos con índices que varían de 0 a 4, ordenadamente:\n",
        "\n",
        "```\n",
        "#             [0]           [1]   [2]   [3]    [4]\n",
        "lista = ['Penélope Camacho', 9.5 , 9.0 , 9.7 , True]\n",
        "```\n",
        "\n",
        "En Python tenemos también los índices **negativos** que se inician en el último elemento con el valor de `-1` y avanzan en el universo de los negativos hasta llegar al 1° elemento:\n",
        "\n",
        "```\n",
        "#             [-5]         [-4]  [-3]  [-2]   [-1]\n",
        "lista = ['Penélope Camacho', 9.5 , 9.0 , 9.7 , True]\n",
        "```\n",
        "\n",
        "Logramos seleccionar separadamente cada elemento a través de sus respectivos índices. Colocando el nombre de la lista y en seguida el índice que será seleccionado."
      ],
      "metadata": {
        "id": "rLf-Qg526hFD"
      }
    },
    {
      "cell_type": "code",
      "source": [],
      "metadata": {
        "id": "4hco1Zqy88Kw"
      },
      "execution_count": null,
      "outputs": []
    },
    {
      "cell_type": "code",
      "source": [],
      "metadata": {
        "id": "M8lH0I2288Ph"
      },
      "execution_count": null,
      "outputs": []
    },
    {
      "cell_type": "markdown",
      "source": [
        "Una forma más dinámica de trabajar item a item en una lista es utilizando un lazo `for` para leer un elemento a la vez."
      ],
      "metadata": {
        "id": "6TaE1ijmBTCd"
      }
    },
    {
      "cell_type": "code",
      "source": [],
      "metadata": {
        "id": "rBx4Yu1786Sy"
      },
      "execution_count": null,
      "outputs": []
    },
    {
      "cell_type": "markdown",
      "source": [
        "**Situación**: La nota `9.0` de Penélope necesita ser ajustada pues ganó 1 punto en su última nota por participación en clase. Entonces es necesario realizar un cambio en el índice `2` de `9.0` a `10.0`."
      ],
      "metadata": {
        "id": "Dh1_HnIVvucY"
      }
    },
    {
      "cell_type": "code",
      "source": [],
      "metadata": {
        "id": "bVPoZg668z3T"
      },
      "execution_count": null,
      "outputs": []
    },
    {
      "cell_type": "code",
      "source": [],
      "metadata": {
        "id": "Jo_PBQ0g8z7D"
      },
      "execution_count": null,
      "outputs": []
    },
    {
      "cell_type": "markdown",
      "source": [
        "También podemos calcular el promedio del estudiante a partir de los datos que tenemos."
      ],
      "metadata": {
        "id": "53XduzXkycAf"
      }
    },
    {
      "cell_type": "code",
      "source": [],
      "metadata": {
        "id": "SIH61Rrb8yv4"
      },
      "execution_count": null,
      "outputs": []
    },
    {
      "cell_type": "markdown",
      "source": [
        "## Manipulación de listas\n",
        "\n",
        "Las listas son muy útiles en Python porque nos permiten almacenar y acceder a una colección de items de manera organizada y rápida. Estas también ofrecen muchos métodos útiles para manipular los itens almacenados, como adicionar, remover, clasificar y buscar elementos."
      ],
      "metadata": {
        "id": "d-iYr10-y4qw"
      }
    },
    {
      "cell_type": "markdown",
      "source": [
        "#### Cantidad de elementos\n",
        "\n",
        "Usamos la función [`len()`](https://docs.python.org/3/library/functions.html#len) para descubrir la cantidad de elementos de un conjunto."
      ],
      "metadata": {
        "id": "ZLqx9A97XVB_"
      }
    },
    {
      "cell_type": "code",
      "source": [],
      "metadata": {
        "id": "6q1Tmm7P8wQf"
      },
      "execution_count": null,
      "outputs": []
    },
    {
      "cell_type": "markdown",
      "source": [
        "#### Partición\n",
        "\n",
        "La partición de listas por indexación en Python es una técnica muy útil para seleccionar un subconjunto de elementos de una lista. Esta se realiza usando la sintaxis `lista[inicio:fin]`, donde `inicio` es el índice del primer elemento que será incluído en la partición `fin` es el índice del primer elemento que será excluído de la partición."
      ],
      "metadata": {
        "id": "Z5tpstlHJss3"
      }
    },
    {
      "cell_type": "code",
      "source": [],
      "metadata": {
        "id": "NctvJTTU8uV9"
      },
      "execution_count": null,
      "outputs": []
    },
    {
      "cell_type": "code",
      "source": [],
      "metadata": {
        "id": "bQZUwldj8uY2"
      },
      "execution_count": null,
      "outputs": []
    },
    {
      "cell_type": "markdown",
      "source": [
        "#### [`append()`](https://docs.python.org/3/tutorial/datastructures.html#:~:text=of%20list%20objects%3A-,list.append(x),-Add%20an%20item)\n",
        "\n",
        "Añade un elemento al final de la lista."
      ],
      "metadata": {
        "id": "O0RRyabkRzZC"
      }
    },
    {
      "cell_type": "code",
      "source": [],
      "metadata": {
        "id": "_Q0oODwa8spC"
      },
      "execution_count": null,
      "outputs": []
    },
    {
      "cell_type": "code",
      "source": [],
      "metadata": {
        "id": "RM894r2M8sse"
      },
      "execution_count": null,
      "outputs": []
    },
    {
      "cell_type": "markdown",
      "source": [
        "#### [`extend()`](https://docs.python.org/3/tutorial/datastructures.html#:~:text=list.extend(iterable))\n",
        "\n",
        "Añade varios elementos al final de la lista.\n",
        "\n",
        "Añadiremos las notas `[10.0,8.0,9.0]` En la lista de Penélope Camacho."
      ],
      "metadata": {
        "id": "uQV91XMsUOJD"
      }
    },
    {
      "cell_type": "code",
      "source": [],
      "metadata": {
        "id": "6Zk2MpMw8rQc"
      },
      "execution_count": null,
      "outputs": []
    },
    {
      "cell_type": "code",
      "source": [],
      "metadata": {
        "id": "NnoKkoWb8rTQ"
      },
      "execution_count": null,
      "outputs": []
    },
    {
      "cell_type": "markdown",
      "source": [
        "*A continuación te mostraremos lo que no puede realizarse con* `append`."
      ],
      "metadata": {
        "id": "IVJvkTwNUk6M"
      }
    },
    {
      "cell_type": "code",
      "source": [],
      "metadata": {
        "id": "u3Eub2ZL8pp3"
      },
      "execution_count": null,
      "outputs": []
    },
    {
      "cell_type": "code",
      "source": [],
      "metadata": {
        "id": "tsKK5Ne58pvN"
      },
      "execution_count": null,
      "outputs": []
    },
    {
      "cell_type": "markdown",
      "source": [
        "#### [`remove()`](https://docs.python.org/3/tutorial/datastructures.html#:~:text=append(x).-,list.remove(x),-Remove%20the%20first)\n",
        "\n",
        "Remueve un elemento específico de la lista."
      ],
      "metadata": {
        "id": "dPGM5gpyUX1z"
      }
    },
    {
      "cell_type": "code",
      "source": [],
      "metadata": {
        "id": "mmboODPc8nd5"
      },
      "execution_count": null,
      "outputs": []
    },
    {
      "cell_type": "code",
      "source": [],
      "metadata": {
        "id": "T_w6vVgV8nh_"
      },
      "execution_count": null,
      "outputs": []
    },
    {
      "cell_type": "markdown",
      "source": [
        "## Diccionario"
      ],
      "metadata": {
        "id": "Rc22Vc08YDZ2"
      }
    },
    {
      "cell_type": "markdown",
      "source": [
        "Los diccionarios son un tipo de estructura de datos que almacenan pares de *llave-valor*. Estos son delimitados por llaves `{}` y los pares *llave-valor* son separados por comas.\n",
        "\n",
        "```\n",
        "diccionario = {llave: valor}\n",
        "```\n",
        "\n",
        "La **llave** es un elemento único que identifica a un valor en el diccionario, mientras que el **valor** es el item que será almacenado para la llave. Las llaves y sus respectivos valores se pueden emplear para **cualquier tipo de dato**.\n",
        "\n",
        "Los diccionarios son útiles para almacenar y acceder a los datos de manera organizada y rápida. Se trata de un tipo de conjunto de elementos en Python, pues almacenan una colección de items."
      ],
      "metadata": {
        "id": "PJ-cCKPjeWxL"
      }
    },
    {
      "cell_type": "code",
      "source": [],
      "metadata": {
        "id": "NDHhzooE8ld5"
      },
      "execution_count": null,
      "outputs": []
    },
    {
      "cell_type": "code",
      "source": [],
      "metadata": {
        "id": "AVOzqzy-8lhh"
      },
      "execution_count": null,
      "outputs": []
    },
    {
      "cell_type": "markdown",
      "source": [
        "---\n",
        "**Situación:**\n",
        "\n",
        "Vamos a crear un conjunto de datos con las informaciones de matrícula de un estudiante. Los datos son los siguientes:\n",
        "\n",
        "- matrícula: 2000168933\n",
        "- día de registro: 25\n",
        "- mes de registro: 10\n",
        "- grupo: 2E"
      ],
      "metadata": {
        "id": "_JbQ3KMKfkXU"
      }
    },
    {
      "cell_type": "code",
      "source": [],
      "metadata": {
        "id": "0lfOu_c38jED"
      },
      "execution_count": null,
      "outputs": []
    },
    {
      "cell_type": "code",
      "source": [],
      "metadata": {
        "id": "XIuqpTTy8jHV"
      },
      "execution_count": null,
      "outputs": []
    },
    {
      "cell_type": "markdown",
      "source": [
        "Es posible sustituir los valores dentro de una llave. Por ejemplo, recibimos la información de que el grupo del estudiante que registramos cambio a `'2G'` y ahora necesitamos cambiar el valor de la llave `'grupo'`."
      ],
      "metadata": {
        "id": "8ex5pt2ykDd2"
      }
    },
    {
      "cell_type": "code",
      "source": [],
      "metadata": {
        "id": "kQGlp36b8fyP"
      },
      "execution_count": null,
      "outputs": []
    },
    {
      "cell_type": "code",
      "source": [],
      "metadata": {
        "id": "DnfH_qHi8f17"
      },
      "execution_count": null,
      "outputs": []
    },
    {
      "cell_type": "markdown",
      "source": [
        "También podemos añadir otros datos al diccionario. Vamos a añadir la información sobre la modalidad de estudio, nuestro estudiante estudiará inicialemente en la modalidad EAD.\n",
        "\n",
        "Definiremos una llave llamada `'modalidad'` con el valor `'EAD'`."
      ],
      "metadata": {
        "id": "wB0qRb56mQvv"
      }
    },
    {
      "cell_type": "code",
      "source": [],
      "metadata": {
        "id": "EeLYdlIm8d8a"
      },
      "execution_count": null,
      "outputs": []
    },
    {
      "cell_type": "code",
      "source": [],
      "metadata": {
        "id": "olDIavsm8d_o"
      },
      "execution_count": null,
      "outputs": []
    },
    {
      "cell_type": "markdown",
      "source": [
        "## Profundizando en diccionarios"
      ],
      "metadata": {
        "id": "LJ3o_inroxg_"
      }
    },
    {
      "cell_type": "markdown",
      "source": [
        "#### [`pop()`](https://python-reference.readthedocs.io/en/latest/docs/dict/pop.html)\n",
        "Remueve un item de un diccionario y lo representa en la salida."
      ],
      "metadata": {
        "id": "2N3GLlkSpBiu"
      }
    },
    {
      "cell_type": "code",
      "source": [],
      "metadata": {
        "id": "ZsSCZx6G8b-T"
      },
      "execution_count": null,
      "outputs": []
    },
    {
      "cell_type": "code",
      "source": [],
      "metadata": {
        "id": "7lQ8_jpi8cBR"
      },
      "execution_count": null,
      "outputs": []
    },
    {
      "cell_type": "markdown",
      "source": [
        "#### [`items()`](https://python-reference.readthedocs.io/en/latest/docs/dict/items.html)\n",
        "Retorna una lista de pares `llave-valor` del diccionario."
      ],
      "metadata": {
        "id": "sYZGvJJYrW_y"
      }
    },
    {
      "cell_type": "code",
      "source": [],
      "metadata": {
        "id": "ncdycLV08an7"
      },
      "execution_count": null,
      "outputs": []
    },
    {
      "cell_type": "markdown",
      "source": [
        "#### [`keys()`](https://python-reference.readthedocs.io/en/latest/docs/dict/keys.html)\n",
        "Retorna una lista de las llaves del diccionario."
      ],
      "metadata": {
        "id": "Lb0utNFGrZBY"
      }
    },
    {
      "cell_type": "code",
      "source": [],
      "metadata": {
        "id": "eZo0biaM8ZVs"
      },
      "execution_count": null,
      "outputs": []
    },
    {
      "cell_type": "markdown",
      "source": [
        "#### [`values()`](https://python-reference.readthedocs.io/en/latest/docs/dict/values.html)\n",
        "Retorna una lista de los valores del diccionario."
      ],
      "metadata": {
        "id": "qKyu3bf9rbtX"
      }
    },
    {
      "cell_type": "code",
      "source": [],
      "metadata": {
        "id": "-NxRT9C18Yvo"
      },
      "execution_count": null,
      "outputs": []
    },
    {
      "cell_type": "markdown",
      "source": [
        "### Lectura de valores con el lazo `for`"
      ],
      "metadata": {
        "id": "e3XVjR8Frp75"
      }
    },
    {
      "cell_type": "code",
      "source": [],
      "metadata": {
        "id": "NYcjU-Ip8Xan"
      },
      "execution_count": null,
      "outputs": []
    },
    {
      "cell_type": "code",
      "source": [],
      "metadata": {
        "id": "aAnpP1Wv8XfJ"
      },
      "execution_count": null,
      "outputs": []
    }
  ]
}