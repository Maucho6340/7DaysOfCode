{
  "nbformat": 4,
  "nbformat_minor": 0,
  "metadata": {
    "colab": {
      "provenance": [],
      "include_colab_link": true
    },
    "kernelspec": {
      "name": "python3",
      "display_name": "Python 3"
    },
    "language_info": {
      "name": "python"
    }
  },
  "cells": [
    {
      "cell_type": "markdown",
      "metadata": {
        "id": "view-in-github",
        "colab_type": "text"
      },
      "source": [
        "<a href=\"https://colab.research.google.com/github/Maucho6340/7DaysOfCode/blob/main/Python_Data_Science.ipynb\" target=\"_parent\"><img src=\"https://colab.research.google.com/assets/colab-badge.svg\" alt=\"Open In Colab\"/></a>"
      ]
    },
    {
      "cell_type": "markdown",
      "source": [
        "# Python para Data Science\n",
        "\n",
        "Notebook para el curso de Python para Data Science publicado en la plataforma de [Alura Latam](https://www.aluracursos.com/)"
      ],
      "metadata": {
        "id": "lQx6Mmv0OJyT"
      }
    },
    {
      "cell_type": "markdown",
      "source": [
        "# Introducción a Python\n",
        "¡Vamos a conocer Python, nuestro ambiente de estudio, y también generaremos nuestro primer código en este lenguaje!"
      ],
      "metadata": {
        "id": "7SiB6JIpYKmY"
      }
    },
    {
      "cell_type": "markdown",
      "source": [
        "## Google Colaboratory\n",
        "\n",
        "Ya aprendimos qué es [Python](https://www.python.org/) y ahora aprenderemos a usar nuestra herramienta de ejecución [Google Colaboratory](https://colab.research.google.com/) para programar en un notebook interactivo.\n",
        "\n",
        "Vamos a probar algunas funciones de este ambiente."
      ],
      "metadata": {
        "id": "Yugfb3fCOYY9"
      }
    },
    {
      "cell_type": "markdown",
      "source": [
        " **`>>> Usa esta celda para mover <<<`**"
      ],
      "metadata": {
        "id": "2iUHQsJasJAk"
      }
    },
    {
      "cell_type": "code",
      "source": [],
      "metadata": {
        "id": "o7jrX_iKhdkU"
      },
      "execution_count": null,
      "outputs": []
    },
    {
      "cell_type": "markdown",
      "source": [
        "## ¡Hola mundo!\n",
        "\n",
        "Vamos a conocer un poco más de cerca nuestro notebook. Para ello ejecutaremos nuestro primer comando en Python: [`print()`](https://docs.python.org/3/library/functions.html#print)"
      ],
      "metadata": {
        "id": "aLSFP2V7XTfe"
      }
    },
    {
      "cell_type": "code",
      "source": [],
      "metadata": {
        "id": "0qZX8_ZQBYyk"
      },
      "execution_count": null,
      "outputs": []
    },
    {
      "cell_type": "code",
      "source": [],
      "metadata": {
        "id": "GLMzF_AKBY7a"
      },
      "execution_count": null,
      "outputs": []
    },
    {
      "cell_type": "markdown",
      "source": [
        "# Manipulando los datos\n",
        "\n",
        "Vamos a aprender sobre las variables en Python, cómo declararlas y utilizarlas además de conocer otros comandos de este lenguaje. :D"
      ],
      "metadata": {
        "id": "iP8uWQmFYFRs"
      }
    },
    {
      "cell_type": "markdown",
      "source": [
        "## Variables\n",
        "\n",
        "En Data Science trabajamos con varios tipos de datos e informaciones, entonces es esencial saber cómo trabajar con las variables."
      ],
      "metadata": {
        "id": "sLNVmnTbag1Z"
      }
    },
    {
      "cell_type": "markdown",
      "source": [
        "Las variables en Python se crean cuando atribuimos un valor a ella.\n",
        "\n",
        "Para esto, colocamos el nombre de la variable, el signo de igual (`=`) y el valor que queremos atribuirle."
      ],
      "metadata": {
        "id": "lsCY0wahAbf6"
      }
    },
    {
      "cell_type": "code",
      "source": [],
      "metadata": {
        "id": "vsHh5buZADND"
      },
      "execution_count": null,
      "outputs": []
    },
    {
      "cell_type": "code",
      "source": [],
      "metadata": {
        "id": "sivPtqSjADQV"
      },
      "execution_count": null,
      "outputs": []
    },
    {
      "cell_type": "code",
      "source": [],
      "metadata": {
        "id": "JC8jO47wADlm"
      },
      "execution_count": null,
      "outputs": []
    },
    {
      "cell_type": "markdown",
      "source": [
        "Existen algunos tipos de nomes que **no** podemos definir para las variables:\n",
        "\n",
        "- **Nombres que comiencen con números**\n",
        "  - Ejemplos: `10_notas`, `2_nombre_casa`, etc.\n",
        "- **Palabras separadas por espacio**\n",
        "  - Ejemplos: `Nombre escuela`, `notas estudiantes`, etc.\n",
        "- **Nombres de funciones de Python**\n",
        "  - Ejemplos: `print`, `type`, etc."
      ],
      "metadata": {
        "id": "om2N0jHKAzwL"
      }
    },
    {
      "cell_type": "markdown",
      "source": [
        "> Las letras mayúsculas y minúsculas generarán diferentes variables. La variable `edad` es diferente de `Edad` que a su vez es diferente de `EDAD`:\n",
        "``` Python\n",
        "edad = 1\n",
        "Edad = 2\n",
        "EDAD = 3\n",
        "_edad = 4\n",
        "_edad_ = 5\n",
        "print(edad, Edad, EDAD, _edad, _edad_)\n",
        "1 2 3 4 5\n",
        "```"
      ],
      "metadata": {
        "id": "A19vY2GVMujB"
      }
    },
    {
      "cell_type": "markdown",
      "source": [
        "## Tipos de variables\n",
        "\n",
        "Cada variable contiene una clase específica con respecto al tipo de objeto al cual esta hace referencia. Estas clases serán diferentes de acuerdo con el tipo de dato que le sea atribuido a una variable.\n",
        "\n",
        "Para conocer la clase de cada elemento usamos la función [`type()`](https://docs.python.org/3/library/functions.html#type)"
      ],
      "metadata": {
        "id": "UqhzuBhBHsps"
      }
    },
    {
      "cell_type": "code",
      "source": [],
      "metadata": {
        "id": "J5a9t73A_-PX"
      },
      "execution_count": null,
      "outputs": []
    },
    {
      "cell_type": "code",
      "source": [],
      "metadata": {
        "id": "rqmO1ew-_-So"
      },
      "execution_count": null,
      "outputs": []
    },
    {
      "cell_type": "code",
      "source": [],
      "metadata": {
        "id": "xkrPMkeY_-cP"
      },
      "execution_count": null,
      "outputs": []
    },
    {
      "cell_type": "markdown",
      "source": [
        "En un conjunto de datos escolares podemos tener varios tipos de informaciones. Supongamos que tenemos acceso a la ficha de datos del alumno *Penélope Camacho*, cómo transformamos este nombre en variables de Python?\n",
        "\n",
        "#### Ficha:\n",
        "\n",
        "- Nombre: Penélope Camacho\n",
        "- Edad: 11 años\n",
        "- Promedio del semestre: 9,75\n",
        "- Situación de aprobación: Verdadera (aprobado)"
      ],
      "metadata": {
        "id": "O-FxDumfWu0C"
      }
    },
    {
      "cell_type": "code",
      "source": [],
      "metadata": {
        "id": "FabQ7jQf_8Xt"
      },
      "execution_count": null,
      "outputs": []
    },
    {
      "cell_type": "code",
      "source": [],
      "metadata": {
        "id": "IZLQnZUj_8bd"
      },
      "execution_count": null,
      "outputs": []
    },
    {
      "cell_type": "markdown",
      "source": [
        "## Variables numéricas\n",
        "\n",
        "Entre los tipos de datos numéricos vamos a enfocarnos en los tipos `entero` y `float`."
      ],
      "metadata": {
        "id": "KFq_8Sxf-OG0"
      }
    },
    {
      "cell_type": "markdown",
      "source": [
        "Tenemos una tabla de información sobre los diversos cargos, cantidad de personas empleadas y el salario correspondiente:\n",
        "\n",
        "|Cargo | Cantidad | Salario|\n",
        "|---|---|---|\n",
        "|Vigilante | 5 | 300 |\n",
        "|Docente | 16| 500|\n",
        "|Coordinador| 2 |600|\n",
        "\n",
        "Necesitamos trabajar con estos datos para obtener:\n",
        "\n",
        "- La cantidad total de empleados;\n",
        "- La diferencia entre el salario más bajo y más alto; y\n",
        "- El promedio ponderado de los salarios de los empleados de la escuela."
      ],
      "metadata": {
        "id": "8_HYUbkVYdQY"
      }
    },
    {
      "cell_type": "code",
      "source": [
        "cant_vig = int(5)\n",
        "sueldo_vig = int(300)\n",
        "cant_docen = int(16)\n",
        "sueldo_docen = int(500)\n",
        "cant_coord = int(2)\n",
        "sueldo_coord = int(600)\n",
        "ttal_empleados = int(cant_vig+cant_docen+cant_coord)\n",
        "diferencia = int(max(sueldo_vig, sueldo_docen, sueldo_coord)-min(sueldo_vig, sueldo_docen, sueldo_coord))\n",
        "promedio_ponderado = float(((cant_vig*sueldo_vig)+(cant_docen*sueldo_docen)+(cant_coord*sueldo_coord))/3)\n",
        "print('Total empleados: %d.' % (ttal_empleados))\n",
        "print('Diferecia entre el sueldo mas alto y el mas bajo: %d.'% (diferencia))\n",
        "print('Promedio ponderado de sueldo: %.2f.'% (promedio_ponderado))\n",
        "\n"
      ],
      "metadata": {
        "id": "F_X-wxdm_5Ys",
        "colab": {
          "base_uri": "https://localhost:8080/"
        },
        "outputId": "c8a04a15-1b18-4ff7-a712-8672e3880fec"
      },
      "execution_count": null,
      "outputs": [
        {
          "output_type": "stream",
          "name": "stdout",
          "text": [
            "Total empleados: 23.\n",
            "Diferecia entre el sueldo mas alto y el mas bajo: 300.\n",
            "Promedio ponderado de sueldo: 3566.67.\n"
          ]
        }
      ]
    },
    {
      "cell_type": "code",
      "source": [],
      "metadata": {
        "id": "gKmBbhII_5b9"
      },
      "execution_count": null,
      "outputs": []
    },
    {
      "cell_type": "code",
      "source": [],
      "metadata": {
        "id": "fIugsxNy_53j"
      },
      "execution_count": null,
      "outputs": []
    },
    {
      "cell_type": "markdown",
      "source": [
        "## Strings"
      ],
      "metadata": {
        "id": "yQy7b0ZWoD-P"
      }
    },
    {
      "cell_type": "markdown",
      "source": [
        "Strings hace referencia a un conjunto de caracteres formando un texto.\n",
        "\n",
        "Podemos crear Strings cuando atribuimos un dato a una variable entre comillas sencillas (`'`) o comillas dobles (`\"`)."
      ],
      "metadata": {
        "id": "vlo2-DXusv3s"
      }
    },
    {
      "cell_type": "code",
      "source": [],
      "metadata": {
        "id": "ityEWqvh_2wK"
      },
      "execution_count": null,
      "outputs": []
    },
    {
      "cell_type": "markdown",
      "source": [
        "Las variables textuales son objetos que poseen métodos que nos ayudan a formatear strings. Los métodos los podemos ejecutar al definir un objeto de acuerdo con la siguiente estructura:\n",
        "\n",
        "```\n",
        "objeto.metodo()\n",
        "```\n",
        "\n",
        "Existen métodos que no necesitan los `()`, siempre es una buena práctica verificar la documentación para cada caso."
      ],
      "metadata": {
        "id": "2e9UD_CCxqz_"
      }
    },
    {
      "cell_type": "markdown",
      "source": [
        "---\n",
        "**Situación:**\n",
        "\n",
        "Recibimos una variable con el nombre de una profesora de la escuela para añadirla a los registros. Sin embargo, necesitamos darle un tratamiento a este texto antes de insertarlo al sistema."
      ],
      "metadata": {
        "id": "p6aPmMGP4tf9"
      }
    },
    {
      "cell_type": "code",
      "source": [
        "cant_vig = int(5)\n",
        "sueldo_vig = int(300)\n",
        "cant_docen = int(16)\n",
        "sueldo_docen = int(500)\n",
        "cant_coord = int(2)\n",
        "sueldo_coord = int(600)\n",
        "ttal_empleados = int(cant_vig+cant_docen+cant_coord)\n",
        "diferencia = int(max(sueldo_vig, sueldo_docen, sueldo_coord)-min(sueldo_vig, sueldo_docen, sueldo_coord))\n",
        "promedio_ponderado = float(((cant_vig*sueldo_vig)+(cant_docen*sueldo_docen)+(cant_coord*sueldo_coord))/3)\n",
        "print('Total empleados: %d.' % {ttal_empleados})\n",
        "print('Diferecia entre el sueldo mas alto y el mas bajo: %d.'% {diferencia})\n",
        "print('Promedio ponderado de sueldo: %.2f.'% {promedio_ponderado})"
      ],
      "metadata": {
        "id": "icDWtYTjBO0n"
      },
      "execution_count": null,
      "outputs": []
    },
    {
      "cell_type": "markdown",
      "source": [
        "El objetivo final es que el nombre aparezca de la siguiente forma:\n",
        "\n",
        "```\n",
        "'MICAELA DE LOS SANTOS'\n",
        "```"
      ],
      "metadata": {
        "id": "Dg2ZXSZOGzjC"
      }
    },
    {
      "cell_type": "markdown",
      "source": [
        "### [`str.upper()` ](https://docs.python.org/3/library/stdtypes.html#str.upper)\n",
        "Convierte una string a mayúsculas."
      ],
      "metadata": {
        "id": "iVTAD8q702eN"
      }
    },
    {
      "cell_type": "code",
      "source": [
        "texto= ' Micaela do Tantos  '\n",
        "texto= print(str.upper(texto))\n"
      ],
      "metadata": {
        "id": "wMVshJrY_ZXh",
        "colab": {
          "base_uri": "https://localhost:8080/"
        },
        "outputId": "a93d6d79-86b9-4ae4-e19b-fd2486aab575"
      },
      "execution_count": null,
      "outputs": [
        {
          "output_type": "stream",
          "name": "stdout",
          "text": [
            " MICAELA DO TANTOS  \n"
          ]
        }
      ]
    },
    {
      "cell_type": "markdown",
      "source": [
        "### [`str.lower()`](https://docs.python.org/3/library/stdtypes.html#str.lower)\n",
        "Convierte una string a minúsculas."
      ],
      "metadata": {
        "id": "hbDSBtMV1TpG"
      }
    },
    {
      "cell_type": "code",
      "source": [
        "texto= ' Micaela do Tantos  '\n",
        "texto= print(str.lower(texto))"
      ],
      "metadata": {
        "id": "px3yEeNH_YK4",
        "colab": {
          "base_uri": "https://localhost:8080/"
        },
        "outputId": "cf986dcc-a64a-44bc-cf41-b7288b43b6cc"
      },
      "execution_count": null,
      "outputs": [
        {
          "output_type": "stream",
          "name": "stdout",
          "text": [
            " micaela do tantos  \n"
          ]
        }
      ]
    },
    {
      "cell_type": "markdown",
      "source": [
        "### [`str.strip()`](https://docs.python.org/3/library/stdtypes.html#str.strip)\n",
        "Elimina los espacios en blanco al inicio y al final de una string."
      ],
      "metadata": {
        "id": "kz47eWM11gii"
      }
    },
    {
      "cell_type": "code",
      "source": [
        "texto= ' Micaela do Tantos  '\n",
        "texto= print(str.strip(texto))"
      ],
      "metadata": {
        "id": "76dLgNa4_XAe",
        "colab": {
          "base_uri": "https://localhost:8080/"
        },
        "outputId": "d8fb82a7-4133-4319-de27-f9e3d354e888"
      },
      "execution_count": null,
      "outputs": [
        {
          "output_type": "stream",
          "name": "stdout",
          "text": [
            "Micaela do Tantos\n"
          ]
        }
      ]
    },
    {
      "cell_type": "markdown",
      "source": [
        "### [`str.replace(antiguo, nuevo)`](https://docs.python.org/3/library/stdtypes.html#str.replace)\n",
        "\n",
        "Sustituye todas las ocurrencias del texto \"antiguo\" en la string por el  \"nuevo\"."
      ],
      "metadata": {
        "id": "m6notiyS1SCV"
      }
    },
    {
      "cell_type": "code",
      "source": [
        "texto = ' Micaela do Tantos  '\n",
        "texto = print(texto.replace(\"T\", \"S\"))"
      ],
      "metadata": {
        "id": "PNXAixtE_V6R",
        "colab": {
          "base_uri": "https://localhost:8080/"
        },
        "outputId": "97c4f289-ffe0-4448-bc27-beb050069009"
      },
      "execution_count": null,
      "outputs": [
        {
          "output_type": "stream",
          "name": "stdout",
          "text": [
            " Micaela do Santos  \n"
          ]
        }
      ]
    },
    {
      "cell_type": "markdown",
      "source": [
        "### Observaciones\n",
        "\n",
        "1. Los métodos devuelven una **tranformación**, no son ejecutados directamente sobre la variable donde está almacenado el texto.\n",
        "\n",
        "2. Adicionalmente, podemos acumular la ejecución de los métodos."
      ],
      "metadata": {
        "id": "zukvEjhG2Rcn"
      }
    },
    {
      "cell_type": "code",
      "source": [],
      "metadata": {
        "id": "JjkBRklr_T5n"
      },
      "execution_count": null,
      "outputs": []
    },
    {
      "cell_type": "markdown",
      "source": [
        "Para que la transformación se pueda ejecutar debemos atribuir la salida de las transformaciones a las variables"
      ],
      "metadata": {
        "id": "1KbwfVut2h6I"
      }
    },
    {
      "cell_type": "code",
      "source": [],
      "metadata": {
        "id": "ocPP-Jaj_SJI"
      },
      "execution_count": null,
      "outputs": []
    },
    {
      "cell_type": "code",
      "source": [],
      "metadata": {
        "id": "m1RvLGZZ_SP3"
      },
      "execution_count": null,
      "outputs": []
    },
    {
      "cell_type": "markdown",
      "source": [
        "## Capturando datos\n",
        "\n",
        "En algunas aplicaciones necesitamos capturar los valores del usuario de nuestro proyecto. En python, logramos capturar los datos del usuario a través del comando [`input()`](https://docs.python.org/3/library/functions.html#input).\n",
        "\n",
        "Para ejecutar la captura debemos atribuir el resultado de esta función a una variable."
      ],
      "metadata": {
        "id": "0h9Fh5G9kHCa"
      }
    },
    {
      "cell_type": "code",
      "source": [],
      "metadata": {
        "id": "zbH_9i3q_PdY"
      },
      "execution_count": null,
      "outputs": []
    },
    {
      "cell_type": "code",
      "source": [],
      "metadata": {
        "id": "JZy1Q9Tl_PgL"
      },
      "execution_count": null,
      "outputs": []
    },
    {
      "cell_type": "markdown",
      "source": [
        "La salida de este comando siempre será una *string*. Esto quiere decir que aunque capturemos un valor de variable numérica, este será de tipo string.\n",
        "\n",
        "Entonces, será necesario **convertir el resultado cuando no se desea utilizar el valor como tipo string**."
      ],
      "metadata": {
        "id": "7z7hcLCk_aCY"
      }
    },
    {
      "cell_type": "markdown",
      "source": [
        "Existen funciones para la conversión de valores:\n",
        "\n",
        "- Enteros: [`int(dato_para_conversion)`](https://docs.python.org/3/library/functions.html#int)\n",
        "- Coma flotante: [`float(dato_para_conversion)`](https://docs.python.org/3/library/functions.html#float)\n",
        "- String: [`str(dato_para_conversion)`](https://docs.python.org/3/library/functions.html#func-str)\n",
        "- Booleano: [`bool(dato_para_conversion)`](https://docs.python.org/3/library/functions.html#bool)"
      ],
      "metadata": {
        "id": "TOlegATj1Jfp"
      }
    },
    {
      "cell_type": "code",
      "source": [],
      "metadata": {
        "id": "M2ueeH6l_NMe"
      },
      "execution_count": null,
      "outputs": []
    },
    {
      "cell_type": "code",
      "source": [],
      "metadata": {
        "id": "xfWwuViK_NUn"
      },
      "execution_count": null,
      "outputs": []
    },
    {
      "cell_type": "code",
      "source": [],
      "metadata": {
        "id": "uFCHDyew_NZm"
      },
      "execution_count": null,
      "outputs": []
    },
    {
      "cell_type": "markdown",
      "source": [
        "Trataremos de representar mejor ahora el resultado de la transformación que obtuvimos. Nosotros podemos formatear y presentar nuestro resultado mezclando strings con valores no textuales.\n",
        "\n",
        "Para ello utilizamos la estructura de formatación `f` con strings."
      ],
      "metadata": {
        "id": "yNI2-XTbB3aS"
      }
    },
    {
      "cell_type": "code",
      "source": [],
      "metadata": {
        "id": "keJjA5N9_K5i"
      },
      "execution_count": null,
      "outputs": []
    },
    {
      "cell_type": "markdown",
      "source": [
        "# Estructuras condicionales"
      ],
      "metadata": {
        "id": "NwRaiHHHhhyl"
      }
    },
    {
      "cell_type": "code",
      "source": [],
      "metadata": {
        "id": "pa4gLncu-mvU"
      },
      "execution_count": null,
      "outputs": []
    },
    {
      "cell_type": "code",
      "source": [],
      "metadata": {
        "id": "_cWRmDiE-m4p"
      },
      "execution_count": null,
      "outputs": []
    },
    {
      "cell_type": "markdown",
      "source": [
        "## `IF` y `ELSE`\n",
        "\n",
        "Los comandos `if` y `else` son dos estructuras condicionales. El comando `if` ejecutará el bloque de comandos en caso de que la condición citada sea  **verdadera**. El comando `else` ejecutará el bloque de comandos en el caso de que la condicional de `if` sea **falsa**."
      ],
      "metadata": {
        "id": "qXZqg9aYEhAh"
      }
    },
    {
      "cell_type": "markdown",
      "source": [
        "El comando `if` es una palabra clave en Python que significa \"si\". Este se emplea para conformar la estructura condicional, que te permite verificar si una determinada condición es verdadera o falsa e, inmediatamente después, ejecute un bloque de código específico dependiendo del resultado de la verificación. La sintaxis para usar el comando `if` es:\n",
        "\n",
        "\n",
        "\n",
        "```\n",
        "if condicion:\n",
        "    # Realiza algo\n",
        "```\n",
        "\n"
      ],
      "metadata": {
        "id": "EIhlqHXd2Gil"
      }
    },
    {
      "cell_type": "code",
      "source": [],
      "metadata": {
        "id": "S2S6XAFz-czM"
      },
      "execution_count": null,
      "outputs": []
    },
    {
      "cell_type": "code",
      "source": [],
      "metadata": {
        "id": "YHkwMMyY-c1r"
      },
      "execution_count": null,
      "outputs": []
    },
    {
      "cell_type": "markdown",
      "source": [
        "Ya el comando `else` en Python se usa en junción con la palabra clave `if` para formar una estructura condicional. la sintaxis para usar el `else` es:\n",
        "\n",
        "```\n",
        "if condicion:\n",
        "  # codigo en caso de que sea verdad\n",
        "else:\n",
        "  # codigo en caso de que sea falso\n",
        "```\n",
        "\n",
        "el comando `else` se ejecuta cuando la condición verificada por el `if` es evaluada como `False`."
      ],
      "metadata": {
        "id": "27RW2v_sIKct"
      }
    },
    {
      "cell_type": "code",
      "source": [],
      "metadata": {
        "id": "ZTfNJd_f-aOq"
      },
      "execution_count": null,
      "outputs": []
    },
    {
      "cell_type": "code",
      "source": [],
      "metadata": {
        "id": "LPOb5MkV-btq"
      },
      "execution_count": null,
      "outputs": []
    },
    {
      "cell_type": "markdown",
      "source": [
        "---\n",
        "**Situación:**\n",
        "\n",
        "Recibiremos el promedio de la nota de los estudiantes y necesitamos de un algoritmo que ejecute el análisis y determine si el estudiante fue **Aprobado** o **Reprobado**, mostrando un mensaje del resultado. Para ser aprobado, el promedio necesita ser igual o superior a 7.0."
      ],
      "metadata": {
        "id": "BqORg85XX-Nl"
      }
    },
    {
      "cell_type": "code",
      "source": [
        "estudiante_1=float(input('Ingrese el promedio del estudiante 1: '))\n",
        "estudiante_2=float(input('Ingrese el promedio del estudiante 2: '))\n",
        "estudiante_3=float(input('Ingrese el promedio del estudiante 3: '))\n",
        "if estudiante_1 >= 7.0:\n",
        "  print('El estudiante 1 fue aprobado')\n",
        "else:\n",
        "  print('El estudiante 1 fue reprobado')"
      ],
      "metadata": {
        "id": "UukCN4AQ-YYW",
        "colab": {
          "base_uri": "https://localhost:8080/"
        },
        "outputId": "97a7679d-57fd-46b1-94de-b5367682bb38"
      },
      "execution_count": null,
      "outputs": [
        {
          "output_type": "stream",
          "name": "stdout",
          "text": [
            "Ingrese el promedio del estudiante 1: 7.8\n",
            "Ingrese el promedio del estudiante 2: 6.7\n",
            "Ingrese el promedio del estudiante 3: 9.8\n",
            "El estudiante 1 fue aprobado\n"
          ]
        }
      ]
    },
    {
      "cell_type": "code",
      "source": [
        "promedios=[]\n",
        "try:\n",
        "  while True:\n",
        "    promedio=float(input('Ingrese el promedio del estudiante (o FIN para terminar)'))\n",
        "    promedios.append(promedio)\n",
        "except ValueError:\n",
        "  print('Error: Ingrese valores numéricos para los promedios.')\n",
        "\n",
        "for i, promedio in enumerate(promedios):\n",
        "  if promedio >= 7.0:\n",
        "    print(f'El estudiante {i+1} fue aprobado')\n",
        "  else:\n",
        "    print(f'El estudiante {i+1} fue reprobado')\n"
      ],
      "metadata": {
        "id": "X0o8FW1H-YkA",
        "colab": {
          "base_uri": "https://localhost:8080/"
        },
        "outputId": "66497f83-cf7d-4e66-b240-476d2b0e15af"
      },
      "execution_count": null,
      "outputs": [
        {
          "output_type": "stream",
          "name": "stdout",
          "text": [
            "Ingrese el promedio del estudiante (o FIN para terminar)9.5\n",
            "Ingrese el promedio del estudiante (o FIN para terminar)3.2\n",
            "Ingrese el promedio del estudiante (o FIN para terminar)1.3\n",
            "Ingrese el promedio del estudiante (o FIN para terminar)fin\n",
            "Error: Ingrese valores numéricos para los promedios.\n",
            "El estudiante 1 fue aprobado\n",
            "El estudiante 2 fue reprobado\n",
            "El estudiante 3 fue reprobado\n"
          ]
        }
      ]
    },
    {
      "cell_type": "markdown",
      "source": [
        "Ahora, nuestra institución educativa estableció que las personas que tengan el promedio entre 5.0 y 7.0 pueden participar del curso de **Recuperación** durante las vacaciones para lograr aprobar.\n",
        "\n",
        "Entonces podemos apoyarnos en un conjunto de `if`s para poder estructurar esta nueva condición."
      ],
      "metadata": {
        "id": "bD9O17HB6LUo"
      }
    },
    {
      "cell_type": "code",
      "source": [],
      "metadata": {
        "id": "G9cJ5O9--W52"
      },
      "execution_count": null,
      "outputs": []
    },
    {
      "cell_type": "code",
      "source": [],
      "metadata": {
        "id": "iU-pjoJt-W89"
      },
      "execution_count": null,
      "outputs": []
    },
    {
      "cell_type": "markdown",
      "source": [
        "Observa que en casos con 3 situaciones como este necesitamos definir bien nuestras condiciones. Pues, si realizamos una condición con `else` al final, este irá a considerar solamente la condición `if` inmediatamente anterior para generar la salida en caso de que el resultado de su operación lógica sea **falso** dando como resultado, dos o más ejecuciones.\n",
        "\n",
        "Por ejemplo:"
      ],
      "metadata": {
        "id": "D5e2mByjvycO"
      }
    },
    {
      "cell_type": "code",
      "source": [],
      "metadata": {
        "id": "C21JmOuK-VU8"
      },
      "execution_count": null,
      "outputs": []
    },
    {
      "cell_type": "code",
      "source": [],
      "metadata": {
        "id": "bHiVgnPs-Vlv"
      },
      "execution_count": null,
      "outputs": []
    },
    {
      "cell_type": "markdown",
      "source": [
        "## `ELIF`\n",
        "\n",
        "El comando `elif` es una palabra clave en Python que significa \"si no, si\" y lo podemos considerar una *contracción* entre `else` e `if`. Se utiliza en conjunto con la palabra clave `if` para formar una estructura condicional en cadena."
      ],
      "metadata": {
        "id": "04T5g-7h4zWx"
      }
    },
    {
      "cell_type": "markdown",
      "source": [
        "la sintaxis para utilizar el comando `elif` es:\n",
        "\n",
        "```\n",
        "if condicion1:\n",
        "    # Realiza algo\n",
        "elif condicion2:\n",
        "    # Realiza otra cosa\n",
        "elif condicion3:\n",
        "    # Realiza otra cosa\n",
        "else:\n",
        "    # Realiza algo diferente\n",
        "```\n",
        "\n",
        "El comando `elif` permite que puedas verificar varias condiciones en cadena, economizando espacio en tu código. Si la primera condición se evalúa como `False`, el interpretador de Python evaluará la próxima condición con el `elif`. Ello continuará hasta que una condición sea evaluada como `True` o hasta que el `else` sea alcazado. Si ninguna de las condiciones es evaluada como `True`, la ejecución del código del comando `else` será iniciada."
      ],
      "metadata": {
        "id": "rNBHr5mm1Lm6"
      }
    },
    {
      "cell_type": "markdown",
      "source": [
        "Vamos a emplear el mismo caso anterior:"
      ],
      "metadata": {
        "id": "MVoykFbB4bd4"
      }
    },
    {
      "cell_type": "code",
      "source": [
        "# 10 - Se debe escribir un programa para leer los números y preguntar al usuario qué operación desea realizar.\n",
        "#El resultado de la operación debe incluir información sobre el número,\n",
        "#si es par o impar, positivo o negativo y decimal par.\n",
        "\n",
        "# Ingreso información\n",
        "while True:\n",
        "    numero_1=float(input('Ingrese un número: '))\n",
        "    numero_2=float(input('Ingrese un número: '))\n",
        "    operación=input('Ingrese la operación que desea realizar (+, -, *, /): ')\n",
        "\n",
        "# Determinar que operación se realizará y entrregar resultado\n",
        "    if operación == '+':\n",
        "      resultado=(float(numero_1)+float(numero_2))\n",
        "      print('El primer número %.2f mas el segundo %.2f, suman :%.2f'% (numero_1, numero_2, resultado))\n",
        "    else:\n",
        "      if operación == '-':\n",
        "        resultado=(float(numero_1)-float(numero_2))\n",
        "        print('El primer número %.2f menos el segundo %.2f, da :%.2f'% (numero_1, numero_2, resultado))\n",
        "      else:\n",
        "        if operación == '*':\n",
        "          resultado=(float(numero_1)*float(numero_2))\n",
        "          print('El primer número %.2f multiplicado por el segundo %.2f, da :%.2f' % (numero_1, numero_2, resultado))\n",
        "        else:\n",
        "          if operación == '/':\n",
        "            resultado=(float(numero_1)/float(numero_2))\n",
        "            print('El primer número %.2f dividido por el segundo %.2f, da :%.2f'% (numero_1, numero_2, resultado))\n",
        "          else:\n",
        "            print('Operación no válida')\n",
        "\n",
        "    # Analizar el resultado y entregar información\n",
        "    if resultado >= 0:\n",
        "        print('El resultado %.2f es positivo' % (resultado))\n",
        "    else:\n",
        "        print('El resultado es negativo')\n",
        "\n",
        "    if resultado == int(resultado):\n",
        "        print('El resultado %.2f es un número entero ' % (resultado))\n",
        "        if resultado % 2 == 0:\n",
        "            print('El resultado es par')\n",
        "        else:\n",
        "            print('El resultado es impar')\n",
        "    else:\n",
        "        print('El resultado %.2f es un número decimal' % (resultado))\n",
        "        # Aquí podrías agregar lógica para determinar si la parte decimal es \"par\"\n",
        "        # (esto requeriría definir qué significa \"decimal par\")\n",
        "    # Opción para salir del bucle\n",
        "    salir = input('¿Desea realizar otra operación? (s/n): ')\n",
        "    if salir.lower() != 's':\n",
        "        break"
      ],
      "metadata": {
        "id": "QFamB78s-TW_"
      },
      "execution_count": null,
      "outputs": []
    },
    {
      "cell_type": "code",
      "source": [
        "## 11 - Escribe un programa que pida a la persona usuaria tres números que representan los lados de un triángulo.\n",
        "#El programa debe informar si los valores pueden utilizarse para formar un triángulo y, en caso afirmativo,\n",
        "#si es equilátero, isósceles o escaleno. Ten en cuenta algunas sugerencias:\n",
        "#\n",
        "#Tres lados forman un triángulo cuando la suma de cualesquiera dos lados es mayor que el tercero;\n",
        "#Triángulo Equilátero: tres lados iguales;\n",
        "#Triángulo Isósceles: dos lados iguales;\n",
        "#Triángulo Escaleno: tres lados diferentes.\n",
        "\n",
        "try:\n",
        "    lado1 = float(input('Ingrese el primer lado del triángulo: '))\n",
        "    lado2 = float(input('Ingrese el segundo lado del triángulo: '))\n",
        "    lado3 = float(input('Ingrese el tercer lado del triángulo: '))\n",
        "    print('Primer lado: %.2f Segundo lado: %.2f Tercer lado: %.2f'%(lado1, lado2, lado3))\n",
        "\n",
        "    if (lado1 + lado2) > lado3 and (lado1 + lado3) > lado2 and (lado2 + lado3) > lado1:\n",
        "        print('Los valores ingresados pueden formar un triángulo')\n",
        "        if lado1 == lado2 == lado3:\n",
        "            print('El triángulo es equilátero')\n",
        "        elif lado1 == lado2 or lado1 == lado3 or lado2 == lado3:\n",
        "            print('El triángulo es isósceles')\n",
        "        else:\n",
        "            print('El triángulo es escaleno')\n",
        "    else:\n",
        "        print('Los valores ingresados no pueden formar un triángulo')\n",
        "\n",
        "except ValueError:\n",
        "    print('Error: Por favor, ingrese valores numéricos para los lados del triángulo.')\n"
      ],
      "metadata": {
        "id": "nuScbnHF-TfK"
      },
      "execution_count": null,
      "outputs": []
    },
    {
      "cell_type": "code",
      "source": [
        "## 12 - Un establecimiento está vendiendo combustibles con descuentos variables.\n",
        "# Para el etanol, si la cantidad comprada es de hasta 15 litros, el descuento será del 2% por litro.\n",
        "# En caso contrario, será del 4% por litro. Para el diésel, si la cantidad comprada es de hasta 15 litros,\n",
        "# el descuento será del 3% por litro. En caso contrario, será del 5% por litro. El precio por litro de diésel es de R$ 2,00\n",
        "# y el precio por litro de etanol es de R$ 1,70. Escribe un programa que lea la cantidad de litros vendidos\n",
        "# y el tipo de combustible (E para etanol y D para diésel) y calcule el valor a pagar por el cliente. Ten en cuenta algunas sugerencias:\n",
        "\n",
        "# El valor del descuento será el producto del precio por litro, la cantidad de litros y el valor del descuento.\n",
        "# El valor a pagar por un cliente será el resultado de la multiplicación del precio por litro por la cantidad de litros\n",
        "# menos el valor del descuento resultante del cálculo.\n",
        "\n",
        "tipo= input('¿Que tipo de combustible cargará? (E:etanol; D:diesel): ')\n",
        "litros= float(input('¿Cuantos litros cargará?: '))\n",
        "\n",
        "# Valor Etanol con descuento según cantidad de litros\n",
        "precioE_hasta_15= 2*0.98\n",
        "precioE_mas_de_15= 2*0.96\n",
        "# Valor Diesel con descuento según cantidad de litros\n",
        "precioD_hasta_15= 1.70*0.97\n",
        "precioD_mas_de_15= 1.70*0.95\n",
        "\n",
        "if tipo == 'E':\n",
        "# Etanol: hasta 15 litros, descuento 2%\n",
        "  if litros<=15:\n",
        "    valor_pago = precioE_hasta_15*litros\n",
        "    print('Total a pagar R$: %.2f'%(valor_pago))\n",
        "# Etanol: mas de 15 litros, descuento 4%\n",
        "  else:\n",
        "      valor_pago = precioE_mas_de_15*litros\n",
        "      print('Total a pagar R$: %.2f'%(valor_pago))\n",
        "if tipo == 'D':\n",
        "# Diesel: hasta 15 litros, descuento 3%\n",
        "    if litros<=15:\n",
        "      valor_pago = precioD_hasta_15*litros\n",
        "      print('Total a pagar R$: %.2f'%(valor_pago))\n",
        "# Diesel: mas de 15 litros, descuento 5%\n",
        "    else:\n",
        "      valor_pago = precioD_mas_de_15*litros\n",
        "      print('Total a pagar R$: %.2f'%(valor_pago))\n",
        "\n",
        "# ETANOL hasta 15 lts: R$2.00 x -2% = 1,96 (15 lts R$29.40)\n",
        "# ETANOL mas de 15 lts: R$2.00 x -4% = 1,92 (16 lts R$30.72)\n",
        "# DIESEL hasta 15 lts: R$1.70 x -3% = 1,649 (15 lts R$24.735)\n",
        "# DIESEL mas de 15 lts: R$1.70 x -5% = 1,615 (16 lts R$25.84)"
      ],
      "metadata": {
        "id": "O95CfKCpj9gX"
      },
      "execution_count": null,
      "outputs": []
    },
    {
      "cell_type": "code",
      "source": [
        "## 13 - En una empresa de venta de bienes raíces, debes crear un código que analice los datos\n",
        "# de ventas anuales para ayudar a la dirección en la toma de decisiones. El código debe recopilar\n",
        "# los datos de cantidad de ventas durante los años 2022 y 2023 y calcular la variación porcentual.\n",
        "# A partir del valor de la variación, se deben proporcionar las siguientes sugerencias:\n",
        "\n",
        "# Para una variación superior al 20%: bonificación para el equipo de ventas.\n",
        "# Para una variación entre el 2% y el 20%: pequeña bonificación para el equipo de ventas.\n",
        "# Para una variación entre el 2% y el -10%: planificación de políticas de incentivo a las ventas.\n",
        "# Para bonificaciones inferiores al -10%: recorte de gastos.\n",
        "\n",
        "ventas_2022=float(input('Ingrese la cantidad de ventas del año 2022: '))\n",
        "ventas_2023=float(input('Ingrese la cantidad de ventas del año 2023: '))\n",
        "\n",
        "while  ventas_2022 != 0:\n",
        "    if ventas_2022>ventas_2023:\n",
        "      variacion = -(ventas_2023 / ventas_2022)\n",
        "      print('Variación porcentual: %.2f' % (variacion))\n",
        "    else:\n",
        "      variacion = ventas_2023 / ventas_2022\n",
        "      print('Variación porcentual: %.2f' % (variacion))\n",
        "    if variacion < -0.09:  # Interpretando -0.9 como -90% de variación\n",
        "        print('Recorte de gastos')\n",
        "    elif -0.09 <= variacion <= 0.02: # Interpretando -0.9 como -90% y +1.02 como +2% de variación\n",
        "        print('Pequeña bonificación para el equipo de ventas.')\n",
        "    elif variacion >= 0.02 and variacion < 0.8: # Interpretando 0.8 como +80% de variación\n",
        "        print('Planificación de políticas de incentivo a las ventas')\n",
        "    elif variacion >= 0.8:\n",
        "        print('Bonificación para el equipo de ventas')\n",
        "    else:\n",
        "      print('No se puede calcular la variación porcentual si las ventas de 2022 son cero.')\n",
        "    break"
      ],
      "metadata": {
        "id": "BAgPHH2ekGs3"
      },
      "execution_count": null,
      "outputs": []
    },
    {
      "cell_type": "markdown",
      "source": [
        "## Operadores\n",
        "\n",
        "Durante la construcción de comandos a veces necesitamos de una elaboración mayor de la expresión condicional, necesitando que algunos operadores lógicos se encuentren integrados."
      ],
      "metadata": {
        "id": "Tf1wSOem6iwZ"
      }
    },
    {
      "cell_type": "markdown",
      "source": [
        "### `AND`, `OR`, `NOT`\n",
        "\n",
        "Los operadores lógicos `and`, `or` y `not` son usados para combinar expresiones lógicas en Python. Ellos son usados frecuentemente en conjunto con el comando `if` para crear estructuras condicionales más complejas.\n"
      ],
      "metadata": {
        "id": "GFIZnRWXGPWO"
      }
    },
    {
      "cell_type": "markdown",
      "source": [
        "- `AND` es usado para verificar si dos condiciones son verdaderas. La expresión lógica¹ `x and y` se evalúa como `True` tan solo si **ambas condiciones `x` y `y` son verdaderas**, y como `False` en caso contrario.\n",
        "\n",
        "- `OR` es usado para verificar si al menos una de las condiciones es verdadera. La expresión lógica `x or y` se evalúa como `True` **si al menos una de las condiciones `x` o `y` es verdadera**, y como `False` si ambas condiciones son falsas.\n",
        "\n",
        "- `NOT` es usado para **negar una condición**. La expresión lógica `not x` es evaluada como `True` si la condición x es falsa, y como `False` si la condición x es verdadera.\n",
        "\n",
        "¹ Una expresión lógica es una declaración que puede ser evaluada como verdadera o falsa. Ella se compone por operandos lógicos² y por operadores lógicos³, que son usados ​​para combinar varias expresiones lógicas en una única expresión.\n",
        "\n",
        "² Los operandos lógicos son los elementos que son comparados o evaluados en una expresión lógica. Ellos son generalmente valores verdaderos o falsos, pero también pueden ser expresiones lógicas más complejas. En Python, los operandos lógicos son los valores `True` y `False`.\n",
        "\n",
        "³ Los operadores lógicos son ls símbolos o palabras clave que son usados ​​para combinar varias expresiones lógicas en una única expresión. En Python, los operadores lógicos son `and`, `or` y `not`, bien como las palabras clave `if`, `elif` e `else`."
      ],
      "metadata": {
        "id": "Z_dgAoHXJbzB"
      }
    },
    {
      "cell_type": "markdown",
      "source": [
        "> Operadores lógicos más comunes\n",
        "\n",
        "|a|b|AND|OR|NOT|\n",
        "|-|-|-|-|-|\n",
        "|0|0|0|0|1\n",
        "|0|1|0|1|-\n",
        "|1|0|0|1|-\n",
        "|1|1|1|1|0\n"
      ],
      "metadata": {
        "id": "2E5aUogf-49u"
      }
    },
    {
      "cell_type": "code",
      "source": [],
      "metadata": {
        "id": "DFKmpvmS-Pa6"
      },
      "execution_count": null,
      "outputs": []
    },
    {
      "cell_type": "code",
      "source": [
        "\n",
        "\n",
        "\n"
      ],
      "metadata": {
        "id": "fpDhYxq4-PiM"
      },
      "execution_count": null,
      "outputs": []
    },
    {
      "cell_type": "code",
      "source": [],
      "metadata": {
        "id": "XUyaAqBT3hAJ"
      },
      "execution_count": null,
      "outputs": []
    },
    {
      "cell_type": "markdown",
      "source": [
        "11### `IN`\n",
        "\n",
        "Es usado para verificar si un elemento está presente en una lista, tupla u otra colección de conjunto. La expresión `x in y` se evalúa como `True` si el elemento `x` esta presente na variávelen la variable de conjunto `y`, y como `False` en caso contrario."
      ],
      "metadata": {
        "id": "w7EXG1dhWtja"
      }
    },
    {
      "cell_type": "code",
      "source": [],
      "metadata": {
        "id": "C1Y69Tcs3bXk"
      },
      "execution_count": null,
      "outputs": []
    },
    {
      "cell_type": "markdown",
      "source": [
        "Podemos verificarlo con variables de texto.\n",
        "\n",
        "---\n",
        "\n",
        "**Situación:**\n",
        "\n",
        "En la escuela nos entregaron una lista con nombres de estudiantes que fueron aprobados según el promedio del semestre, pero es necesario verificar si algunos nombres están en esa lista para confirmar que los datos estén correctos.\n",
        "\n",
        "La lista distribuida puede ser observada a continuación:\n",
        "\n",
        "```\n",
        "lista = 'Juan Pérez, María González, Pedro Rodríguez, Ana López, Carlos Martínez,\n",
        "    Laura Sánchez, José García, Elena Fernández, Luis Morales, Carmen Torres,\n",
        "    David Ruiz, Isabel Ramírez, Javier Díaz, Sara Herrera, Miguel Castro,\n",
        "    Patricia Ortega, Francisco Vargas, Marta Jiménez, Manuel Medina, Rosa Molina,\n",
        "    Alejandro Silva, Silvia Ruiz, Andrés Torres, Natalia Soto, Diego Guerrero,\n",
        "    Paula Ríos, Ricardo Navarro, Alicia Cordero, Carlos Vidal, Lorena Gómez'\n",
        "```\n",
        "\n",
        "Los nombres que necesitas verificar son los siguientes:\n",
        "\n",
        "```\n",
        "nombre_1 = 'Miguel Castro'\n",
        "nombre_2 = 'Marcelo Noguera'\n",
        "```"
      ],
      "metadata": {
        "id": "enJNp6JenQbq"
      }
    },
    {
      "cell_type": "code",
      "source": [
        "lista = 'Juan Pérez', 'María González', 'Pedro Rodríguez', 'Ana López', 'Carlos Martínez','Laura Sánchez', 'José García', 'Elena Fernández', 'Luis Morales', 'Carmen Torres','David Ruiz', 'Isabel Ramírez', 'Javier Díaz', 'Sara Herrera', 'Miguel Castro','Patricia Ortega', 'Francisco Vargas', 'Marta Jiménez', 'Manuel Medina', 'Rosa Molina','Alejandro Silva', 'Silvia Ruiz', 'Andrés Torres', 'Natalia Soto', 'Diego Guerrero','Paula Ríos', 'Ricardo Navarro', 'Alicia Cordero', 'Carlos Vidal', 'Lorena Gómez'\n",
        "nombre_1 = 'Pedro Rodriguez'\n",
        "nombre_2 = 'Marcelo Noguera'\n",
        "if nombre_1 in lista:\n",
        "  print('El estudiante %s está aprobado' % (nombre_1,))\n",
        "else:\n",
        "  print('El estudiante %s no está aprobado % está aprobado' % (nombre_1,))\n",
        "if nombre_2 in lista:\n",
        "  print('El estudiante %s está aprobado' % (nombre_2,))\n",
        "else:\n",
        "  print('El estudiante %s no está aprobado'% (nombre_2,))"
      ],
      "metadata": {
        "colab": {
          "base_uri": "https://localhost:8080/",
          "height": 211
        },
        "id": "Xq1OwstHTMXX",
        "outputId": "947ebf47-ba80-4b04-a3a8-d320b81f9706"
      },
      "execution_count": null,
      "outputs": [
        {
          "output_type": "error",
          "ename": "TypeError",
          "evalue": "not enough arguments for format string",
          "traceback": [
            "\u001b[0;31m---------------------------------------------------------------------------\u001b[0m",
            "\u001b[0;31mTypeError\u001b[0m                                 Traceback (most recent call last)",
            "\u001b[0;32m<ipython-input-15-55a2c10d21cb>\u001b[0m in \u001b[0;36m<cell line: 0>\u001b[0;34m()\u001b[0m\n\u001b[1;32m      5\u001b[0m   \u001b[0mprint\u001b[0m\u001b[0;34m(\u001b[0m\u001b[0;34m'El estudiante %s está aprobado'\u001b[0m \u001b[0;34m%\u001b[0m \u001b[0;34m(\u001b[0m\u001b[0mnombre_1\u001b[0m\u001b[0;34m,\u001b[0m\u001b[0;34m)\u001b[0m\u001b[0;34m)\u001b[0m\u001b[0;34m\u001b[0m\u001b[0;34m\u001b[0m\u001b[0m\n\u001b[1;32m      6\u001b[0m \u001b[0;32melse\u001b[0m\u001b[0;34m:\u001b[0m\u001b[0;34m\u001b[0m\u001b[0;34m\u001b[0m\u001b[0m\n\u001b[0;32m----> 7\u001b[0;31m   \u001b[0mprint\u001b[0m\u001b[0;34m(\u001b[0m\u001b[0;34m'El estudiante %s no está aprobado % está aprobado'\u001b[0m \u001b[0;34m%\u001b[0m \u001b[0;34m(\u001b[0m\u001b[0mnombre_1\u001b[0m\u001b[0;34m,\u001b[0m\u001b[0;34m)\u001b[0m\u001b[0;34m)\u001b[0m\u001b[0;34m\u001b[0m\u001b[0;34m\u001b[0m\u001b[0m\n\u001b[0m\u001b[1;32m      8\u001b[0m \u001b[0;32mif\u001b[0m \u001b[0mnombre_2\u001b[0m \u001b[0;32min\u001b[0m \u001b[0mlista\u001b[0m\u001b[0;34m:\u001b[0m\u001b[0;34m\u001b[0m\u001b[0;34m\u001b[0m\u001b[0m\n\u001b[1;32m      9\u001b[0m   \u001b[0mprint\u001b[0m\u001b[0;34m(\u001b[0m\u001b[0;34m'El estudiante %s está aprobado'\u001b[0m \u001b[0;34m%\u001b[0m \u001b[0;34m(\u001b[0m\u001b[0mnombre_2\u001b[0m\u001b[0;34m,\u001b[0m\u001b[0;34m)\u001b[0m\u001b[0;34m)\u001b[0m\u001b[0;34m\u001b[0m\u001b[0;34m\u001b[0m\u001b[0m\n",
            "\u001b[0;31mTypeError\u001b[0m: not enough arguments for format string"
          ]
        }
      ]
    },
    {
      "cell_type": "code",
      "source": [
        "## 13 - En una empresa de venta de bienes raíces, debes crear un código que analice los datos\n",
        "# de ventas anuales para ayudar a la dirección en la toma de decisiones. El código debe recopilar\n",
        "# los datos de cantidad de ventas durante los años 2022 y 2023 y calcular la variación porcentual.\n",
        "# A partir del valor de la variación, se deben proporcionar las siguientes sugerencias:\n",
        "\n",
        "# Para una variación superior al 20%: bonificación para el equipo de ventas.\n",
        "# Para una variación entre el 2% y el 20%: pequeña bonificación para el equipo de ventas.\n",
        "# Para una variación entre el 2% y el -10%: planificación de políticas de incentivo a las ventas.\n",
        "# Para bonificaciones inferiores al -10%: recorte de gastos.\n",
        "\n",
        "ventas_2022=float(input('Ingrese la cantidad de ventas del año 2022: '))\n",
        "ventas_2023=float(input('Ingrese la cantidad de ventas del año 2023: '))\n",
        "\n",
        "while  ventas_2022 != 0:\n",
        "    if ventas_2022>ventas_2023:\n",
        "      variacion = -(ventas_2023 / ventas_2022)\n",
        "      print('Variación porcentual: %.2f' % (variacion))\n",
        "    else:\n",
        "      variacion = ventas_2023 / ventas_2022\n",
        "      print('Variación porcentual: %.2f' % (variacion))\n",
        "    if variacion < -0.09:  # Interpretando -0.9 como -90% de variación\n",
        "        print('Recorte de gastos')\n",
        "    elif -0.09 <= variacion <= 0.02: # Interpretando -0.9 como -90% y +1.02 como +2% de variación\n",
        "        print('Pequeña bonificación para el equipo de ventas.')\n",
        "    elif variacion >= 0.02 and variacion < 0.8: # Interpretando 0.8 como +80% de variación\n",
        "        print('Planificación de políticas de incentivo a las ventas')\n",
        "    elif variacion >= 0.8:\n",
        "        print('Bonificación para el equipo de ventas')\n",
        "    else:\n",
        "      print('No se puede calcular la variación porcentual si las ventas de 2022 son cero.')\n",
        "    break"
      ],
      "metadata": {
        "id": "gPPN9BCT-Mki",
        "colab": {
          "base_uri": "https://localhost:8080/",
          "height": 211
        },
        "outputId": "80961cf6-412b-432c-bce0-5a9e8ff2a404"
      },
      "execution_count": null,
      "outputs": [
        {
          "output_type": "error",
          "ename": "NameError",
          "evalue": "name 'nombre_1' is not defined",
          "traceback": [
            "\u001b[0;31m---------------------------------------------------------------------------\u001b[0m",
            "\u001b[0;31mNameError\u001b[0m                                 Traceback (most recent call last)",
            "\u001b[0;32m<ipython-input-2-9bd3a7905aa7>\u001b[0m in \u001b[0;36m<cell line: 0>\u001b[0;34m()\u001b[0m\n\u001b[0;32m----> 1\u001b[0;31m \u001b[0;32mif\u001b[0m \u001b[0mnombre_1\u001b[0m \u001b[0;32min\u001b[0m \u001b[0mlista\u001b[0m\u001b[0;34m:\u001b[0m\u001b[0;34m\u001b[0m\u001b[0;34m\u001b[0m\u001b[0m\n\u001b[0m\u001b[1;32m      2\u001b[0m   \u001b[0mprint\u001b[0m\u001b[0;34m(\u001b[0m\u001b[0;34m'El estudiante está aprobado'\u001b[0m\u001b[0;34m)\u001b[0m\u001b[0;34m\u001b[0m\u001b[0;34m\u001b[0m\u001b[0m\n\u001b[1;32m      3\u001b[0m \u001b[0;32melse\u001b[0m\u001b[0;34m:\u001b[0m\u001b[0;34m\u001b[0m\u001b[0;34m\u001b[0m\u001b[0m\n\u001b[1;32m      4\u001b[0m     \u001b[0mprint\u001b[0m\u001b[0;34m(\u001b[0m\u001b[0;34m'El estudiante no está aprobado'\u001b[0m\u001b[0;34m)\u001b[0m\u001b[0;34m\u001b[0m\u001b[0;34m\u001b[0m\u001b[0m\n\u001b[1;32m      5\u001b[0m     \u001b[0;32mif\u001b[0m \u001b[0mnombre_2\u001b[0m \u001b[0;32min\u001b[0m \u001b[0mlista\u001b[0m\u001b[0;34m:\u001b[0m\u001b[0;34m\u001b[0m\u001b[0;34m\u001b[0m\u001b[0m\n",
            "\u001b[0;31mNameError\u001b[0m: name 'nombre_1' is not defined"
          ]
        }
      ]
    },
    {
      "cell_type": "code",
      "source": [],
      "metadata": {
        "id": "GINbG3Fa-Mnb"
      },
      "execution_count": null,
      "outputs": []
    },
    {
      "cell_type": "code",
      "source": [],
      "metadata": {
        "id": "hk-RhNRT-Mp7"
      },
      "execution_count": null,
      "outputs": []
    },
    {
      "cell_type": "markdown",
      "source": [
        "# Estructuras de repetición"
      ],
      "metadata": {
        "id": "aL1vJPewvwvz"
      }
    },
    {
      "cell_type": "markdown",
      "source": [
        "Cuando tenemos que ejecutar un mismo bloque de comandos durante varias ocasiones no es nada práctico hacerlo a mano.\n",
        "\n",
        "**Situación**: Nos fue solicitado obtener e imprimir el promedio de 2 notas de **3 estudantes**:"
      ],
      "metadata": {
        "id": "VcPfCa8d-84t"
      }
    },
    {
      "cell_type": "code",
      "source": [
        "nota_1=float(input('Ingrese la nota del estudiante 1: '))\n",
        "nota_2=float(input('Ingrese la nota del estudiante 2: '))\n",
        "print(f'Promedio de notas del estudiante: {(nota_1+nota_2)/2}')\n"
      ],
      "metadata": {
        "id": "xcx21IGT9qA0",
        "colab": {
          "base_uri": "https://localhost:8080/"
        },
        "outputId": "b802d5ce-e12e-4f9c-e017-b3a94056f43e"
      },
      "execution_count": null,
      "outputs": [
        {
          "output_type": "stream",
          "name": "stdout",
          "text": [
            "Ingrese la nota del estudiante 1: 7.8\n",
            "Ingrese la nota del estudiante 2: 8.6\n",
            "Promedio de notas del estudiante: 8.2\n"
          ]
        }
      ]
    },
    {
      "cell_type": "code",
      "source": [],
      "metadata": {
        "id": "Wtbiy9Ay9rGJ"
      },
      "execution_count": null,
      "outputs": []
    },
    {
      "cell_type": "code",
      "source": [],
      "metadata": {
        "id": "Yfyz4anY9rIr"
      },
      "execution_count": null,
      "outputs": []
    },
    {
      "cell_type": "markdown",
      "source": [
        "Ahora imaginemos una situación en que no son tan solo 3 estudiantes, sino 100 estudiantes. No sería nada interesante repetir el mismo código 100 veces, sino **ejecutar el mismo código 100 veces**.\n",
        "\n",
        "¡Esta estructura la logramos construir con lazos de repetición!"
      ],
      "metadata": {
        "id": "9puIuvUbFSFX"
      }
    },
    {
      "cell_type": "markdown",
      "source": [
        "## `WHILE`"
      ],
      "metadata": {
        "id": "uLO9-aE4-wx8"
      }
    },
    {
      "cell_type": "markdown",
      "source": [
        "El lazo `while` es una estructura de control de repetición en Python que permite ejecutar un bloque de código repetidamente mientras que una determinada condición sea verdadera. Su estructura es:\n",
        "\n",
        "\n",
        "\n",
        "```\n",
        "while condicion:\n",
        "    # bloque de codigo\n",
        "```\n",
        "\n",
        "Vamos a construir un ejemplo con un contador de 1 hasta 10.\n"
      ],
      "metadata": {
        "id": "rXZxDMiqHxm9"
      }
    },
    {
      "cell_type": "code",
      "source": [
        "contador=0.1\n",
        "while 0<contador<10:\n",
        "  print(int(contador))\n",
        "  contador+=2\n"
      ],
      "metadata": {
        "id": "Hd0ZSWxD9wCD",
        "colab": {
          "base_uri": "https://localhost:8080/"
        },
        "outputId": "35193692-3f7d-4a9b-b467-f6905607b1fc"
      },
      "execution_count": null,
      "outputs": [
        {
          "output_type": "stream",
          "name": "stdout",
          "text": [
            "0\n",
            "2\n",
            "4\n",
            "6\n",
            "8\n"
          ]
        }
      ]
    },
    {
      "cell_type": "code",
      "source": [],
      "metadata": {
        "id": "miFHNqp29nOL"
      },
      "execution_count": null,
      "outputs": []
    },
    {
      "cell_type": "markdown",
      "source": [
        "Ahora vamos a colectar las notas y promedios de cada alumno dentro del lazo `while`. Haremos un ejemplo con 3 promedios."
      ],
      "metadata": {
        "id": "W4KZPBJuIrut"
      }
    },
    {
      "cell_type": "code",
      "source": [
        "contador=1\n",
        "while contador <=2:\n",
        "  nota_1=float(input('Ingrese la primera nota del estudiante: '))\n",
        "  nota_2=float(input('Ingrese la segunda nota del estudiante: '))\n",
        "  print(f'Promedio de notas del estudiante: {(nota_1+nota_2)/2}')\n",
        "  contador +=1"
      ],
      "metadata": {
        "id": "9T5eCLFx9wk6",
        "colab": {
          "base_uri": "https://localhost:8080/"
        },
        "outputId": "10459a7b-7817-4d7c-dadf-6cff1986988c"
      },
      "execution_count": null,
      "outputs": [
        {
          "output_type": "stream",
          "name": "stdout",
          "text": [
            "Ingrese la primera nota del estudiante: 3.5\n",
            "Ingrese la segunda nota del estudiante: 7\n",
            "Promedio de notas del estudiante: 5.25\n",
            "Ingrese la primera nota del estudiante: 6.7\n",
            "Ingrese la segunda nota del estudiante: 2.9\n",
            "Promedio de notas del estudiante: 4.8\n"
          ]
        }
      ]
    },
    {
      "cell_type": "code",
      "source": [],
      "metadata": {
        "id": "P6E0_dW-9lZ9"
      },
      "execution_count": null,
      "outputs": []
    },
    {
      "cell_type": "markdown",
      "source": [
        "## `FOR`"
      ],
      "metadata": {
        "id": "WgAIaENMMfCP"
      }
    },
    {
      "cell_type": "markdown",
      "source": [
        "El lazo `for` es un tipo de estructura de control de flujo en Python que permite iterar sobre un conjunto de elementos. Su estructura es:\n",
        "\n",
        "\n",
        "\n",
        "```\n",
        "for elemento in conjunto:\n",
        "    # codigo a ser ejecutado para cada elemento\n",
        "```\n",
        "\n",
        "El lazo `for` itera sobre cada elemento del conjunto especificado y ejecuta el bloque de código dentro del lazo para cada elemento. Cuando el lazo llega al final del conjunto, este se interrumpe y el programa continúa la ejecución después del lazo.\n",
        "\n"
      ],
      "metadata": {
        "id": "HxrSZoRAMh-x"
      }
    },
    {
      "cell_type": "markdown",
      "source": [
        "El conjunto lo podemos generar con la función incorporada [`range()`](https://docs.python.org/3/library/functions.html#func-range). Se trata de una función capaz de generar una secuencia de números enteros. La estructura de esta función es:\n",
        "\n",
        "```\n",
        "range(inicio, fin, paso)\n",
        "```\n",
        "\n",
        "Según la documentación, `range()` genera una secuencia de números enteros a partir del valor del parámetro `inicio` hasta el valor del parámetro `fin`, de acuerdo con el valor del parámetro `paso`. Si `inicio` no es especificado, el valor por defecto es `0`. Si `paso` no es especificado, el valor por defecto es `1`.\n",
        "\n",
        "\n"
      ],
      "metadata": {
        "id": "6VgjyoQtPHBM"
      }
    },
    {
      "cell_type": "markdown",
      "source": [
        "Vamos a recrear el mismo contador `while` con el lazo `for`."
      ],
      "metadata": {
        "id": "ryn0hfdlUwC8"
      }
    },
    {
      "cell_type": "code",
      "source": [
        "for n in range(1,11):\n",
        "  print(n)"
      ],
      "metadata": {
        "id": "KkL1wUIj9jL4",
        "colab": {
          "base_uri": "https://localhost:8080/"
        },
        "outputId": "afd12872-838c-4613-bae0-607e33a6e42e"
      },
      "execution_count": null,
      "outputs": [
        {
          "output_type": "stream",
          "name": "stdout",
          "text": [
            "1\n",
            "2\n",
            "3\n",
            "4\n",
            "5\n",
            "6\n",
            "7\n",
            "8\n",
            "9\n",
            "10\n"
          ]
        }
      ]
    },
    {
      "cell_type": "code",
      "source": [
        "for e in range(1,3):\n",
        "  nota_1=float(input('Ingrese la primera nota del estudiante: '))\n",
        "  nota_2=float(input('Ingrese la segunda nota del estudiante: '))\n",
        "  print(f'Promedio de notas del estudiante: {(nota_1+nota_2)/2}')"
      ],
      "metadata": {
        "id": "uXIZnLSr9jOu",
        "colab": {
          "base_uri": "https://localhost:8080/"
        },
        "outputId": "2eb48ce3-9a2c-4854-b958-1cac7e0063ff"
      },
      "execution_count": null,
      "outputs": [
        {
          "output_type": "stream",
          "name": "stdout",
          "text": [
            "Ingrese la primera nota del estudiante: 5.5\n",
            "Ingrese la segunda nota del estudiante: 6.5\n",
            "Promedio de notas del estudiante: 6.0\n",
            "Ingrese la primera nota del estudiante: 6.8\n",
            "Ingrese la segunda nota del estudiante: 7\n",
            "Promedio de notas del estudiante: 6.9\n"
          ]
        }
      ]
    },
    {
      "cell_type": "code",
      "source": [
        "for i in range(1, 6):\n",
        "    if i == 4:\n",
        "        break\n",
        "    print(i)"
      ],
      "metadata": {
        "colab": {
          "base_uri": "https://localhost:8080/"
        },
        "id": "hJ8z_nczjp3d",
        "outputId": "009a999c-3544-49a9-d847-27a2669a37c6"
      },
      "execution_count": null,
      "outputs": [
        {
          "output_type": "stream",
          "name": "stdout",
          "text": [
            "1\n",
            "2\n",
            "3\n"
          ]
        }
      ]
    },
    {
      "cell_type": "code",
      "source": [
        "# 1 - Escribe un programa que solicite dos números enteros e imprima todos los números enteros entre ellos.\n",
        "numero_1=int(input('Ingresa un número entero de inicio de una cadena: '))\n",
        "numero_2=int(input('Ingresa otro número entero de fin de la cadena: '))\n",
        "for n in range(numero_1,numero_2+1):\n",
        "  print(n)"
      ],
      "metadata": {
        "id": "sNif5aaRlXjr"
      },
      "execution_count": null,
      "outputs": []
    },
    {
      "cell_type": "code",
      "source": [
        "# 2 - Escribe un programa para calcular cuántos días tomará que la colonia de una bacteria A supere o iguale\n",
        "# a la colonia de una bacteria B, basado en tasas de crecimiento del 3% y 1.5%, respectivamente.\n",
        "# Supón que la colonia A comienza con 4 elementos y B con 10.\n",
        "\n",
        "bacteria_a = 4\n",
        "bacteria_b = 10\n",
        "tasa_crecimiento_a = 1 + 0.03\n",
        "tasa_crecimiento_b = 1 + 0.015\n",
        "dias = 0\n",
        "\n",
        "while bacteria_a <= bacteria_b:\n",
        "    bacteria_a *= tasa_crecimiento_a\n",
        "    bacteria_b *= tasa_crecimiento_b\n",
        "    dias += 1\n",
        "\n",
        "print(dias)\n"
      ],
      "metadata": {
        "id": "6k4Tkb4imKgc",
        "outputId": "12ab7136-0b27-41d0-b8d3-d3e55e90fc23",
        "colab": {
          "base_uri": "https://localhost:8080/"
        }
      },
      "execution_count": null,
      "outputs": [
        {
          "output_type": "stream",
          "name": "stdout",
          "text": [
            "63\n"
          ]
        }
      ]
    },
    {
      "cell_type": "code",
      "source": [
        "# 3 - Para procesar una cantidad de 15 datos de evaluaciones de usuarios de un servicio de la empresa,\n",
        "# necesitamos verificar si las calificaciones son válidas. Por lo tanto, escribe un programa que recibirá\n",
        "# calificaciones del 0 al 5 y verificará si son valores válidos. Si se ingresa una calificación superior a 5\n",
        "# o inferior a 0, se repetirá hasta que el usuario ingrese un valor válido.\n",
        "\n",
        "datos_validos = 0\n",
        "while datos_validos < 5:\n",
        "    try:\n",
        "        evaluacion = int(input(f'Ingrese una calificación del 0 al 5 (evaluación {datos_validos + 1}): '))\n",
        "        if 0 <= evaluacion <= 5:\n",
        "            print('Calificación válida')\n",
        "            datos_validos += 1\n",
        "        else:\n",
        "            print('Calificación inválida')\n",
        "    except ValueError:\n",
        "        print('Error: Ingrese un valor numérico válido.')\n",
        "\n",
        "print(\"Se han ingresado 5 calificaciones válidas.\")\n",
        "\n",
        "\n",
        "\n",
        "\n"
      ],
      "metadata": {
        "id": "_TfFl9k61oL2"
      },
      "execution_count": null,
      "outputs": []
    },
    {
      "cell_type": "code",
      "source": [
        "# 4 - Desarrolla un programa que lea un conjunto indefinido de temperaturas en grados\n",
        "# Celsius y calcule su promedio. La lectura debe detenerse al ingresar el valor -273°C.\n",
        "lectura=float(input('Ingrese una temperatura en grados Celsius: '))\n",
        "suma=0\n",
        "contador=0\n",
        "while lectura != -273:\n",
        "  suma+=lectura\n",
        "  contador+=1\n",
        "  lectura=float(input('Ingrese una temperatura en grados Celsius: '))\n",
        "  promedio=suma/contador\n",
        "print('El promedio de las temperaturas ingresadas es: %.2f' % (promedio))\n"
      ],
      "metadata": {
        "id": "WglzJCfFmLMg",
        "outputId": "b2266b4f-cc03-41eb-a755-7190efd092de",
        "colab": {
          "base_uri": "https://localhost:8080/"
        }
      },
      "execution_count": null,
      "outputs": [
        {
          "output_type": "stream",
          "name": "stdout",
          "text": [
            "Ingrese una temperatura en grados Celsius: 10\n",
            "Ingrese una temperatura en grados Celsius: 20\n",
            "Ingrese una temperatura en grados Celsius: -273\n",
            "El promedio de las temperaturas ingresadas es: 15.00\n"
          ]
        }
      ]
    },
    {
      "cell_type": "code",
      "source": [
        "# 5 - Escribe un programa que calcule el factorial de un número entero proporcionado por\n",
        "# el usuario. Recuerda que el factorial de un número entero es el producto de ese número\n",
        "# por todos sus antecesores hasta llegar al número 1. Por ejemplo, el factorial de\n",
        "# 5 es 5 x 4 x 3 x 2 x 1 = 120.\n",
        "\n",
        "# Cálculo de factorial\n",
        "numero = int(input(\"Ingrese un número entero: \"))\n",
        "factorial = 1\n",
        "for i in range(1, numero + 1):\n",
        "    print(i)\n",
        "    factorial *= i\n",
        "print(f\"El factorial de {numero} es {factorial}\")"
      ],
      "metadata": {
        "id": "RvVdSbNJsAed"
      },
      "execution_count": null,
      "outputs": []
    },
    {
      "cell_type": "code",
      "source": [
        "# 6 - Escribe un programa que genere la tabla de multiplicar de un número entero del 1 al 10,\n",
        "# según la elección del usuario. Como ejemplo, para el número 2, la tabla de multiplicar\n",
        "# debe mostrarse en el siguiente formato:\n",
        "\n",
        "#Tabla de multiplicar del 2:\n",
        "#2 x 1 = 2\n",
        "#2 x 2 = 4\n",
        "#[...]\n",
        "#2 x 10 = 20\n",
        "\n",
        "numero=int(input('Ingrese un númeroentero y yo te daré su tabla de multiplicar hasta el 10: '))\n",
        "for i in range (1,11):\n",
        "  resultado=(numero*i)\n",
        "  print('%d x %d = %d' % (numero, i, resultado))\n"
      ],
      "metadata": {
        "id": "RmOPwVAl16pS"
      },
      "execution_count": null,
      "outputs": []
    },
    {
      "cell_type": "code",
      "source": [
        "# 7 - Los números primos tienen diversas aplicaciones en Ciencia de Datos, como en criptografía\n",
        "# y seguridad. Un número primo es aquel que es divisible solo por sí mismo y por 1. Por lo tanto,\n",
        "# crea un programa que solicite un número entero y determine si es un número primo o no.\n",
        "\n",
        "def es_entero(numero):\n",
        "    \"\"\"Verifica si un número float es entero.\"\"\"\n",
        "    return numero == int(numero)\n",
        "\n",
        "numero_str = input('Ingrese un número entero mayor que 1: ')\n",
        "try:\n",
        "    numero = float(numero_str)\n",
        "    if not es_entero(numero):\n",
        "        print(f'{numero} no es un número entero.')\n",
        "    elif numero <= 1:\n",
        "        print(f'{numero} no es un número primo.')\n",
        "    else:\n",
        "        es_primo = True\n",
        "        for i in range(2, int(numero**0.5) + 1):\n",
        "            if numero % i == 0:\n",
        "                es_primo = False\n",
        "                break\n",
        "\n",
        "        if es_primo:\n",
        "            print(f'{int(numero)} es un número primo.')\n",
        "        else:\n",
        "            print(f'{int(numero)} no es un número primo.')\n",
        "except ValueError:\n",
        "    print(\"Entrada inválida. Por favor, ingrese un número entero.\")"
      ],
      "metadata": {
        "id": "Utyvm3Zg6lJU"
      },
      "execution_count": null,
      "outputs": []
    },
    {
      "cell_type": "code",
      "source": [
        "# 8 - Vamos a comprender la distribución de edades de los pensionistas de una empresa de seguros.\n",
        "# Escribe un programa que lea las edades de una cantidad no informada de clientes y muestre la distribución en los\n",
        "# intervalos [0-25], [26-50], [51-75] y [76-100]. La entrada de datos se detendrá al ingresar un número negativo.\n",
        "\n",
        "contador_hasta_25 = 0\n",
        "contador_de_26_a_50 = 0\n",
        "contador_de_51_a_75 = 0\n",
        "contador_de_76_a_100 = 0\n",
        "\n",
        "while True:\n",
        "    try:\n",
        "        edad_str = input(\"Ingrese la edad del cliente (o un número negativo para terminar): \")\n",
        "        edad = int(edad_str)\n",
        "\n",
        "        if edad < 0:\n",
        "            break  # Detiene el ingreso de datos\n",
        "\n",
        "        if 0 <= edad <= 25:\n",
        "            contador_hasta_25 += 1\n",
        "        elif 26 <= edad <= 50:\n",
        "            contador_de_26_a_50 += 1\n",
        "        elif 51 <= edad <= 75:\n",
        "            contador_de_51_a_75 += 1\n",
        "        elif 76 <= edad <= 100:\n",
        "            contador_de_76_a_100 += 1\n",
        "        elif edad > 100:\n",
        "            print(\"Edad ingresada fuera del rango esperado (0-100).\")\n",
        "\n",
        "    except ValueError:\n",
        "        print(\"Error: Por favor, ingrese un número entero válido para la edad.\")\n",
        "\n",
        "print(\"\\n--- Distribución de Edades ---\")\n",
        "print(f\"Intervalo [0-25]: {contador_hasta_25} clientes\")\n",
        "print(f\"Intervalo [26-50]: {contador_de_26_a_50} clientes\")\n",
        "print(f\"Intervalo [51-75]: {contador_de_51_a_75} clientes\")\n",
        "print(f\"Intervalo [76-100]: {contador_de_76_a_100} clientes\")\n"
      ],
      "metadata": {
        "id": "JhU0xGaMYfXV"
      },
      "execution_count": null,
      "outputs": []
    },
    {
      "cell_type": "code",
      "source": [
        "# 9 - En una elección para la gerencia de una empresa con 20 empleados, hay cuatro candidatos.\n",
        "# Escribe un programa que calcule al ganador de la elección. La votación se realizó de la siguiente manera:\n",
        "\n",
        "# Cada empleado votó por uno de los cuatro candidatos (representados por los números 1, 2, 3 y 4).\n",
        "# También se contaron los votos nulos (representados por el número 5) y los votos en blanco (representados por el número 6).\n",
        "# Al final de la votación, el programa debe mostrar el número total de votos para cada candidato, los votos nulos y los votos en blanco.\n",
        "# Además, debe calcular y mostrar el porcentaje de votos nulos con respecto al total de votos y el porcentaje de votos en blanco\n",
        "# con respecto al total de votos.\n",
        "votos_candidato_1 = 0\n",
        "votos_candidato_2 = 0\n",
        "votos_candidato_3 = 0\n",
        "votos_candidato_4 = 0\n",
        "votos_nulos = 0\n",
        "votos_en_blanco = 0\n",
        "votantes = 20\n",
        "while True:\n",
        "    try:\n",
        "        voto = int(input(\"Ingrese candidato votado (1 a 4), 5 si es, 6 si es en blanco, o un número negativo para terminar): \"))\n",
        "        if voto == 1:\n",
        "            votos_candidato_1 += 1\n",
        "        elif voto == 2:\n",
        "            votos_candidato_2 += 1\n",
        "        elif voto == 3:\n",
        "            votos_candidato_3 += 1\n",
        "        elif voto == 4:\n",
        "            votos_candidato_4 += 1\n",
        "        elif voto == 5:\n",
        "            votos_nulos += 1\n",
        "        elif voto == 6:\n",
        "            votos_en_blanco += 1\n",
        "        elif voto < 0:\n",
        "            break  # Detiene el ingreso de datos\n",
        "            print(\"Edad ingresada fuera del rango esperado (0-100).\")\n",
        "    except ValueError:\n",
        "        print(\"Error: Por favor, ingrese un número entero válido para la edad.\")\n",
        "\n",
        "print('Candidato 1 : %d' % (votos_candidato_1))\n",
        "print('Candidato 2 : %d' % (votos_candidato_2))\n",
        "print('Candidato 3 : %d' % (votos_candidato_3))\n",
        "print('Candidato 4 : %d' % (votos_candidato_4))\n",
        "print('Votos nulos : %d' % (votos_nulos))\n",
        "print('Votos en blanco : %d' % (votos_en_blanco))"
      ],
      "metadata": {
        "id": "Kp__ga3GmvDw",
        "outputId": "ba8c3beb-f200-4153-c5d4-c0a24dfbaae3",
        "colab": {
          "base_uri": "https://localhost:8080/"
        }
      },
      "execution_count": null,
      "outputs": [
        {
          "output_type": "stream",
          "name": "stdout",
          "text": [
            "Ingrese candidato votado (1 a 4), 5 si es, 6 si es en blanco, o un número negativo para terminar): 1\n",
            "Ingrese candidato votado (1 a 4), 5 si es, 6 si es en blanco, o un número negativo para terminar): 1\n",
            "Ingrese candidato votado (1 a 4), 5 si es, 6 si es en blanco, o un número negativo para terminar): 1\n",
            "Ingrese candidato votado (1 a 4), 5 si es, 6 si es en blanco, o un número negativo para terminar): 1\n",
            "Ingrese candidato votado (1 a 4), 5 si es, 6 si es en blanco, o un número negativo para terminar): 2\n",
            "Ingrese candidato votado (1 a 4), 5 si es, 6 si es en blanco, o un número negativo para terminar): 2\n",
            "Ingrese candidato votado (1 a 4), 5 si es, 6 si es en blanco, o un número negativo para terminar): 2\n",
            "Ingrese candidato votado (1 a 4), 5 si es, 6 si es en blanco, o un número negativo para terminar): 3\n",
            "Ingrese candidato votado (1 a 4), 5 si es, 6 si es en blanco, o un número negativo para terminar): 3\n",
            "Ingrese candidato votado (1 a 4), 5 si es, 6 si es en blanco, o un número negativo para terminar): 4\n",
            "Ingrese candidato votado (1 a 4), 5 si es, 6 si es en blanco, o un número negativo para terminar): 5\n",
            "Ingrese candidato votado (1 a 4), 5 si es, 6 si es en blanco, o un número negativo para terminar): 5\n",
            "Ingrese candidato votado (1 a 4), 5 si es, 6 si es en blanco, o un número negativo para terminar): 6\n",
            "Ingrese candidato votado (1 a 4), 5 si es, 6 si es en blanco, o un número negativo para terminar): 6\n",
            "Ingrese candidato votado (1 a 4), 5 si es, 6 si es en blanco, o un número negativo para terminar): -1\n",
            "Candidato 1 : 4\n",
            "Candidato 2 : 3\n",
            "Candidato 3 : 2\n",
            "Candidato 1 : 1\n",
            "Votos nulos : 2\n",
            "Votos en blanco : 2\n"
          ]
        }
      ]
    },
    {
      "cell_type": "markdown",
      "source": [
        "1# Estructuras de datos"
      ],
      "metadata": {
        "id": "8noP8OJ0Vhux"
      }
    },
    {
      "cell_type": "markdown",
      "source": [
        "Un conjunto de elementos es una colección de items, que son almacenados juntos de manera organizada. Algunos ejemplos de conjuntos de elementos en Python son las listas, los strings y los diccionarios."
      ],
      "metadata": {
        "id": "xpEUkefTu8fY"
      }
    },
    {
      "cell_type": "markdown",
      "source": [
        "## Listas"
      ],
      "metadata": {
        "id": "THSg4KYLwxIb"
      }
    },
    {
      "cell_type": "markdown",
      "source": [
        "Las listas pueden almacenar una colección de items en orden. Ellas son delimitadas por corchetes `[]` y sus elementos son separados por comas.\n",
        "\n",
        "Estas pueden almacenar cualquier tipo de items, incluyendo números, strings, objetos, otras listas, entre otros. También nos permiten almacenar items de tipos de datos diferentes juntos en una única lista."
      ],
      "metadata": {
        "id": "dzpsiqrOyJcK"
      }
    },
    {
      "cell_type": "code",
      "source": [
        "lista = ['Penélope Camacho',9.5,9.0,9.7,True]\n",
        "lista"
      ],
      "metadata": {
        "id": "DO3TBj7nAYeG",
        "colab": {
          "base_uri": "https://localhost:8080/"
        },
        "outputId": "fbee2eb5-265e-4b5b-badf-a0dd9331074b"
      },
      "execution_count": null,
      "outputs": [
        {
          "output_type": "execute_result",
          "data": {
            "text/plain": [
              "['Penélope Camacho', 9.5, 9.0, 9.7, True]"
            ]
          },
          "metadata": {},
          "execution_count": 62
        }
      ]
    },
    {
      "cell_type": "code",
      "source": [],
      "metadata": {
        "id": "DO2ubP9N9D_2"
      },
      "execution_count": null,
      "outputs": []
    },
    {
      "cell_type": "markdown",
      "source": [
        "Las listas son organizadas en Python porque **cada elemento de la lista tiene un índice que indica su posición al interior de la lista**. Los índices comienzan en 0 van hasta el tamaño de la lista menos 1."
      ],
      "metadata": {
        "id": "qUz3sJNl6LgK"
      }
    },
    {
      "cell_type": "markdown",
      "source": [
        "Tenemos entonces 5 elementos con índices que varían de 0 a 4, ordenadamente:\n",
        "\n",
        "```\n",
        "#             [0]           [1]   [2]   [3]    [4]\n",
        "lista = ['Penélope Camacho', 9.5 , 9.0 , 9.7 , True]\n",
        "```\n",
        "\n",
        "En Python tenemos también los índices **negativos** que se inician en el último elemento con el valor de `-1` y avanzan en el universo de los negativos hasta llegar al 1° elemento:\n",
        "\n",
        "```\n",
        "#             [-5]         [-4]  [-3]  [-2]   [-1]\n",
        "lista = ['Penélope Camacho', 9.5 , 9.0 , 9.7 , True]\n",
        "```\n",
        "\n",
        "Logramos seleccionar separadamente cada elemento a través de sus respectivos índices. Colocando el nombre de la lista y en seguida el índice que será seleccionado."
      ],
      "metadata": {
        "id": "rLf-Qg526hFD"
      }
    },
    {
      "cell_type": "code",
      "source": [
        "lista = ['Penélope Camacho', 9.5 , 9.0 , 9.7 , True]\n",
        "lista[2]"
      ],
      "metadata": {
        "id": "M8lH0I2288Ph"
      },
      "execution_count": null,
      "outputs": []
    },
    {
      "cell_type": "code",
      "source": [
        "for element in lista:\n",
        "  print(element)"
      ],
      "metadata": {
        "id": "trbJ49uJ-PeB"
      },
      "execution_count": null,
      "outputs": []
    },
    {
      "cell_type": "code",
      "source": [
        "lista = ['Penélope Camacho', 9.5 , 9.0 , 9.7 , True]\n",
        "lista[2] = 10\n",
        "promedio=(lista[1]+lista[2]+lista[3])/3\n",
        "print(promedio)\n"
      ],
      "metadata": {
        "id": "4W7dTRTg-1t_",
        "outputId": "97eb4045-2a95-4d02-9e58-eced831da5d0",
        "colab": {
          "base_uri": "https://localhost:8080/"
        }
      },
      "execution_count": null,
      "outputs": [
        {
          "output_type": "stream",
          "name": "stdout",
          "text": [
            "9.733333333333333\n"
          ]
        }
      ]
    },
    {
      "cell_type": "code",
      "source": [
        "mezclas = ['Pinturas: rojo, azul y amarillo',\n",
        "            'Verde: mezcla de azul y amarillo',\n",
        "            'Naranja: mezcla de rojo y amarillo',\n",
        "            'Morado: mezcla de rojo y azul']\n",
        "unificador = '. '\n",
        "cadena_mezclas = unificador.join(mezclas)\n",
        "print(cadena_mezclas)"
      ],
      "metadata": {
        "id": "gBYdY0oCCRqX",
        "outputId": "7098bfce-38c4-4473-f604-b74af1afcc01",
        "colab": {
          "base_uri": "https://localhost:8080/"
        }
      },
      "execution_count": null,
      "outputs": [
        {
          "output_type": "stream",
          "name": "stdout",
          "text": [
            "Pinturas: rojo, azul y amarillo. Verde: mezcla de azul y amarillo. Naranja: mezcla de rojo y amarillo. Morado: mezcla de rojo y azul\n"
          ]
        }
      ]
    },
    {
      "cell_type": "code",
      "source": [
        "lista = ['A7B6C5', 'D4E3F2', 'G1H9I8', 'J6K5L4', 'M3N2O1', 'P9Q8R7']\n",
        "lista.extend('101112')\n",
        "print(lista)"
      ],
      "metadata": {
        "id": "mSWRb86b_N5g",
        "outputId": "02b3b919-60dd-49aa-da45-f658765b6610",
        "colab": {
          "base_uri": "https://localhost:8080/",
          "height": 193
        }
      },
      "execution_count": null,
      "outputs": [
        {
          "output_type": "error",
          "ename": "TypeError",
          "evalue": "descriptor 'remove' for 'list' objects doesn't apply to a 'str' object",
          "traceback": [
            "\u001b[0;31m---------------------------------------------------------------------------\u001b[0m",
            "\u001b[0;31mTypeError\u001b[0m                                 Traceback (most recent call last)",
            "\u001b[0;32m<ipython-input-52-51498b923b04>\u001b[0m in \u001b[0;36m<cell line: 0>\u001b[0;34m()\u001b[0m\n\u001b[1;32m      1\u001b[0m \u001b[0mlista\u001b[0m \u001b[0;34m=\u001b[0m \u001b[0;34m[\u001b[0m\u001b[0;34m'A7B6C5'\u001b[0m\u001b[0;34m,\u001b[0m \u001b[0;34m'D4E3F2'\u001b[0m\u001b[0;34m,\u001b[0m \u001b[0;34m'G1H9I8'\u001b[0m\u001b[0;34m,\u001b[0m \u001b[0;34m'J6K5L4'\u001b[0m\u001b[0;34m,\u001b[0m \u001b[0;34m'M3N2O1'\u001b[0m\u001b[0;34m,\u001b[0m \u001b[0;34m'P9Q8R7'\u001b[0m\u001b[0;34m]\u001b[0m\u001b[0;34m\u001b[0m\u001b[0;34m\u001b[0m\u001b[0m\n\u001b[1;32m      2\u001b[0m \u001b[0mlista\u001b[0m\u001b[0;34m.\u001b[0m\u001b[0mextend\u001b[0m\u001b[0;34m(\u001b[0m\u001b[0;34m'101112'\u001b[0m\u001b[0;34m)\u001b[0m\u001b[0;34m\u001b[0m\u001b[0;34m\u001b[0m\u001b[0m\n\u001b[0;32m----> 3\u001b[0;31m \u001b[0mlist\u001b[0m\u001b[0;34m.\u001b[0m\u001b[0mremove\u001b[0m\u001b[0;34m(\u001b[0m\u001b[0;34m'101112'\u001b[0m\u001b[0;34m)\u001b[0m\u001b[0;34m\u001b[0m\u001b[0;34m\u001b[0m\u001b[0m\n\u001b[0m\u001b[1;32m      4\u001b[0m \u001b[0mprint\u001b[0m\u001b[0;34m(\u001b[0m\u001b[0mlista\u001b[0m\u001b[0;34m)\u001b[0m\u001b[0;34m\u001b[0m\u001b[0;34m\u001b[0m\u001b[0m\n",
            "\u001b[0;31mTypeError\u001b[0m: descriptor 'remove' for 'list' objects doesn't apply to a 'str' object"
          ]
        }
      ]
    },
    {
      "cell_type": "code",
      "source": [],
      "metadata": {
        "id": "vadEhMfME60u"
      },
      "execution_count": null,
      "outputs": []
    },
    {
      "cell_type": "markdown",
      "source": [
        "Una forma más dinámica de trabajar item a item en una lista es utilizando un lazo `for` para leer un elemento a la vez."
      ],
      "metadata": {
        "id": "6TaE1ijmBTCd"
      }
    },
    {
      "cell_type": "code",
      "source": [],
      "metadata": {
        "id": "rBx4Yu1786Sy"
      },
      "execution_count": null,
      "outputs": []
    },
    {
      "cell_type": "markdown",
      "source": [
        "**Situación**: La nota `9.0` de Penélope necesita ser ajustada pues ganó 1 punto en su última nota por participación en clase. Entonces es necesario realizar un cambio en el índice `2` de `9.0` a `10.0`."
      ],
      "metadata": {
        "id": "Dh1_HnIVvucY"
      }
    },
    {
      "cell_type": "code",
      "source": [],
      "metadata": {
        "id": "bVPoZg668z3T"
      },
      "execution_count": null,
      "outputs": []
    },
    {
      "cell_type": "code",
      "source": [],
      "metadata": {
        "id": "Jo_PBQ0g8z7D"
      },
      "execution_count": null,
      "outputs": []
    },
    {
      "cell_type": "markdown",
      "source": [
        "También podemos calcular el promedio del estudiante a partir de los datos que tenemos."
      ],
      "metadata": {
        "id": "53XduzXkycAf"
      }
    },
    {
      "cell_type": "code",
      "source": [],
      "metadata": {
        "id": "SIH61Rrb8yv4"
      },
      "execution_count": null,
      "outputs": []
    },
    {
      "cell_type": "markdown",
      "source": [
        "## Manipulación de listas\n",
        "\n",
        "Las listas son muy útiles en Python porque nos permiten almacenar y acceder a una colección de items de manera organizada y rápida. Estas también ofrecen muchos métodos útiles para manipular los itens almacenados, como adicionar, remover, clasificar y buscar elementos."
      ],
      "metadata": {
        "id": "d-iYr10-y4qw"
      }
    },
    {
      "cell_type": "markdown",
      "source": [
        "#### Cantidad de elementos\n",
        "\n",
        "Usamos la función [`len()`](https://docs.python.org/3/library/functions.html#len) para descubrir la cantidad de elementos de un conjunto."
      ],
      "metadata": {
        "id": "ZLqx9A97XVB_"
      }
    },
    {
      "cell_type": "code",
      "source": [],
      "metadata": {
        "id": "6q1Tmm7P8wQf"
      },
      "execution_count": null,
      "outputs": []
    },
    {
      "cell_type": "markdown",
      "source": [
        "#### Partición\n",
        "\n",
        "La partición de listas por indexación en Python es una técnica muy útil para seleccionar un subconjunto de elementos de una lista. Esta se realiza usando la sintaxis `lista[inicio:fin]`, donde `inicio` es el índice del primer elemento que será incluído en la partición `fin` es el índice del primer elemento que será excluído de la partición."
      ],
      "metadata": {
        "id": "Z5tpstlHJss3"
      }
    },
    {
      "cell_type": "code",
      "source": [],
      "metadata": {
        "id": "NctvJTTU8uV9"
      },
      "execution_count": null,
      "outputs": []
    },
    {
      "cell_type": "code",
      "source": [],
      "metadata": {
        "id": "bQZUwldj8uY2"
      },
      "execution_count": null,
      "outputs": []
    },
    {
      "cell_type": "markdown",
      "source": [
        "#### [`append()`](https://docs.python.org/3/tutorial/datastructures.html#:~:text=of%20list%20objects%3A-,list.append(x),-Add%20an%20item)\n",
        "\n",
        "Añade un elemento al final de la lista."
      ],
      "metadata": {
        "id": "O0RRyabkRzZC"
      }
    },
    {
      "cell_type": "code",
      "source": [],
      "metadata": {
        "id": "_Q0oODwa8spC"
      },
      "execution_count": null,
      "outputs": []
    },
    {
      "cell_type": "code",
      "source": [],
      "metadata": {
        "id": "RM894r2M8sse"
      },
      "execution_count": null,
      "outputs": []
    },
    {
      "cell_type": "markdown",
      "source": [
        "#### [`extend()`](https://docs.python.org/3/tutorial/datastructures.html#:~:text=list.extend(iterable))\n",
        "\n",
        "Añade varios elementos al final de la lista.\n",
        "\n",
        "Añadiremos las notas `[10.0,8.0,9.0]` En la lista de Penélope Camacho."
      ],
      "metadata": {
        "id": "uQV91XMsUOJD"
      }
    },
    {
      "cell_type": "code",
      "source": [],
      "metadata": {
        "id": "6Zk2MpMw8rQc"
      },
      "execution_count": null,
      "outputs": []
    },
    {
      "cell_type": "code",
      "source": [],
      "metadata": {
        "id": "NnoKkoWb8rTQ"
      },
      "execution_count": null,
      "outputs": []
    },
    {
      "cell_type": "markdown",
      "source": [
        "*A continuación te mostraremos lo que no puede realizarse con* `append`."
      ],
      "metadata": {
        "id": "IVJvkTwNUk6M"
      }
    },
    {
      "cell_type": "code",
      "source": [],
      "metadata": {
        "id": "u3Eub2ZL8pp3"
      },
      "execution_count": null,
      "outputs": []
    },
    {
      "cell_type": "code",
      "source": [],
      "metadata": {
        "id": "tsKK5Ne58pvN"
      },
      "execution_count": null,
      "outputs": []
    },
    {
      "cell_type": "markdown",
      "source": [
        "#### [`remove()`](https://docs.python.org/3/tutorial/datastructures.html#:~:text=append(x).-,list.remove(x),-Remove%20the%20first)\n",
        "\n",
        "Remueve un elemento específico de la lista."
      ],
      "metadata": {
        "id": "dPGM5gpyUX1z"
      }
    },
    {
      "cell_type": "code",
      "source": [
        "razas_de_perros = ['Labrador Retriever',\n",
        "                   'Bulldog Francés',\n",
        "                   'Pastor Alemán',\n",
        "                   'Poodle']\n",
        "razas_de_perros.insert(4, 'Golden Retriever')\n",
        "print(razas_de_perros)\n"
      ],
      "metadata": {
        "id": "mmboODPc8nd5",
        "colab": {
          "base_uri": "https://localhost:8080/"
        },
        "outputId": "ac9cd1f4-5a34-4cfd-ded3-f17b3ed97d17"
      },
      "execution_count": null,
      "outputs": [
        {
          "output_type": "stream",
          "name": "stdout",
          "text": [
            "['Labrador Retriever', 'Bulldog Francés', 'Pastor Alemán', 'Poodle', 'Golden Retriever']\n"
          ]
        }
      ]
    },
    {
      "cell_type": "code",
      "source": [
        "razas_de_perros.pop(0)\n",
        "print(razas_de_perros)"
      ],
      "metadata": {
        "id": "T_w6vVgV8nh_",
        "colab": {
          "base_uri": "https://localhost:8080/"
        },
        "outputId": "2ba08598-c6d5-4c23-d675-b4edbf927a72"
      },
      "execution_count": null,
      "outputs": [
        {
          "output_type": "stream",
          "name": "stdout",
          "text": [
            "['Pastor Alemán', 'Poodle', 'Golden Retriever']\n"
          ]
        }
      ]
    },
    {
      "cell_type": "code",
      "source": [
        "razas_de_perros.sort()\n",
        "print(razas_de_perros)"
      ],
      "metadata": {
        "id": "iaqTMbXkJrL8",
        "outputId": "349a8cc2-eb45-459e-e36c-b9b6125b168a",
        "colab": {
          "base_uri": "https://localhost:8080/"
        }
      },
      "execution_count": null,
      "outputs": [
        {
          "output_type": "stream",
          "name": "stdout",
          "text": [
            "['Golden Retriever', 'Pastor Alemán', 'Poodle']\n"
          ]
        }
      ]
    },
    {
      "cell_type": "markdown",
      "source": [
        "## Diccionario"
      ],
      "metadata": {
        "id": "Rc22Vc08YDZ2"
      }
    },
    {
      "cell_type": "markdown",
      "source": [
        "Los diccionarios son un tipo de estructura de datos que almacenan pares de *llave-valor*. Estos son delimitados por llaves `{}` y los pares *llave-valor* son separados por comas.\n",
        "\n",
        "```\n",
        "diccionario = {llave: valor}\n",
        "```\n",
        "\n",
        "La **llave** es un elemento único que identifica a un valor en el diccionario, mientras que el **valor** es el item que será almacenado para la llave. Las llaves y sus respectivos valores se pueden emplear para **cualquier tipo de dato**.\n",
        "\n",
        "Los diccionarios son útiles para almacenar y acceder a los datos de manera organizada y rápida. Se trata de un tipo de conjunto de elementos en Python, pues almacenan una colección de items."
      ],
      "metadata": {
        "id": "PJ-cCKPjeWxL"
      }
    },
    {
      "cell_type": "code",
      "source": [],
      "metadata": {
        "id": "NDHhzooE8ld5"
      },
      "execution_count": null,
      "outputs": []
    },
    {
      "cell_type": "code",
      "source": [],
      "metadata": {
        "id": "AVOzqzy-8lhh"
      },
      "execution_count": null,
      "outputs": []
    },
    {
      "cell_type": "markdown",
      "source": [
        "---\n",
        "**Situación:**\n",
        "\n",
        "Vamos a crear un conjunto de datos con las informaciones de matrícula de un estudiante. Los datos son los siguientes:\n",
        "\n",
        "- matrícula: 2000168933\n",
        "- día de registro: 25\n",
        "- mes de registro: 10\n",
        "- grupo: 2E"
      ],
      "metadata": {
        "id": "_JbQ3KMKfkXU"
      }
    },
    {
      "cell_type": "code",
      "source": [
        "estudiante={'matricula':2000168933, 'dia_de_registro':25,'mes_de_registro':10, 'grupo':'2E'}\n",
        "estudiante ['grupo']\n",
        "estudiante['grupo'] =18\n",
        "estudiante"
      ],
      "metadata": {
        "id": "0lfOu_c38jED",
        "colab": {
          "base_uri": "https://localhost:8080/"
        },
        "outputId": "d4266052-cd9b-49a2-9ae0-3720fadffa9c"
      },
      "execution_count": null,
      "outputs": [
        {
          "output_type": "execute_result",
          "data": {
            "text/plain": [
              "{'matricula': 2000168933,\n",
              " 'dia_de_registro': 25,\n",
              " 'mes_de_registro': 10,\n",
              " 'grupo': 18}"
            ]
          },
          "metadata": {},
          "execution_count": 14
        }
      ]
    },
    {
      "cell_type": "code",
      "source": [
        "estudiante['modalidad']='EAD'\n",
        "len(estudiante)\n",
        "estudiante.type()\n"
      ],
      "metadata": {
        "id": "XIuqpTTy8jHV"
      },
      "execution_count": null,
      "outputs": []
    },
    {
      "cell_type": "code",
      "source": [
        "estudiante={'matricula':2000168933, 'dia_de_registro':25,'mes_de_registro':10, 'grupo':'2E'}\n",
        "estudiante.items()\n",
        "estudiante.keys()\n",
        "estudiante.values()"
      ],
      "metadata": {
        "id": "rYYy-pqgwGg_",
        "outputId": "b790f3e1-b420-4760-e1f7-3a1e8d04eb4b",
        "colab": {
          "base_uri": "https://localhost:8080/"
        }
      },
      "execution_count": null,
      "outputs": [
        {
          "output_type": "execute_result",
          "data": {
            "text/plain": [
              "dict_values([2000168933, 25, 10, '2E'])"
            ]
          },
          "metadata": {},
          "execution_count": 7
        }
      ]
    },
    {
      "cell_type": "markdown",
      "source": [
        "Es posible sustituir los valores dentro de una llave. Por ejemplo, recibimos la información de que el grupo del estudiante que registramos cambio a `'2G'` y ahora necesitamos cambiar el valor de la llave `'grupo'`."
      ],
      "metadata": {
        "id": "8ex5pt2ykDd2"
      }
    },
    {
      "cell_type": "code",
      "source": [
        "estudiante.values()"
      ],
      "metadata": {
        "id": "DnfH_qHi8f17",
        "colab": {
          "base_uri": "https://localhost:8080/"
        },
        "outputId": "53e922ac-ff1e-41c2-f8e9-10d454d41866"
      },
      "execution_count": null,
      "outputs": [
        {
          "output_type": "execute_result",
          "data": {
            "text/plain": [
              "dict_values([2000168933, 25, 10, '2E'])"
            ]
          },
          "metadata": {},
          "execution_count": 8
        }
      ]
    },
    {
      "cell_type": "markdown",
      "source": [
        "También podemos añadir otros datos al diccionario. Vamos a añadir la información sobre la modalidad de estudio, nuestro estudiante estudiará inicialemente en la modalidad EAD.\n",
        "\n",
        "Definiremos una llave llamada `'modalidad'` con el valor `'EAD'`."
      ],
      "metadata": {
        "id": "wB0qRb56mQvv"
      }
    },
    {
      "cell_type": "code",
      "source": [
        "for llave in estudiante.keys():\n",
        "  print(llave)"
      ],
      "metadata": {
        "id": "EeLYdlIm8d8a",
        "colab": {
          "base_uri": "https://localhost:8080/"
        },
        "outputId": "a545b1bd-06b9-420f-e625-b2eaaa515916"
      },
      "execution_count": null,
      "outputs": [
        {
          "output_type": "stream",
          "name": "stdout",
          "text": [
            "matricula\n",
            "dia_de_registro\n",
            "mes_de_registro\n",
            "grupo\n"
          ]
        }
      ]
    },
    {
      "cell_type": "code",
      "source": [
        "for llave,valor in estudiante.items():\n",
        "  print(llave, '=>', valor)"
      ],
      "metadata": {
        "id": "olDIavsm8d_o",
        "colab": {
          "base_uri": "https://localhost:8080/"
        },
        "outputId": "9a5e4259-7e7d-4410-dfed-ed67fa601425"
      },
      "execution_count": null,
      "outputs": [
        {
          "output_type": "stream",
          "name": "stdout",
          "text": [
            "matricula => 2000168933\n",
            "dia_de_registro => 25\n",
            "mes_de_registro => 10\n",
            "grupo => 2E\n"
          ]
        }
      ]
    },
    {
      "cell_type": "markdown",
      "source": [
        "## Profundizando en diccionarios"
      ],
      "metadata": {
        "id": "LJ3o_inroxg_"
      }
    },
    {
      "cell_type": "markdown",
      "source": [
        "#### [`pop()`](https://python-reference.readthedocs.io/en/latest/docs/dict/pop.html)\n",
        "Remueve un item de un diccionario y lo representa en la salida."
      ],
      "metadata": {
        "id": "2N3GLlkSpBiu"
      }
    },
    {
      "cell_type": "code",
      "source": [],
      "metadata": {
        "id": "ZsSCZx6G8b-T"
      },
      "execution_count": null,
      "outputs": []
    },
    {
      "cell_type": "code",
      "source": [],
      "metadata": {
        "id": "7lQ8_jpi8cBR"
      },
      "execution_count": null,
      "outputs": []
    },
    {
      "cell_type": "markdown",
      "source": [
        "#### [`items()`](https://python-reference.readthedocs.io/en/latest/docs/dict/items.html)\n",
        "Retorna una lista de pares `llave-valor` del diccionario."
      ],
      "metadata": {
        "id": "sYZGvJJYrW_y"
      }
    },
    {
      "cell_type": "code",
      "source": [],
      "metadata": {
        "id": "ncdycLV08an7"
      },
      "execution_count": null,
      "outputs": []
    },
    {
      "cell_type": "markdown",
      "source": [
        "#### [`keys()`](https://python-reference.readthedocs.io/en/latest/docs/dict/keys.html)\n",
        "Retorna una lista de las llaves del diccionario."
      ],
      "metadata": {
        "id": "Lb0utNFGrZBY"
      }
    },
    {
      "cell_type": "code",
      "source": [],
      "metadata": {
        "id": "eZo0biaM8ZVs"
      },
      "execution_count": null,
      "outputs": []
    },
    {
      "cell_type": "markdown",
      "source": [
        "#### [`values()`](https://python-reference.readthedocs.io/en/latest/docs/dict/values.html)\n",
        "Retorna una lista de los valores del diccionario."
      ],
      "metadata": {
        "id": "qKyu3bf9rbtX"
      }
    },
    {
      "cell_type": "code",
      "source": [
        "tienda = {'nombres': ['televisión', 'celular', 'notebook', 'refrigerador', 'estufa'],\n",
        "          'precios': [2000, 1500, 3500, 4000, 1500]}\n",
        "##for clave, elementos in tienda.items():\n",
        "##  print(f'Clave: {clave}/nElementos:')\n",
        "##  for dato in elementos:\n",
        "##    print(dato)\n",
        "suma=sum(tienda['precios'])\n",
        "print(suma)"
      ],
      "metadata": {
        "id": "-NxRT9C18Yvo",
        "colab": {
          "base_uri": "https://localhost:8080/"
        },
        "outputId": "033b917f-c713-4c8b-d9fb-f4a3dedebeee"
      },
      "execution_count": null,
      "outputs": [
        {
          "output_type": "stream",
          "name": "stdout",
          "text": [
            "12500\n"
          ]
        }
      ]
    },
    {
      "cell_type": "code",
      "source": [
        "lista = [1,2,3]\n",
        "dir(lista)"
      ],
      "metadata": {
        "id": "IbXVeyWeZ0oP",
        "outputId": "567fcc43-7537-4528-9535-cd2f58fdaf4d",
        "colab": {
          "base_uri": "https://localhost:8080/"
        }
      },
      "execution_count": null,
      "outputs": [
        {
          "output_type": "execute_result",
          "data": {
            "text/plain": [
              "['__add__',\n",
              " '__class__',\n",
              " '__class_getitem__',\n",
              " '__contains__',\n",
              " '__delattr__',\n",
              " '__delitem__',\n",
              " '__dir__',\n",
              " '__doc__',\n",
              " '__eq__',\n",
              " '__format__',\n",
              " '__ge__',\n",
              " '__getattribute__',\n",
              " '__getitem__',\n",
              " '__getstate__',\n",
              " '__gt__',\n",
              " '__hash__',\n",
              " '__iadd__',\n",
              " '__imul__',\n",
              " '__init__',\n",
              " '__init_subclass__',\n",
              " '__iter__',\n",
              " '__le__',\n",
              " '__len__',\n",
              " '__lt__',\n",
              " '__mul__',\n",
              " '__ne__',\n",
              " '__new__',\n",
              " '__reduce__',\n",
              " '__reduce_ex__',\n",
              " '__repr__',\n",
              " '__reversed__',\n",
              " '__rmul__',\n",
              " '__setattr__',\n",
              " '__setitem__',\n",
              " '__sizeof__',\n",
              " '__str__',\n",
              " '__subclasshook__',\n",
              " 'append',\n",
              " 'clear',\n",
              " 'copy',\n",
              " 'count',\n",
              " 'extend',\n",
              " 'index',\n",
              " 'insert',\n",
              " 'pop',\n",
              " 'remove',\n",
              " 'reverse',\n",
              " 'sort']"
            ]
          },
          "metadata": {},
          "execution_count": 31
        }
      ]
    },
    {
      "cell_type": "markdown",
      "source": [
        "### Lectura de valores con el lazo `for`"
      ],
      "metadata": {
        "id": "e3XVjR8Frp75"
      }
    },
    {
      "cell_type": "code",
      "source": [
        "# 1 - Crea un programa que tenga la siguiente lista con los gastos de una empresa de papel\n",
        "# [2172.54, 3701.35, 3518.09, 3456.61, 3249.38, 2840.82, 3891.45, 3075.26, 2317.64, 3219.08].\n",
        "# Con estos valores, crea un programa que calcule el promedio de gastos. Sugerencia:\n",
        "# usa las funciones integradas sum() y len().\n",
        "gastos=[2172.54, 3701.35, 3518.09, 3456.61, 3249.38, 2840.82, 3891.45, 3075.26, 2317.64, 3219.08]\n",
        "suma=sum(gastos)\n",
        "total_items=len(gastos)\n",
        "print(suma, total_items)\n",
        "promedio=suma/total_items\n",
        "print(promedio)"
      ],
      "metadata": {
        "id": "NYcjU-Ip8Xan",
        "colab": {
          "base_uri": "https://localhost:8080/"
        },
        "outputId": "04513d20-4694-41a5-b1fb-abb082bab5c3"
      },
      "execution_count": null,
      "outputs": [
        {
          "output_type": "stream",
          "name": "stdout",
          "text": [
            "31442.22 10\n",
            "3144.222\n"
          ]
        }
      ]
    },
    {
      "cell_type": "code",
      "source": [
        "# 2 - Con los mismos datos de la pregunta anterior, determina cuántas compras se realizaron por encima de 3000 reales\n",
        "#  y calcula el porcentaje con respecto al total de compras.\n",
        "\n",
        "gastos=[2172.54, 3701.35, 3518.09, 3456.61, 3249.38, 2840.82, 3891.45, 3075.26, 2317.64, 3219.08]\n",
        "count = 0\n",
        "suma = 0\n",
        "total=sum(gastos)\n",
        "for i in range(len(gastos)):\n",
        "    if gastos[i] > 3000:\n",
        "        suma += gastos[i]\n",
        "        count += 1\n",
        "porcentaje=(suma/total)*100\n",
        "print('Se realizaron %d compras sobre $3.000, cuyas compras  representan el %.2f por ciento del total'%(count,porcentaje))\n",
        "\n"
      ],
      "metadata": {
        "id": "rgMgQdgaaZJu",
        "outputId": "a734364c-b115-4308-afbc-61b842ce856b",
        "colab": {
          "base_uri": "https://localhost:8080/"
        }
      },
      "execution_count": null,
      "outputs": [
        {
          "output_type": "stream",
          "name": "stdout",
          "text": [
            "Se realizaron 7 compras sobre $3.000, cuyas compras  representan el 76.68 por ciento del total\n"
          ]
        }
      ]
    },
    {
      "cell_type": "code",
      "source": [
        "# 3 - Crea un código que recoja en una lista 5 números enteros aleatorios e imprima la lista. Ejemplo: [1, 4, 7, 2, 4]."
      ],
      "metadata": {
        "id": "uRt1fQXRaboC"
      },
      "execution_count": null,
      "outputs": []
    },
    {
      "cell_type": "code",
      "source": [
        "lista=[]\n",
        "while len(lista)<5:\n",
        "  numero=int(input('Ingrese un número entero: '))\n",
        "  lista.append(numero)\n",
        "print(lista)\n"
      ],
      "metadata": {
        "id": "aAnpP1Wv8XfJ"
      },
      "execution_count": null,
      "outputs": []
    },
    {
      "cell_type": "code",
      "source": [
        "# 4 - Recoge nuevamente 5 números enteros e imprime la lista en orden inverso al enviado.\n",
        "lista=[]\n",
        "while len(lista)<5:\n",
        "  numero=int(input('Ingrese un número entero: '))\n",
        "  lista.append(numero)\n",
        "  lista.sort(reverse=True)\n",
        "print(lista)"
      ],
      "metadata": {
        "id": "u1zFESjuaoeT",
        "colab": {
          "base_uri": "https://localhost:8080/"
        },
        "outputId": "3990bc67-c554-43e6-ab42-99ab91493e57"
      },
      "execution_count": 3,
      "outputs": [
        {
          "output_type": "stream",
          "name": "stdout",
          "text": [
            "Ingrese un número entero: 1\n",
            "Ingrese un número entero: 4\n",
            "Ingrese un número entero: 7\n",
            "Ingrese un número entero: 2\n",
            "Ingrese un número entero: 4\n",
            "[7, 4, 4, 2, 1]\n"
          ]
        }
      ]
    },
    {
      "cell_type": "code",
      "source": [
        "# 5 - Crea un programa que, al ingresar un número cualquiera, genere una lista\n",
        "# que contenga todos los números primos entre 1 y el número ingresado.\n",
        "\n",
        "numero = int(input('Ingresa un número entero: '))\n",
        "lista_primos = []\n",
        "# Bucle que recorre todos los números por debajo del número ingresado\n",
        "for num in range(2, numero):\n",
        "  # Primo es una bandera que nos permite saber si el valor analizado es primo o no.\n",
        "  primo = True\n",
        "  # Probamos si todos los números por debajo del especificado en el primer bucle pueden dar una división exacta.\n",
        "  for prueba_divisibles in range(2, num):\n",
        "    if num % prueba_divisibles == 0:\n",
        "      # Si es divisible por algún número, entendemos que el número no es primo y terminamos el bucle interno con break.\n",
        "      primo = False\n",
        "      break\n",
        "  # La condición se convierte en el resultado booleano de primo: False. Ignoramos la condición True y ejecutamos el bloque del if.\n",
        "  if primo:\n",
        "    lista_primos.append(num)\n",
        "# Resultado\n",
        "print(f'Lista de números primos: {lista_primos}')\n",
        "\n",
        "\n"
      ],
      "metadata": {
        "colab": {
          "base_uri": "https://localhost:8080/"
        },
        "id": "st6cJ_4p6dET",
        "outputId": "75a0ab55-d84e-412c-81e2-007471962ce4"
      },
      "execution_count": 28,
      "outputs": [
        {
          "output_type": "stream",
          "name": "stdout",
          "text": [
            "Ingresa un número entero: 13\n",
            "Lista de números primos: [2, 3, 5, 7, 11]\n"
          ]
        }
      ]
    },
    {
      "cell_type": "code",
      "source": [
        "# 6 - Escribe un programa que pida una fecha, especificando el día, mes y año,\n",
        "# y determine si es válida para su análisis.\n",
        "print('Ingrese una fecha')\n",
        "dia=int(input('Ingrese el día: '))\n",
        "mes=int(input('Ingrese el mes en dígitos: '))\n",
        "año=int(input('Ingrese el año: '))\n",
        "print('fecha ingresada dia %d del mes %d del año %d'%(dia,mes,año))\n",
        "mes_31_dias=[1,3,5,7,8,10,12]\n",
        "mes_30_dias=[4,6,9,11]\n",
        "mes_29_dias=[2]\n",
        "mes_28_dias=[2]\n",
        "if dia>0 and mes>0 and año>0:\n",
        "    print('Fecha válida')\n",
        "elif dia==31 and mes in mes_31_dias:\n",
        "  print('Fecha válida')\n",
        "elif dia==30 and mes in mes_30_dias:\n",
        "  print('Fecha válida')\n",
        "elif dia==29 and mes in mes_29_dias:\n",
        "  print('Fecha válida')\n",
        "elif dia==28 and mes in mes_28_dias:\n",
        "  print('Fecha válida')\n",
        "else:\n",
        "  print('Fecha inválida')"
      ],
      "metadata": {
        "colab": {
          "base_uri": "https://localhost:8080/"
        },
        "id": "qygeEcDC_8iM",
        "outputId": "abc1561e-ace3-45f1-ffc2-af177be036b2"
      },
      "execution_count": 27,
      "outputs": [
        {
          "output_type": "stream",
          "name": "stdout",
          "text": [
            "Ingrese una fecha\n",
            "Ingrese el día: 30\n",
            "Ingrese el mes en dígitos: 2\n",
            "Ingrese el año: 2025\n",
            "fecha ingresada dia 30 del mes 2 del año 2025\n",
            "Fecha válida\n"
          ]
        }
      ]
    },
    {
      "cell_type": "code",
      "source": [
        "# 7 - Para un estudio sobre la multiplicación de bacterias en una colonia, se recopiló el número de bacterias\n",
        "# multiplicadas por día y se puede observar a continuación: [1.2, 2.1, 3.3, 5.0, 7.8, 11.3, 16.6, 25.1, 37.8, 56.9].\n",
        "# Con estos valores, crea un código que genere una lista que contenga el porcentaje de crecimiento de bacterias por día,\n",
        "# comparando el número de bacterias en cada día con el número de bacterias del día anterior.\n",
        "# Sugerencia: para calcular el porcentaje de crecimiento, utiliza la siguiente ecuación:\n",
        "# 100 * (muestra_actual - muestra_anterior) / muestra_anterior.\n",
        "\n",
        "#crecimiento=[1.2, 2.1, 3.3, 5.0, 7.8, 11.3, 16.6, 25.1, 37.8, 56.9]\n",
        "#ubicacion=0\n",
        "#cantidad=len(crecimiento)\n",
        "#while ubicacion<cantidad:\n",
        "#  crecimiento[ubicacion]=(100*(crecimiento[ubicacion-1]/crecimiento[ubicacion]))\n",
        "#  ubicacion+=1\n",
        "#print(crecimiento)\n",
        "\n",
        "crecimiento = [1.2, 2.1, 3.3, 5.0, 7.8, 11.3, 16.6, 25.1, 37.8, 56.9]\n",
        "cantidad = len(crecimiento)\n",
        "crecimiento_porcentual = [0.0] * cantidad  # Inicializar una lista para los resultados\n",
        "\n",
        "for ubicacion in range(1, cantidad):\n",
        "    crecimiento_anterior = crecimiento[ubicacion - 1]\n",
        "    crecimiento_actual = crecimiento[ubicacion]\n",
        "    cambio_porcentual = 100 * (crecimiento_actual - crecimiento_anterior) / crecimiento_anterior\n",
        "    crecimiento_porcentual[ubicacion] = cambio_porcentual\n",
        "\n",
        "print(crecimiento_porcentual)\n",
        "\n"
      ],
      "metadata": {
        "id": "VkgRAS5EHz-C"
      },
      "execution_count": null,
      "outputs": []
    },
    {
      "cell_type": "code",
      "source": [
        "# 8 - Para una selección de productos alimenticios, debemos separar el conjunto de IDs proporcionados\n",
        "# por números enteros, sabiendo que los productos con ID par son dulces y los que tienen ID impar son amargos.\n",
        "# Crea un código que recoja 10 IDs. Luego, calcula y muestra la cantidad de productos dulces y amargos.\n",
        "productos_amargos=[]\n",
        "productos_dulces=[]\n",
        "contador=0\n",
        "dulces=()\n",
        "amargos=()\n",
        "while contador<10:\n",
        "  id=int(input('Ingrese el ID del producto: '))\n",
        "  if id%2==0:\n",
        "    productos_dulces.append(id)\n",
        "  else:\n",
        "    productos_amargos.append(id)\n",
        "  contador+=1\n",
        "dulces=len(productos_dulces)\n",
        "amargos=len(productos_amargos)\n",
        "print('Se ingresaron %d productos dulces y %d productos amargos'%(dulces,amargos))\n"
      ],
      "metadata": {
        "id": "GwBXdYdTNRZR"
      },
      "execution_count": null,
      "outputs": []
    },
    {
      "cell_type": "code",
      "source": [
        "# 9 - Desarrolla un programa que informe la puntuación de un estudiante de acuerdo con sus respuestas.\n",
        "# Debe pedir la respuesta del estudiante para cada pregunta y verificar si la respuesta coincide con el resultado.\n",
        "# Cada pregunta vale un punto y hay opciones A, B, C o D.\n",
        "# 01-D ; 02-A  ; 03-C ; 04-B ; 05-A ; 06-D ; 07-C ; 08-C ; 09-A ; 10-B\n",
        "\n",
        "respuestas_correctas = ['D', 'A', 'C', 'B', 'A', 'D', 'C', 'C', 'A', 'B']\n",
        "respuestas_estudiante = []\n",
        "for i in range(1, 11):\n",
        "    respuesta = input(f'Respuesta de la pregunta {i}: ')\n",
        "    respuestas_estudiante.append(respuesta.upper())\n",
        "print(respuestas_estudiante)\n",
        "puntuacion = 0\n",
        "for i in range(10):\n",
        "    if respuestas_estudiante[i] == respuestas_correctas[i]:\n",
        "      puntuacion += 1\n",
        "print(f'Puntuación del estudiante: {puntuacion} puntos')\n"
      ],
      "metadata": {
        "id": "NypJ93yJUCoS"
      },
      "execution_count": null,
      "outputs": []
    },
    {
      "cell_type": "code",
      "source": [
        "# 10 - Un instituto de meteorología desea realizar un estudio de la temperatura media de cada mes del año.\n",
        "# Para ello, debes crear un código que recoja y almacene esas temperaturas medias en una lista.\n",
        "# Luego, calcula el promedio anual de las temperaturas y muestra todas las temperaturas por encima del promedio anual\n",
        "# y en qué mes ocurrieron, mostrando los meses por su nombre (Enero, Febrero, etc.).\n",
        "\n",
        "temperaturas_medias = []\n",
        "for i in range (12):\n",
        "  temperatura=float(input('Ingrese la temperatura en grados celcius: '))\n",
        "  temperaturas_medias.append(temperatura)\n",
        "promedio=sum(temperaturas_medias)/len(temperaturas_medias)\n",
        "print(promedio)\n",
        "meses=['Enero','Febrero','Marzo','Abril','Mayo','Junio','Julio','Agosto','Septiembre','Octubre','Noviembre','Diciembre']\n",
        "for i in range(1,12):\n",
        "  if temperaturas_medias[i]>promedio:\n",
        "    print('El mes de ', meses[i], ' tiene una temperatura mayor al promedio anual')\n"
      ],
      "metadata": {
        "id": "FMCFhDMTzJbW"
      },
      "execution_count": null,
      "outputs": []
    },
    {
      "cell_type": "code",
      "source": [
        "# 11 - Una empresa de comercio electrónico está interesada en analizar las ventas de sus productos.\n",
        "# Los datos de ventas se han almacenado en un diccionario:\n",
        "# {'Producto A': 300, 'Producto B': 80, 'Producto C': 60, 'Producto D': 200, 'Producto E': 250, 'Producto F': 30}\n",
        "# Escribe un código que calcule el total de ventas y el producto más vendido.\n",
        "\n",
        "ventas={'Producto A': 300, 'Producto B': 80, 'Producto C': 60, 'Producto D': 200, 'Producto E': 250, 'Producto F': 30}\n",
        "total_ventas=sum(ventas.values())\n",
        "producto_mas_vendido=max(ventas, key=ventas.get)\n",
        "print('Total de ventas efectuadas %d y el producto mas vendido es: %s' %(total_ventas, producto_mas_vendido))\n"
      ],
      "metadata": {
        "colab": {
          "base_uri": "https://localhost:8080/"
        },
        "id": "A-Ee6NtVrM1r",
        "outputId": "82142da8-3417-4912-c562-442af380838f"
      },
      "execution_count": 12,
      "outputs": [
        {
          "output_type": "stream",
          "name": "stdout",
          "text": [
            "Total de ventas efectuadas 920 y el producto mas vendido es: Producto A\n"
          ]
        }
      ]
    },
    {
      "cell_type": "code",
      "source": [
        "# 12 - Se realizó una encuesta de mercado para decidir cuál diseño de marca infantil es más atractivo para los niños.\n",
        "# Los votos de la encuesta se pueden ver a continuación:\n",
        "# Tabla de votos de la marca\n",
        "# Diseño 1 - 1334 votos\n",
        "# Diseño 2 - 982 votos\n",
        "# Diseño 3 - 1751 votos\n",
        "# Diseño 4 - 210 votos\n",
        "# Diseño 5 - 1811 votos\n",
        "# Adapta los datos proporcionados a una estructura de diccionario.\n",
        "# A partir de ello, informa el diseño ganador y el porcentaje de votos recibidos.\n",
        "\n",
        "\n",
        "votos={'Diseño 1': 1334, 'Diseño 2': 982, 'Diseño 3': 1751, 'Diseño 4': 210, 'Diseño 5': 1811}\n",
        "total_votos=sum(votos.values())\n",
        "producto_mas_vendido=max(votos, key=votos.get)\n",
        "porcentaje=(votos[producto_mas_vendido]/total_votos)*100\n",
        "print('El diseño mas votado es el %s, con %.2f porciento de un total de %d votos escrutados' % (producto_mas_vendido, porcentaje,total_votos))"
      ],
      "metadata": {
        "colab": {
          "base_uri": "https://localhost:8080/"
        },
        "id": "Lv9YYJ6J1ZPq",
        "outputId": "733169a4-54b1-4d81-e101-e26eb4d01278"
      },
      "execution_count": 17,
      "outputs": [
        {
          "output_type": "stream",
          "name": "stdout",
          "text": [
            "El diseño mas votados es el Diseño 5, con 29.75 porciento de un total de 6088 votos escrutados\n"
          ]
        }
      ]
    },
    {
      "cell_type": "code",
      "source": [
        "# 13 - Los empleados de un departamento de tu empresa recibirán una bonificación del 10% de su salario\n",
        "# debido a un excelente rendimiento del equipo. El departamento de finanzas ha solicitado tu ayuda para\n",
        "# verificar las consecuencias financieras de esta bonificación en los recursos. Se te ha enviado una lista\n",
        "# con los salarios que recibirán la bonificación: [1172, 1644, 2617, 5130, 5532, 6341, 6650, 7238, 7685, 7782, 7903].\n",
        "# La bonificación de cada empleado no puede ser inferior a 200. En el código, convierte cada uno de los salarios\n",
        "# en claves de un diccionario y la bonificación de cada salario en el valor correspondiente. Luego, informa el gasto\n",
        "# total en bonificaciones, cuántos empleados recibieron la bonificación mínima y cuál fue el valor más alto de la\n",
        "# bonificación proporcionada.\n",
        "\n",
        "#Lista de sueldos bonificados y asignación de bono del 10% con mínimo de 200\n",
        "bonificaciones = {}\n",
        "for salario in [1172,1644, 2617, 5130, 5532, 6341, 6650, 7238, 7685, 7782, 7903]:\n",
        "  if salario*0.1<200:\n",
        "    bonificaciones[salario]=200\n",
        "  else:\n",
        "    bonificaciones[salario]=salario*0.1\n",
        "\n",
        "# Valor total de las bonificaciones\n",
        "total_bonificaciones=sum(bonificaciones.values())\n",
        "print('Suma total a entregar en bonificaciones: %.1f' % (total_bonificaciones))\n",
        "\n",
        "# Determina la cantidad de personas con el sueldo mínimo.\n",
        "trabajadores_bonificados_con_el_mínimo=0\n",
        "for bonificiación in bonificaciones.values():\n",
        "  if bonificiación==200:\n",
        "    trabajadores_bonificados_con_el_mínimo +=1\n",
        "print('Trabajadores con bonificación mínima: %d' %(trabajadores_bonificados_con_el_mínimo))\n",
        "\n",
        "# Determina la bonificación mas alta\n",
        "bonificacion_mas_alta=max(bonificaciones.values())\n",
        "print('Bonificación más alta: %.1f' %(bonificacion_mas_alta))\n"
      ],
      "metadata": {
        "colab": {
          "base_uri": "https://localhost:8080/"
        },
        "id": "CLFDRzMU4TQF",
        "outputId": "79f558d0-5d17-4287-f786-cff2f2fad77f"
      },
      "execution_count": 23,
      "outputs": [
        {
          "output_type": "stream",
          "name": "stdout",
          "text": [
            "Suma total a entregar en bonificaciones: 6087.8\n",
            "Trabajadores con bonificación mínima: 2\n",
            "Bonificación más alta: 790.3\n"
          ]
        }
      ]
    },
    {
      "cell_type": "code",
      "source": [
        "# 14 - Un equipo de científicos de datos está estudiando la diversidad biológica en un bosque.\n",
        "# El equipo recopiló información sobre el número de especies de plantas y animales en cada área\n",
        "# del bosque y almacenó estos datos en un diccionario. En él, la clave describe el área de los\n",
        "# datos y los valores en las listas corresponden a las especies de plantas y animales en esas áreas, respectivamente.\n",
        "# {'Área Norte': [2819, 7236], 'Área Leste': [1440, 9492], 'Área Sul': [5969, 7496], 'Área Oeste': [14446, 49688], 'Área Centro': [22558, 45148]}\n",
        "# Escribe un código para calcular el promedio de especies por área e identificar el área con la mayor diversidad biológica.\n",
        "# Sugerencia: utiliza las funciones incorporadas sum() y len().\n",
        "\n",
        "#diversidad={'Área Norte': [2819, 7236], 'Área Este': [1440, 9492], 'Área Sur': [5969, 7496], 'Área Weste': [14446, 49688], 'Área Centro': [22558, 45148]}\n",
        "#for area, especies in diversidad.items():\n",
        "#  total_especies=sum(especies)\n",
        "#  print('Total especies: %d' %(total_especies))\n",
        "#  cantidad_especies=len(especies)\n",
        "#  print('Cantidad de especies: %d'%(cantidad_especies))\n",
        "#  promedio=total_especies/cantidad_especies\n",
        "#  print(f'El promedio de especies en {area} es: {promedio}')\n",
        "\n",
        "\n",
        "diversidad={'Área Norte': [2819, 7236], 'Área Este': [1440, 9492], 'Área Sur': [5969, 7496], 'Área Weste': [14446, 49688], 'Área Centro': [22558, 45148]}\n",
        "\n",
        "# Calcular el promedio de especies por área\n",
        "promedios_por_area = {}\n",
        "for area, especies in diversidad.items():\n",
        "    total_especies = sum(especies)\n",
        "    cantidad_especies = len(especies)\n",
        "    promedio = total_especies / cantidad_especies\n",
        "    promedios_por_area[area] = promedio\n",
        "    print(f'El promedio de especies en {area} es: {promedio:.2f}')\n",
        "\n",
        "print(\"\\n--- Promedio de especies por área calculado ---\")\n",
        "\n",
        "# Calcular el promedio de especies por tipo (planta y animal)\n",
        "total_plantas = 0\n",
        "total_animales = 0\n",
        "total_areas = len(diversidad)\n",
        "\n",
        "for especies in diversidad.values():\n",
        "    total_plantas += especies[0]\n",
        "    total_animales += especies[1]\n",
        "\n",
        "promedio_plantas = total_plantas / total_areas\n",
        "promedio_animales = total_animales / total_areas\n",
        "\n",
        "print(f'\\nPromedio de especies de plantas en el bosque: {promedio_plantas:.2f}')\n",
        "print(f'Promedio de especies de animales en el bosque: {promedio_animales:.2f}')\n",
        "\n",
        "print(\"\\n--- Promedio de especies por tipo calculado ---\")\n",
        "\n",
        "# Identificar el área con la mayor diversidad biológica (mayor promedio)\n",
        "area_mayor_diversidad = max(promedios_por_area, key=promedios_por_area.get)\n",
        "mayor_promedio = promedios_por_area[area_mayor_diversidad]\n",
        "\n",
        "print(f'\\nEl área con la mayor diversidad biológica es: {area_mayor_diversidad} con un promedio de {mayor_promedio:.2f} especies.')\n",
        "\n",
        "print(\"\\n--- Área con mayor diversidad identificada ---\")\n"
      ],
      "metadata": {
        "colab": {
          "base_uri": "https://localhost:8080/"
        },
        "id": "yglHW9eEAxIT",
        "outputId": "2003cf2a-c946-44ce-affa-38157d2da4c2"
      },
      "execution_count": 35,
      "outputs": [
        {
          "output_type": "stream",
          "name": "stdout",
          "text": [
            "El promedio de especies en Área Norte es: 5027.50\n",
            "El promedio de especies en Área Este es: 5466.00\n",
            "El promedio de especies en Área Sur es: 6732.50\n",
            "El promedio de especies en Área Weste es: 32067.00\n",
            "El promedio de especies en Área Centro es: 33853.00\n",
            "\n",
            "--- Promedio de especies por área calculado ---\n",
            "\n",
            "Promedio de especies de plantas en el bosque: 9446.40\n",
            "Promedio de especies de animales en el bosque: 23812.00\n",
            "\n",
            "--- Promedio de especies por tipo calculado ---\n",
            "\n",
            "El área con la mayor diversidad biológica es: Área Centro con un promedio de 33853.00 especies.\n",
            "\n",
            "--- Área con mayor diversidad identificada ---\n"
          ]
        }
      ]
    },
    {
      "cell_type": "code",
      "source": [
        "# 15 - El departamento de Recursos Humanos de tu empresa te pidió ayuda para analizar las edades\n",
        "# de los colaboradores de 4 sectores de la empresa. Para ello, te proporcionaron los datos que entregremos.\n",
        "# Dado que cada sector tiene 10 colaboradores, construye un código que calcule la media de edad de cada sector,\n",
        "# la edad media general entre todos los sectores y cuántas personas están por encima de la edad media general.\n",
        "\n",
        "edades= {'Sector A': [22, 26, 30, 30, 35, 38, 40, 56, 57, 65], 'Sector B': [22, 24, 26, 33, 41, 49, 50, 54, 60, 64], 'Sector C': [23, 26, 26, 29, 34, 35, 36, 41, 52, 56],\n",
        " 'Sector D': [19, 20, 25, 27, 34, 39, 42, 44, 50, 65]}\n",
        "# Promedio de edad por sector\n",
        "for sector, lista_edades in edades.items():\n",
        "    total_edades_sector = sum(lista_edades)\n",
        "    cantidad_edades_sector = len(lista_edades)\n",
        "    promedio_sector = total_edades_sector / cantidad_edades_sector\n",
        "    print(f'El promedio de edades en {sector} es: {promedio_sector:.2f}')\n",
        "\n",
        "# Promedio general de edad\n",
        "total_edades_general = 0\n",
        "total_personas = 0\n",
        "for lista_edades in edades.values():  # Iteramos sobre los valores (listas) del diccionario 'edades'\n",
        "    total_edades_general += sum(lista_edades)\n",
        "    total_personas += len(lista_edades)\n",
        "promedio_general = total_edades_general / total_personas\n",
        "print(f'\\nEl promedio general de edades es: {promedio_general:.2f}')\n",
        "\n",
        "# Cantidad de personas por encima de la edad media general\n",
        "personas_encima_promedio = 0\n",
        "for lista_edades in edades.values():  # Iteramos sobre los valores (listas) del diccionario 'edades'\n",
        "    for edad in lista_edades:\n",
        "        if edad > promedio_general:\n",
        "            personas_encima_promedio += 1\n",
        "\n",
        "print(f'\\nCantidad de personas por encima de la edad media general: {personas_encima_promedio}')"
      ],
      "metadata": {
        "colab": {
          "base_uri": "https://localhost:8080/"
        },
        "id": "d-V2x2KXFr6R",
        "outputId": "e8b19b9e-384f-40b5-b45d-5c7c29329771"
      },
      "execution_count": 2,
      "outputs": [
        {
          "output_type": "stream",
          "name": "stdout",
          "text": [
            "El promedio de edades en Sector A es: 39.90\n",
            "El promedio de edades en Sector B es: 42.30\n",
            "El promedio de edades en Sector C es: 35.80\n",
            "El promedio de edades en Sector D es: 36.50\n",
            "\n",
            "El promedio general de edades es: 38.62\n",
            "\n",
            "Cantidad de personas por encima de la edad media general: 18\n"
          ]
        }
      ]
    },
    {
      "cell_type": "code",
      "source": [],
      "metadata": {
        "id": "axqHAn7pyvr_"
      },
      "execution_count": null,
      "outputs": []
    }
  ]
}